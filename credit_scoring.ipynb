{
  "cells": [
    {
      "cell_type": "markdown",
      "source": [
        "# Решение задачи \"Кредитный скоринг\""
      ],
      "metadata": {
        "id": "z79gbIw0bWJZ"
      }
    },
    {
      "cell_type": "markdown",
      "source": [
        "Задача состоит в том, чтобы по различным характеристикам клиентов спрогнозировать целевую переменную - имел клиент просрочку 90 и более дней или нет (и если имел, то банк не будет выдавать кредит этому клиенту, а иначе будет)."
      ],
      "metadata": {
        "id": "9VDkBu75nCLq"
      }
    },
    {
      "cell_type": "markdown",
      "source": [
        "## <font color='green'>1. Загрузка данных и их первичный анализ</font>"
      ],
      "metadata": {
        "id": "cgXJLC1Yjpnm"
      }
    },
    {
      "cell_type": "code",
      "execution_count": 1,
      "metadata": {
        "id": "wD3LYTXnhtwZ"
      },
      "outputs": [],
      "source": [
        "import pandas as pd\n",
        "import numpy as np\n",
        "from matplotlib import pyplot as plt\n",
        "from sklearn.linear_model import LogisticRegression\n",
        "\n",
        "import warnings\n",
        "warnings.filterwarnings(\"ignore\")"
      ]
    },
    {
      "cell_type": "code",
      "execution_count": 2,
      "metadata": {
        "id": "HWwIJ2AQhtwb",
        "colab": {
          "base_uri": "https://localhost:8080/"
        },
        "outputId": "77bca5d5-e199-4cc2-c051-7c7fdfa20523"
      },
      "outputs": [
        {
          "output_type": "stream",
          "name": "stdout",
          "text": [
            "--2023-02-26 21:40:46--  https://storage.yandexcloud.net/cloud-certs/CA.pem\n",
            "Resolving storage.yandexcloud.net (storage.yandexcloud.net)... 213.180.193.243, 2a02:6b8::1d9\n",
            "Connecting to storage.yandexcloud.net (storage.yandexcloud.net)|213.180.193.243|:443... connected.\n",
            "HTTP request sent, awaiting response... 200 OK\n",
            "Length: 3579 (3.5K) [application/x-x509-ca-cert]\n",
            "Saving to: ‘/root/.postgresql/root.crt’\n",
            "\n",
            "/root/.postgresql/r 100%[===================>]   3.50K  --.-KB/s    in 0s      \n",
            "\n",
            "2023-02-26 21:40:47 (910 MB/s) - ‘/root/.postgresql/root.crt’ saved [3579/3579]\n",
            "\n"
          ]
        }
      ],
      "source": [
        "!mkdir -p ~/.postgresql && \\\n",
        "wget \"https://storage.yandexcloud.net/cloud-certs/CA.pem\" \\\n",
        "    --output-document ~/.postgresql/root.crt && \\\n",
        "chmod 0600 ~/.postgresql/root.crt"
      ]
    },
    {
      "cell_type": "code",
      "source": [
        "!sudo apt update && sudo apt install --yes python3 python3-pip && \\\n",
        "!pip3 install psycopg2-binary"
      ],
      "metadata": {
        "id": "OAFi6whWi-so",
        "colab": {
          "base_uri": "https://localhost:8080/"
        },
        "outputId": "2a074db6-e010-4bcf-8be4-1b4e9594694a"
      },
      "execution_count": 3,
      "outputs": [
        {
          "output_type": "stream",
          "name": "stdout",
          "text": [
            "\u001b[33m\r0% [Working]\u001b[0m\r            \rGet:1 https://cloud.r-project.org/bin/linux/ubuntu focal-cran40/ InRelease [3,622 B]\n",
            "\u001b[33m\r0% [Connecting to archive.ubuntu.com (185.125.190.36)] [Connecting to security.\u001b[0m\r                                                                               \rIgn:2 https://developer.download.nvidia.com/compute/machine-learning/repos/ubuntu2004/x86_64  InRelease\n",
            "\r                                                                               \rHit:3 https://developer.download.nvidia.com/compute/cuda/repos/ubuntu2004/x86_64  InRelease\n",
            "Hit:4 https://developer.download.nvidia.com/compute/machine-learning/repos/ubuntu2004/x86_64  Release\n",
            "Hit:5 http://ppa.launchpad.net/c2d4u.team/c2d4u4.0+/ubuntu focal InRelease\n",
            "Get:6 http://security.ubuntu.com/ubuntu focal-security InRelease [114 kB]\n",
            "Hit:7 http://archive.ubuntu.com/ubuntu focal InRelease\n",
            "Get:8 http://archive.ubuntu.com/ubuntu focal-updates InRelease [114 kB]\n",
            "Hit:9 http://ppa.launchpad.net/cran/libgit2/ubuntu focal InRelease\n",
            "Hit:10 http://ppa.launchpad.net/deadsnakes/ppa/ubuntu focal InRelease\n",
            "Get:11 http://archive.ubuntu.com/ubuntu focal-backports InRelease [108 kB]\n",
            "Hit:12 http://ppa.launchpad.net/graphics-drivers/ppa/ubuntu focal InRelease\n",
            "Hit:13 http://ppa.launchpad.net/ubuntugis/ppa/ubuntu focal InRelease\n",
            "Get:15 http://security.ubuntu.com/ubuntu focal-security/universe amd64 Packages [1,000 kB]\n",
            "Get:16 http://archive.ubuntu.com/ubuntu focal-updates/main amd64 Packages [2,972 kB]\n",
            "Get:17 http://archive.ubuntu.com/ubuntu focal-updates/restricted amd64 Packages [2,069 kB]\n",
            "Get:18 http://archive.ubuntu.com/ubuntu focal-updates/universe amd64 Packages [1,299 kB]\n",
            "Fetched 7,679 kB in 9s (872 kB/s)\n",
            "Reading package lists... Done\n",
            "Building dependency tree       \n",
            "Reading state information... Done\n",
            "19 packages can be upgraded. Run 'apt list --upgradable' to see them.\n",
            "Reading package lists... Done\n",
            "Building dependency tree       \n",
            "Reading state information... Done\n",
            "python3 is already the newest version (3.8.2-0ubuntu2).\n",
            "python3 set to manually installed.\n",
            "The following additional packages will be installed:\n",
            "  python-pip-whl python3-setuptools python3-wheel\n",
            "Suggested packages:\n",
            "  python-setuptools-doc\n",
            "The following NEW packages will be installed:\n",
            "  python-pip-whl python3-pip python3-setuptools python3-wheel\n",
            "0 upgraded, 4 newly installed, 0 to remove and 19 not upgraded.\n",
            "Need to get 2,389 kB of archives.\n",
            "After this operation, 4,933 kB of additional disk space will be used.\n",
            "Get:1 http://archive.ubuntu.com/ubuntu focal-updates/universe amd64 python-pip-whl all 20.0.2-5ubuntu1.7 [1,805 kB]\n",
            "Get:2 http://archive.ubuntu.com/ubuntu focal-updates/main amd64 python3-setuptools all 45.2.0-1ubuntu0.1 [330 kB]\n",
            "Get:3 http://archive.ubuntu.com/ubuntu focal-updates/universe amd64 python3-wheel all 0.34.2-1ubuntu0.1 [23.9 kB]\n",
            "Get:4 http://archive.ubuntu.com/ubuntu focal-updates/universe amd64 python3-pip all 20.0.2-5ubuntu1.7 [230 kB]\n",
            "Fetched 2,389 kB in 1s (1,639 kB/s)\n",
            "debconf: unable to initialize frontend: Dialog\n",
            "debconf: (No usable dialog-like program is installed, so the dialog based frontend cannot be used. at /usr/share/perl5/Debconf/FrontEnd/Dialog.pm line 76, <> line 4.)\n",
            "debconf: falling back to frontend: Readline\n",
            "debconf: unable to initialize frontend: Readline\n",
            "debconf: (This frontend requires a controlling tty.)\n",
            "debconf: falling back to frontend: Teletype\n",
            "dpkg-preconfigure: unable to re-open stdin: \n",
            "Selecting previously unselected package python-pip-whl.\n",
            "(Reading database ... 128208 files and directories currently installed.)\n",
            "Preparing to unpack .../python-pip-whl_20.0.2-5ubuntu1.7_all.deb ...\n",
            "Unpacking python-pip-whl (20.0.2-5ubuntu1.7) ...\n",
            "Selecting previously unselected package python3-setuptools.\n",
            "Preparing to unpack .../python3-setuptools_45.2.0-1ubuntu0.1_all.deb ...\n",
            "Unpacking python3-setuptools (45.2.0-1ubuntu0.1) ...\n",
            "Selecting previously unselected package python3-wheel.\n",
            "Preparing to unpack .../python3-wheel_0.34.2-1ubuntu0.1_all.deb ...\n",
            "Unpacking python3-wheel (0.34.2-1ubuntu0.1) ...\n",
            "Selecting previously unselected package python3-pip.\n",
            "Preparing to unpack .../python3-pip_20.0.2-5ubuntu1.7_all.deb ...\n",
            "Unpacking python3-pip (20.0.2-5ubuntu1.7) ...\n",
            "Setting up python3-setuptools (45.2.0-1ubuntu0.1) ...\n",
            "Setting up python3-wheel (0.34.2-1ubuntu0.1) ...\n",
            "Setting up python-pip-whl (20.0.2-5ubuntu1.7) ...\n",
            "Setting up python3-pip (20.0.2-5ubuntu1.7) ...\n",
            "Processing triggers for man-db (2.9.1-1) ...\n",
            "/bin/bash: !pip3: command not found\n"
          ]
        }
      ]
    },
    {
      "cell_type": "code",
      "source": [
        "import psycopg2\n",
        "\n",
        "conn = psycopg2.connect(\"\"\"\n",
        "    host=rc1b-70q90cunwkzx49mj.mdb.yandexcloud.net\n",
        "    port=6432\n",
        "    sslmode=verify-full\n",
        "    dbname=db_clients\n",
        "    user=mlhs_student\n",
        "    password=mlhs_student\n",
        "    target_session_attrs=read-write\n",
        "\"\"\")"
      ],
      "metadata": {
        "id": "7efd5Dz0jBYo"
      },
      "execution_count": 4,
      "outputs": []
    },
    {
      "cell_type": "code",
      "source": [
        "import pandas as pd\n",
        "\n",
        "query = \"SELECT * from public.credit_scoring\"\n",
        "data = pd.read_sql_query(query, conn)\n"
      ],
      "metadata": {
        "id": "Z4QXHJtvjG5G"
      },
      "execution_count": 5,
      "outputs": []
    },
    {
      "cell_type": "markdown",
      "source": [
        "# **Логистическая регрессия**"
      ],
      "metadata": {
        "id": "sFn8aA7XtVsX"
      }
    },
    {
      "cell_type": "markdown",
      "source": [
        "Описание данных скоринг:\n",
        "\n",
        "* **SeriousDlqin2yrs**: Клиент имел просрочку 90 и более дней\n",
        "\n",
        "\n",
        "* **RevolvingUtilizationOfUnsecuredLines**: Общий баланс средств (общий баланс по кредитным картам и личным кредитным линиям, за исключением недвижимости и задолженности без рассрочки, такой как автокредиты, деленный на сумму кредитных лимитов).\n",
        "* **age**: Возраст заемщика\n",
        "* **NumberOfTime30-59DaysPastDueNotWorse**: Сколько раз за последние 2 года наблюдалась просрочка 30-59 дней.\n",
        "* **DebtRatio**: Ежемесячные расходы (платеж по долгам, алиментам, расходы на проживания) деленные на месячный доход.\n",
        "* **MonthlyIncome**: Ежемесячный доход.\n",
        "* **NumberOfOpenCreditLinesAndLoans**: Количество открытых кредитов (напрмер, автокредит или ипотека) и кредитных карт.\n",
        "* **NumberOfTimes90DaysLate**: Сколько раз наблюдалась просрочка (90 и более дней).\n",
        "* **NumberRealEstateLoansOrLines**: Количество кредиов (в том числе под залог жилья)\n",
        "* **NumberOfTime60-89DaysPastDueNotWorse**: Сколько раз за последние 2 года заемщик задержал платеж на 60-89 дней.\n",
        "* **NumberOfDependents**: Количество иждивенцев на попечении (супруги, дети и др).\n",
        "\n",
        "\n",
        "\n"
      ],
      "metadata": {
        "id": "SW_Rpf6HRZH0"
      }
    },
    {
      "cell_type": "code",
      "source": [
        "data.head()"
      ],
      "metadata": {
        "id": "3WWFMf7BRYFq",
        "colab": {
          "base_uri": "https://localhost:8080/",
          "height": 288
        },
        "outputId": "2e8432f3-f9d5-4164-d038-3d6aa5492160"
      },
      "execution_count": 6,
      "outputs": [
        {
          "output_type": "execute_result",
          "data": {
            "text/plain": [
              "   SeriousDlqin2yrs  RevolvingUtilizationOfUnsecuredLines  age  \\\n",
              "0                 1                              0.766127   45   \n",
              "1                 0                              0.957151   40   \n",
              "2                 0                              0.658180   38   \n",
              "3                 0                              0.233810   30   \n",
              "4                 0                              0.907239   49   \n",
              "\n",
              "   NumberOfTime30-59DaysPastDueNotWorse  DebtRatio  MonthlyIncome  \\\n",
              "0                                     2   0.802982         9120.0   \n",
              "1                                     0   0.121876         2600.0   \n",
              "2                                     1   0.085113         3042.0   \n",
              "3                                     0   0.036050         3300.0   \n",
              "4                                     1   0.024926        63588.0   \n",
              "\n",
              "   NumberOfOpenCreditLinesAndLoans  NumberOfTimes90DaysLate  \\\n",
              "0                               13                        0   \n",
              "1                                4                        0   \n",
              "2                                2                        1   \n",
              "3                                5                        0   \n",
              "4                                7                        0   \n",
              "\n",
              "   NumberRealEstateLoansOrLines  NumberOfTime60-89DaysPastDueNotWorse  \\\n",
              "0                             6                                     0   \n",
              "1                             0                                     0   \n",
              "2                             0                                     0   \n",
              "3                             0                                     0   \n",
              "4                             1                                     0   \n",
              "\n",
              "   NumberOfDependents  \n",
              "0                 2.0  \n",
              "1                 1.0  \n",
              "2                 0.0  \n",
              "3                 0.0  \n",
              "4                 0.0  "
            ],
            "text/html": [
              "\n",
              "  <div id=\"df-1411a8fb-201c-462a-af50-d378a469a6b8\">\n",
              "    <div class=\"colab-df-container\">\n",
              "      <div>\n",
              "<style scoped>\n",
              "    .dataframe tbody tr th:only-of-type {\n",
              "        vertical-align: middle;\n",
              "    }\n",
              "\n",
              "    .dataframe tbody tr th {\n",
              "        vertical-align: top;\n",
              "    }\n",
              "\n",
              "    .dataframe thead th {\n",
              "        text-align: right;\n",
              "    }\n",
              "</style>\n",
              "<table border=\"1\" class=\"dataframe\">\n",
              "  <thead>\n",
              "    <tr style=\"text-align: right;\">\n",
              "      <th></th>\n",
              "      <th>SeriousDlqin2yrs</th>\n",
              "      <th>RevolvingUtilizationOfUnsecuredLines</th>\n",
              "      <th>age</th>\n",
              "      <th>NumberOfTime30-59DaysPastDueNotWorse</th>\n",
              "      <th>DebtRatio</th>\n",
              "      <th>MonthlyIncome</th>\n",
              "      <th>NumberOfOpenCreditLinesAndLoans</th>\n",
              "      <th>NumberOfTimes90DaysLate</th>\n",
              "      <th>NumberRealEstateLoansOrLines</th>\n",
              "      <th>NumberOfTime60-89DaysPastDueNotWorse</th>\n",
              "      <th>NumberOfDependents</th>\n",
              "    </tr>\n",
              "  </thead>\n",
              "  <tbody>\n",
              "    <tr>\n",
              "      <th>0</th>\n",
              "      <td>1</td>\n",
              "      <td>0.766127</td>\n",
              "      <td>45</td>\n",
              "      <td>2</td>\n",
              "      <td>0.802982</td>\n",
              "      <td>9120.0</td>\n",
              "      <td>13</td>\n",
              "      <td>0</td>\n",
              "      <td>6</td>\n",
              "      <td>0</td>\n",
              "      <td>2.0</td>\n",
              "    </tr>\n",
              "    <tr>\n",
              "      <th>1</th>\n",
              "      <td>0</td>\n",
              "      <td>0.957151</td>\n",
              "      <td>40</td>\n",
              "      <td>0</td>\n",
              "      <td>0.121876</td>\n",
              "      <td>2600.0</td>\n",
              "      <td>4</td>\n",
              "      <td>0</td>\n",
              "      <td>0</td>\n",
              "      <td>0</td>\n",
              "      <td>1.0</td>\n",
              "    </tr>\n",
              "    <tr>\n",
              "      <th>2</th>\n",
              "      <td>0</td>\n",
              "      <td>0.658180</td>\n",
              "      <td>38</td>\n",
              "      <td>1</td>\n",
              "      <td>0.085113</td>\n",
              "      <td>3042.0</td>\n",
              "      <td>2</td>\n",
              "      <td>1</td>\n",
              "      <td>0</td>\n",
              "      <td>0</td>\n",
              "      <td>0.0</td>\n",
              "    </tr>\n",
              "    <tr>\n",
              "      <th>3</th>\n",
              "      <td>0</td>\n",
              "      <td>0.233810</td>\n",
              "      <td>30</td>\n",
              "      <td>0</td>\n",
              "      <td>0.036050</td>\n",
              "      <td>3300.0</td>\n",
              "      <td>5</td>\n",
              "      <td>0</td>\n",
              "      <td>0</td>\n",
              "      <td>0</td>\n",
              "      <td>0.0</td>\n",
              "    </tr>\n",
              "    <tr>\n",
              "      <th>4</th>\n",
              "      <td>0</td>\n",
              "      <td>0.907239</td>\n",
              "      <td>49</td>\n",
              "      <td>1</td>\n",
              "      <td>0.024926</td>\n",
              "      <td>63588.0</td>\n",
              "      <td>7</td>\n",
              "      <td>0</td>\n",
              "      <td>1</td>\n",
              "      <td>0</td>\n",
              "      <td>0.0</td>\n",
              "    </tr>\n",
              "  </tbody>\n",
              "</table>\n",
              "</div>\n",
              "      <button class=\"colab-df-convert\" onclick=\"convertToInteractive('df-1411a8fb-201c-462a-af50-d378a469a6b8')\"\n",
              "              title=\"Convert this dataframe to an interactive table.\"\n",
              "              style=\"display:none;\">\n",
              "        \n",
              "  <svg xmlns=\"http://www.w3.org/2000/svg\" height=\"24px\"viewBox=\"0 0 24 24\"\n",
              "       width=\"24px\">\n",
              "    <path d=\"M0 0h24v24H0V0z\" fill=\"none\"/>\n",
              "    <path d=\"M18.56 5.44l.94 2.06.94-2.06 2.06-.94-2.06-.94-.94-2.06-.94 2.06-2.06.94zm-11 1L8.5 8.5l.94-2.06 2.06-.94-2.06-.94L8.5 2.5l-.94 2.06-2.06.94zm10 10l.94 2.06.94-2.06 2.06-.94-2.06-.94-.94-2.06-.94 2.06-2.06.94z\"/><path d=\"M17.41 7.96l-1.37-1.37c-.4-.4-.92-.59-1.43-.59-.52 0-1.04.2-1.43.59L10.3 9.45l-7.72 7.72c-.78.78-.78 2.05 0 2.83L4 21.41c.39.39.9.59 1.41.59.51 0 1.02-.2 1.41-.59l7.78-7.78 2.81-2.81c.8-.78.8-2.07 0-2.86zM5.41 20L4 18.59l7.72-7.72 1.47 1.35L5.41 20z\"/>\n",
              "  </svg>\n",
              "      </button>\n",
              "      \n",
              "  <style>\n",
              "    .colab-df-container {\n",
              "      display:flex;\n",
              "      flex-wrap:wrap;\n",
              "      gap: 12px;\n",
              "    }\n",
              "\n",
              "    .colab-df-convert {\n",
              "      background-color: #E8F0FE;\n",
              "      border: none;\n",
              "      border-radius: 50%;\n",
              "      cursor: pointer;\n",
              "      display: none;\n",
              "      fill: #1967D2;\n",
              "      height: 32px;\n",
              "      padding: 0 0 0 0;\n",
              "      width: 32px;\n",
              "    }\n",
              "\n",
              "    .colab-df-convert:hover {\n",
              "      background-color: #E2EBFA;\n",
              "      box-shadow: 0px 1px 2px rgba(60, 64, 67, 0.3), 0px 1px 3px 1px rgba(60, 64, 67, 0.15);\n",
              "      fill: #174EA6;\n",
              "    }\n",
              "\n",
              "    [theme=dark] .colab-df-convert {\n",
              "      background-color: #3B4455;\n",
              "      fill: #D2E3FC;\n",
              "    }\n",
              "\n",
              "    [theme=dark] .colab-df-convert:hover {\n",
              "      background-color: #434B5C;\n",
              "      box-shadow: 0px 1px 3px 1px rgba(0, 0, 0, 0.15);\n",
              "      filter: drop-shadow(0px 1px 2px rgba(0, 0, 0, 0.3));\n",
              "      fill: #FFFFFF;\n",
              "    }\n",
              "  </style>\n",
              "\n",
              "      <script>\n",
              "        const buttonEl =\n",
              "          document.querySelector('#df-1411a8fb-201c-462a-af50-d378a469a6b8 button.colab-df-convert');\n",
              "        buttonEl.style.display =\n",
              "          google.colab.kernel.accessAllowed ? 'block' : 'none';\n",
              "\n",
              "        async function convertToInteractive(key) {\n",
              "          const element = document.querySelector('#df-1411a8fb-201c-462a-af50-d378a469a6b8');\n",
              "          const dataTable =\n",
              "            await google.colab.kernel.invokeFunction('convertToInteractive',\n",
              "                                                     [key], {});\n",
              "          if (!dataTable) return;\n",
              "\n",
              "          const docLinkHtml = 'Like what you see? Visit the ' +\n",
              "            '<a target=\"_blank\" href=https://colab.research.google.com/notebooks/data_table.ipynb>data table notebook</a>'\n",
              "            + ' to learn more about interactive tables.';\n",
              "          element.innerHTML = '';\n",
              "          dataTable['output_type'] = 'display_data';\n",
              "          await google.colab.output.renderOutput(dataTable, element);\n",
              "          const docLink = document.createElement('div');\n",
              "          docLink.innerHTML = docLinkHtml;\n",
              "          element.appendChild(docLink);\n",
              "        }\n",
              "      </script>\n",
              "    </div>\n",
              "  </div>\n",
              "  "
            ]
          },
          "metadata": {},
          "execution_count": 6
        }
      ]
    },
    {
      "cell_type": "code",
      "source": [
        "data.shape"
      ],
      "metadata": {
        "colab": {
          "base_uri": "https://localhost:8080/"
        },
        "id": "bZzA1TJh20qF",
        "outputId": "ad3829c0-022d-4272-dc3d-41215a5acb70"
      },
      "execution_count": 7,
      "outputs": [
        {
          "output_type": "execute_result",
          "data": {
            "text/plain": [
              "(150000, 11)"
            ]
          },
          "metadata": {},
          "execution_count": 7
        }
      ]
    },
    {
      "cell_type": "code",
      "source": [
        "data.info()"
      ],
      "metadata": {
        "id": "1FjpaGIa0mjt",
        "colab": {
          "base_uri": "https://localhost:8080/"
        },
        "outputId": "76a1a2ad-307a-435a-ea3b-82ae60ac7862"
      },
      "execution_count": 8,
      "outputs": [
        {
          "output_type": "stream",
          "name": "stdout",
          "text": [
            "<class 'pandas.core.frame.DataFrame'>\n",
            "RangeIndex: 150000 entries, 0 to 149999\n",
            "Data columns (total 11 columns):\n",
            " #   Column                                Non-Null Count   Dtype  \n",
            "---  ------                                --------------   -----  \n",
            " 0   SeriousDlqin2yrs                      150000 non-null  int64  \n",
            " 1   RevolvingUtilizationOfUnsecuredLines  150000 non-null  float64\n",
            " 2   age                                   150000 non-null  int64  \n",
            " 3   NumberOfTime30-59DaysPastDueNotWorse  150000 non-null  int64  \n",
            " 4   DebtRatio                             150000 non-null  float64\n",
            " 5   MonthlyIncome                         120269 non-null  float64\n",
            " 6   NumberOfOpenCreditLinesAndLoans       150000 non-null  int64  \n",
            " 7   NumberOfTimes90DaysLate               150000 non-null  int64  \n",
            " 8   NumberRealEstateLoansOrLines          150000 non-null  int64  \n",
            " 9   NumberOfTime60-89DaysPastDueNotWorse  150000 non-null  int64  \n",
            " 10  NumberOfDependents                    146076 non-null  float64\n",
            "dtypes: float64(4), int64(7)\n",
            "memory usage: 12.6 MB\n"
          ]
        }
      ]
    },
    {
      "cell_type": "code",
      "source": [
        "data = data.drop_duplicates()"
      ],
      "metadata": {
        "id": "__icQYdt27xF"
      },
      "execution_count": 9,
      "outputs": []
    },
    {
      "cell_type": "code",
      "source": [
        "data.shape"
      ],
      "metadata": {
        "colab": {
          "base_uri": "https://localhost:8080/"
        },
        "id": "Dn8Ua5mM3Ncu",
        "outputId": "66dc113c-c0ee-4fd0-b629-19b72f9eb142"
      },
      "execution_count": 10,
      "outputs": [
        {
          "output_type": "execute_result",
          "data": {
            "text/plain": [
              "(149391, 11)"
            ]
          },
          "metadata": {},
          "execution_count": 10
        }
      ]
    },
    {
      "cell_type": "code",
      "source": [
        "data.describe()"
      ],
      "metadata": {
        "id": "P5gTueoAk-U9",
        "colab": {
          "base_uri": "https://localhost:8080/",
          "height": 382
        },
        "outputId": "42361091-d522-4aaa-f474-f37d1b169be2"
      },
      "execution_count": 11,
      "outputs": [
        {
          "output_type": "execute_result",
          "data": {
            "text/plain": [
              "       SeriousDlqin2yrs  RevolvingUtilizationOfUnsecuredLines            age  \\\n",
              "count     149391.000000                         149391.000000  149391.000000   \n",
              "mean           0.066999                              6.071087      52.306237   \n",
              "std            0.250021                            250.263672      14.725962   \n",
              "min            0.000000                              0.000000       0.000000   \n",
              "25%            0.000000                              0.030132      41.000000   \n",
              "50%            0.000000                              0.154235      52.000000   \n",
              "75%            0.000000                              0.556494      63.000000   \n",
              "max            1.000000                          50708.000000     109.000000   \n",
              "\n",
              "       NumberOfTime30-59DaysPastDueNotWorse      DebtRatio  MonthlyIncome  \\\n",
              "count                         149391.000000  149391.000000   1.201700e+05   \n",
              "mean                               0.393886     354.436740   6.675098e+03   \n",
              "std                                3.852953    2041.843455   1.438958e+04   \n",
              "min                                0.000000       0.000000   0.000000e+00   \n",
              "25%                                0.000000       0.177441   3.400000e+03   \n",
              "50%                                0.000000       0.368234   5.400000e+03   \n",
              "75%                                0.000000       0.875279   8.250000e+03   \n",
              "max                               98.000000  329664.000000   3.008750e+06   \n",
              "\n",
              "       NumberOfOpenCreditLinesAndLoans  NumberOfTimes90DaysLate  \\\n",
              "count                    149391.000000            149391.000000   \n",
              "mean                          8.480892                 0.238120   \n",
              "std                           5.136515                 3.826165   \n",
              "min                           0.000000                 0.000000   \n",
              "25%                           5.000000                 0.000000   \n",
              "50%                           8.000000                 0.000000   \n",
              "75%                          11.000000                 0.000000   \n",
              "max                          58.000000                98.000000   \n",
              "\n",
              "       NumberRealEstateLoansOrLines  NumberOfTime60-89DaysPastDueNotWorse  \\\n",
              "count                 149391.000000                         149391.000000   \n",
              "mean                       1.022391                              0.212503   \n",
              "std                        1.130196                              3.810523   \n",
              "min                        0.000000                              0.000000   \n",
              "25%                        0.000000                              0.000000   \n",
              "50%                        1.000000                              0.000000   \n",
              "75%                        2.000000                              0.000000   \n",
              "max                       54.000000                             98.000000   \n",
              "\n",
              "       NumberOfDependents  \n",
              "count       145563.000000  \n",
              "mean             0.759863  \n",
              "std              1.116141  \n",
              "min              0.000000  \n",
              "25%              0.000000  \n",
              "50%              0.000000  \n",
              "75%              1.000000  \n",
              "max             20.000000  "
            ],
            "text/html": [
              "\n",
              "  <div id=\"df-8ada775c-9313-4f8c-8a23-96db0232970b\">\n",
              "    <div class=\"colab-df-container\">\n",
              "      <div>\n",
              "<style scoped>\n",
              "    .dataframe tbody tr th:only-of-type {\n",
              "        vertical-align: middle;\n",
              "    }\n",
              "\n",
              "    .dataframe tbody tr th {\n",
              "        vertical-align: top;\n",
              "    }\n",
              "\n",
              "    .dataframe thead th {\n",
              "        text-align: right;\n",
              "    }\n",
              "</style>\n",
              "<table border=\"1\" class=\"dataframe\">\n",
              "  <thead>\n",
              "    <tr style=\"text-align: right;\">\n",
              "      <th></th>\n",
              "      <th>SeriousDlqin2yrs</th>\n",
              "      <th>RevolvingUtilizationOfUnsecuredLines</th>\n",
              "      <th>age</th>\n",
              "      <th>NumberOfTime30-59DaysPastDueNotWorse</th>\n",
              "      <th>DebtRatio</th>\n",
              "      <th>MonthlyIncome</th>\n",
              "      <th>NumberOfOpenCreditLinesAndLoans</th>\n",
              "      <th>NumberOfTimes90DaysLate</th>\n",
              "      <th>NumberRealEstateLoansOrLines</th>\n",
              "      <th>NumberOfTime60-89DaysPastDueNotWorse</th>\n",
              "      <th>NumberOfDependents</th>\n",
              "    </tr>\n",
              "  </thead>\n",
              "  <tbody>\n",
              "    <tr>\n",
              "      <th>count</th>\n",
              "      <td>149391.000000</td>\n",
              "      <td>149391.000000</td>\n",
              "      <td>149391.000000</td>\n",
              "      <td>149391.000000</td>\n",
              "      <td>149391.000000</td>\n",
              "      <td>1.201700e+05</td>\n",
              "      <td>149391.000000</td>\n",
              "      <td>149391.000000</td>\n",
              "      <td>149391.000000</td>\n",
              "      <td>149391.000000</td>\n",
              "      <td>145563.000000</td>\n",
              "    </tr>\n",
              "    <tr>\n",
              "      <th>mean</th>\n",
              "      <td>0.066999</td>\n",
              "      <td>6.071087</td>\n",
              "      <td>52.306237</td>\n",
              "      <td>0.393886</td>\n",
              "      <td>354.436740</td>\n",
              "      <td>6.675098e+03</td>\n",
              "      <td>8.480892</td>\n",
              "      <td>0.238120</td>\n",
              "      <td>1.022391</td>\n",
              "      <td>0.212503</td>\n",
              "      <td>0.759863</td>\n",
              "    </tr>\n",
              "    <tr>\n",
              "      <th>std</th>\n",
              "      <td>0.250021</td>\n",
              "      <td>250.263672</td>\n",
              "      <td>14.725962</td>\n",
              "      <td>3.852953</td>\n",
              "      <td>2041.843455</td>\n",
              "      <td>1.438958e+04</td>\n",
              "      <td>5.136515</td>\n",
              "      <td>3.826165</td>\n",
              "      <td>1.130196</td>\n",
              "      <td>3.810523</td>\n",
              "      <td>1.116141</td>\n",
              "    </tr>\n",
              "    <tr>\n",
              "      <th>min</th>\n",
              "      <td>0.000000</td>\n",
              "      <td>0.000000</td>\n",
              "      <td>0.000000</td>\n",
              "      <td>0.000000</td>\n",
              "      <td>0.000000</td>\n",
              "      <td>0.000000e+00</td>\n",
              "      <td>0.000000</td>\n",
              "      <td>0.000000</td>\n",
              "      <td>0.000000</td>\n",
              "      <td>0.000000</td>\n",
              "      <td>0.000000</td>\n",
              "    </tr>\n",
              "    <tr>\n",
              "      <th>25%</th>\n",
              "      <td>0.000000</td>\n",
              "      <td>0.030132</td>\n",
              "      <td>41.000000</td>\n",
              "      <td>0.000000</td>\n",
              "      <td>0.177441</td>\n",
              "      <td>3.400000e+03</td>\n",
              "      <td>5.000000</td>\n",
              "      <td>0.000000</td>\n",
              "      <td>0.000000</td>\n",
              "      <td>0.000000</td>\n",
              "      <td>0.000000</td>\n",
              "    </tr>\n",
              "    <tr>\n",
              "      <th>50%</th>\n",
              "      <td>0.000000</td>\n",
              "      <td>0.154235</td>\n",
              "      <td>52.000000</td>\n",
              "      <td>0.000000</td>\n",
              "      <td>0.368234</td>\n",
              "      <td>5.400000e+03</td>\n",
              "      <td>8.000000</td>\n",
              "      <td>0.000000</td>\n",
              "      <td>1.000000</td>\n",
              "      <td>0.000000</td>\n",
              "      <td>0.000000</td>\n",
              "    </tr>\n",
              "    <tr>\n",
              "      <th>75%</th>\n",
              "      <td>0.000000</td>\n",
              "      <td>0.556494</td>\n",
              "      <td>63.000000</td>\n",
              "      <td>0.000000</td>\n",
              "      <td>0.875279</td>\n",
              "      <td>8.250000e+03</td>\n",
              "      <td>11.000000</td>\n",
              "      <td>0.000000</td>\n",
              "      <td>2.000000</td>\n",
              "      <td>0.000000</td>\n",
              "      <td>1.000000</td>\n",
              "    </tr>\n",
              "    <tr>\n",
              "      <th>max</th>\n",
              "      <td>1.000000</td>\n",
              "      <td>50708.000000</td>\n",
              "      <td>109.000000</td>\n",
              "      <td>98.000000</td>\n",
              "      <td>329664.000000</td>\n",
              "      <td>3.008750e+06</td>\n",
              "      <td>58.000000</td>\n",
              "      <td>98.000000</td>\n",
              "      <td>54.000000</td>\n",
              "      <td>98.000000</td>\n",
              "      <td>20.000000</td>\n",
              "    </tr>\n",
              "  </tbody>\n",
              "</table>\n",
              "</div>\n",
              "      <button class=\"colab-df-convert\" onclick=\"convertToInteractive('df-8ada775c-9313-4f8c-8a23-96db0232970b')\"\n",
              "              title=\"Convert this dataframe to an interactive table.\"\n",
              "              style=\"display:none;\">\n",
              "        \n",
              "  <svg xmlns=\"http://www.w3.org/2000/svg\" height=\"24px\"viewBox=\"0 0 24 24\"\n",
              "       width=\"24px\">\n",
              "    <path d=\"M0 0h24v24H0V0z\" fill=\"none\"/>\n",
              "    <path d=\"M18.56 5.44l.94 2.06.94-2.06 2.06-.94-2.06-.94-.94-2.06-.94 2.06-2.06.94zm-11 1L8.5 8.5l.94-2.06 2.06-.94-2.06-.94L8.5 2.5l-.94 2.06-2.06.94zm10 10l.94 2.06.94-2.06 2.06-.94-2.06-.94-.94-2.06-.94 2.06-2.06.94z\"/><path d=\"M17.41 7.96l-1.37-1.37c-.4-.4-.92-.59-1.43-.59-.52 0-1.04.2-1.43.59L10.3 9.45l-7.72 7.72c-.78.78-.78 2.05 0 2.83L4 21.41c.39.39.9.59 1.41.59.51 0 1.02-.2 1.41-.59l7.78-7.78 2.81-2.81c.8-.78.8-2.07 0-2.86zM5.41 20L4 18.59l7.72-7.72 1.47 1.35L5.41 20z\"/>\n",
              "  </svg>\n",
              "      </button>\n",
              "      \n",
              "  <style>\n",
              "    .colab-df-container {\n",
              "      display:flex;\n",
              "      flex-wrap:wrap;\n",
              "      gap: 12px;\n",
              "    }\n",
              "\n",
              "    .colab-df-convert {\n",
              "      background-color: #E8F0FE;\n",
              "      border: none;\n",
              "      border-radius: 50%;\n",
              "      cursor: pointer;\n",
              "      display: none;\n",
              "      fill: #1967D2;\n",
              "      height: 32px;\n",
              "      padding: 0 0 0 0;\n",
              "      width: 32px;\n",
              "    }\n",
              "\n",
              "    .colab-df-convert:hover {\n",
              "      background-color: #E2EBFA;\n",
              "      box-shadow: 0px 1px 2px rgba(60, 64, 67, 0.3), 0px 1px 3px 1px rgba(60, 64, 67, 0.15);\n",
              "      fill: #174EA6;\n",
              "    }\n",
              "\n",
              "    [theme=dark] .colab-df-convert {\n",
              "      background-color: #3B4455;\n",
              "      fill: #D2E3FC;\n",
              "    }\n",
              "\n",
              "    [theme=dark] .colab-df-convert:hover {\n",
              "      background-color: #434B5C;\n",
              "      box-shadow: 0px 1px 3px 1px rgba(0, 0, 0, 0.15);\n",
              "      filter: drop-shadow(0px 1px 2px rgba(0, 0, 0, 0.3));\n",
              "      fill: #FFFFFF;\n",
              "    }\n",
              "  </style>\n",
              "\n",
              "      <script>\n",
              "        const buttonEl =\n",
              "          document.querySelector('#df-8ada775c-9313-4f8c-8a23-96db0232970b button.colab-df-convert');\n",
              "        buttonEl.style.display =\n",
              "          google.colab.kernel.accessAllowed ? 'block' : 'none';\n",
              "\n",
              "        async function convertToInteractive(key) {\n",
              "          const element = document.querySelector('#df-8ada775c-9313-4f8c-8a23-96db0232970b');\n",
              "          const dataTable =\n",
              "            await google.colab.kernel.invokeFunction('convertToInteractive',\n",
              "                                                     [key], {});\n",
              "          if (!dataTable) return;\n",
              "\n",
              "          const docLinkHtml = 'Like what you see? Visit the ' +\n",
              "            '<a target=\"_blank\" href=https://colab.research.google.com/notebooks/data_table.ipynb>data table notebook</a>'\n",
              "            + ' to learn more about interactive tables.';\n",
              "          element.innerHTML = '';\n",
              "          dataTable['output_type'] = 'display_data';\n",
              "          await google.colab.output.renderOutput(dataTable, element);\n",
              "          const docLink = document.createElement('div');\n",
              "          docLink.innerHTML = docLinkHtml;\n",
              "          element.appendChild(docLink);\n",
              "        }\n",
              "      </script>\n",
              "    </div>\n",
              "  </div>\n",
              "  "
            ]
          },
          "metadata": {},
          "execution_count": 11
        }
      ]
    },
    {
      "cell_type": "code",
      "source": [
        "age_median = data[data.age.between(21, 74)].age.median()"
      ],
      "metadata": {
        "id": "IUMaHE-w3Z4f"
      },
      "execution_count": 12,
      "outputs": []
    },
    {
      "cell_type": "markdown",
      "source": [
        "Кредит могут получить граждани от 21 года, заменим возраст на медианный для тех строк у которых age < 21"
      ],
      "metadata": {
        "id": "g9TWjn952OZe"
      }
    },
    {
      "cell_type": "code",
      "source": [
        "data[data.age < 21].head()"
      ],
      "metadata": {
        "colab": {
          "base_uri": "https://localhost:8080/",
          "height": 162
        },
        "id": "7uBsEVDQ1Y-O",
        "outputId": "4b29b6ec-6928-4522-fe08-5f41c9efaaf1"
      },
      "execution_count": 13,
      "outputs": [
        {
          "output_type": "execute_result",
          "data": {
            "text/plain": [
              "       SeriousDlqin2yrs  RevolvingUtilizationOfUnsecuredLines  age  \\\n",
              "65695                 0                                   1.0    0   \n",
              "\n",
              "       NumberOfTime30-59DaysPastDueNotWorse  DebtRatio  MonthlyIncome  \\\n",
              "65695                                     1   0.436927         6000.0   \n",
              "\n",
              "       NumberOfOpenCreditLinesAndLoans  NumberOfTimes90DaysLate  \\\n",
              "65695                                6                        0   \n",
              "\n",
              "       NumberRealEstateLoansOrLines  NumberOfTime60-89DaysPastDueNotWorse  \\\n",
              "65695                             2                                     0   \n",
              "\n",
              "       NumberOfDependents  \n",
              "65695                 2.0  "
            ],
            "text/html": [
              "\n",
              "  <div id=\"df-e850dc41-0057-42b0-8b22-b8e78e7916bb\">\n",
              "    <div class=\"colab-df-container\">\n",
              "      <div>\n",
              "<style scoped>\n",
              "    .dataframe tbody tr th:only-of-type {\n",
              "        vertical-align: middle;\n",
              "    }\n",
              "\n",
              "    .dataframe tbody tr th {\n",
              "        vertical-align: top;\n",
              "    }\n",
              "\n",
              "    .dataframe thead th {\n",
              "        text-align: right;\n",
              "    }\n",
              "</style>\n",
              "<table border=\"1\" class=\"dataframe\">\n",
              "  <thead>\n",
              "    <tr style=\"text-align: right;\">\n",
              "      <th></th>\n",
              "      <th>SeriousDlqin2yrs</th>\n",
              "      <th>RevolvingUtilizationOfUnsecuredLines</th>\n",
              "      <th>age</th>\n",
              "      <th>NumberOfTime30-59DaysPastDueNotWorse</th>\n",
              "      <th>DebtRatio</th>\n",
              "      <th>MonthlyIncome</th>\n",
              "      <th>NumberOfOpenCreditLinesAndLoans</th>\n",
              "      <th>NumberOfTimes90DaysLate</th>\n",
              "      <th>NumberRealEstateLoansOrLines</th>\n",
              "      <th>NumberOfTime60-89DaysPastDueNotWorse</th>\n",
              "      <th>NumberOfDependents</th>\n",
              "    </tr>\n",
              "  </thead>\n",
              "  <tbody>\n",
              "    <tr>\n",
              "      <th>65695</th>\n",
              "      <td>0</td>\n",
              "      <td>1.0</td>\n",
              "      <td>0</td>\n",
              "      <td>1</td>\n",
              "      <td>0.436927</td>\n",
              "      <td>6000.0</td>\n",
              "      <td>6</td>\n",
              "      <td>0</td>\n",
              "      <td>2</td>\n",
              "      <td>0</td>\n",
              "      <td>2.0</td>\n",
              "    </tr>\n",
              "  </tbody>\n",
              "</table>\n",
              "</div>\n",
              "      <button class=\"colab-df-convert\" onclick=\"convertToInteractive('df-e850dc41-0057-42b0-8b22-b8e78e7916bb')\"\n",
              "              title=\"Convert this dataframe to an interactive table.\"\n",
              "              style=\"display:none;\">\n",
              "        \n",
              "  <svg xmlns=\"http://www.w3.org/2000/svg\" height=\"24px\"viewBox=\"0 0 24 24\"\n",
              "       width=\"24px\">\n",
              "    <path d=\"M0 0h24v24H0V0z\" fill=\"none\"/>\n",
              "    <path d=\"M18.56 5.44l.94 2.06.94-2.06 2.06-.94-2.06-.94-.94-2.06-.94 2.06-2.06.94zm-11 1L8.5 8.5l.94-2.06 2.06-.94-2.06-.94L8.5 2.5l-.94 2.06-2.06.94zm10 10l.94 2.06.94-2.06 2.06-.94-2.06-.94-.94-2.06-.94 2.06-2.06.94z\"/><path d=\"M17.41 7.96l-1.37-1.37c-.4-.4-.92-.59-1.43-.59-.52 0-1.04.2-1.43.59L10.3 9.45l-7.72 7.72c-.78.78-.78 2.05 0 2.83L4 21.41c.39.39.9.59 1.41.59.51 0 1.02-.2 1.41-.59l7.78-7.78 2.81-2.81c.8-.78.8-2.07 0-2.86zM5.41 20L4 18.59l7.72-7.72 1.47 1.35L5.41 20z\"/>\n",
              "  </svg>\n",
              "      </button>\n",
              "      \n",
              "  <style>\n",
              "    .colab-df-container {\n",
              "      display:flex;\n",
              "      flex-wrap:wrap;\n",
              "      gap: 12px;\n",
              "    }\n",
              "\n",
              "    .colab-df-convert {\n",
              "      background-color: #E8F0FE;\n",
              "      border: none;\n",
              "      border-radius: 50%;\n",
              "      cursor: pointer;\n",
              "      display: none;\n",
              "      fill: #1967D2;\n",
              "      height: 32px;\n",
              "      padding: 0 0 0 0;\n",
              "      width: 32px;\n",
              "    }\n",
              "\n",
              "    .colab-df-convert:hover {\n",
              "      background-color: #E2EBFA;\n",
              "      box-shadow: 0px 1px 2px rgba(60, 64, 67, 0.3), 0px 1px 3px 1px rgba(60, 64, 67, 0.15);\n",
              "      fill: #174EA6;\n",
              "    }\n",
              "\n",
              "    [theme=dark] .colab-df-convert {\n",
              "      background-color: #3B4455;\n",
              "      fill: #D2E3FC;\n",
              "    }\n",
              "\n",
              "    [theme=dark] .colab-df-convert:hover {\n",
              "      background-color: #434B5C;\n",
              "      box-shadow: 0px 1px 3px 1px rgba(0, 0, 0, 0.15);\n",
              "      filter: drop-shadow(0px 1px 2px rgba(0, 0, 0, 0.3));\n",
              "      fill: #FFFFFF;\n",
              "    }\n",
              "  </style>\n",
              "\n",
              "      <script>\n",
              "        const buttonEl =\n",
              "          document.querySelector('#df-e850dc41-0057-42b0-8b22-b8e78e7916bb button.colab-df-convert');\n",
              "        buttonEl.style.display =\n",
              "          google.colab.kernel.accessAllowed ? 'block' : 'none';\n",
              "\n",
              "        async function convertToInteractive(key) {\n",
              "          const element = document.querySelector('#df-e850dc41-0057-42b0-8b22-b8e78e7916bb');\n",
              "          const dataTable =\n",
              "            await google.colab.kernel.invokeFunction('convertToInteractive',\n",
              "                                                     [key], {});\n",
              "          if (!dataTable) return;\n",
              "\n",
              "          const docLinkHtml = 'Like what you see? Visit the ' +\n",
              "            '<a target=\"_blank\" href=https://colab.research.google.com/notebooks/data_table.ipynb>data table notebook</a>'\n",
              "            + ' to learn more about interactive tables.';\n",
              "          element.innerHTML = '';\n",
              "          dataTable['output_type'] = 'display_data';\n",
              "          await google.colab.output.renderOutput(dataTable, element);\n",
              "          const docLink = document.createElement('div');\n",
              "          docLink.innerHTML = docLinkHtml;\n",
              "          element.appendChild(docLink);\n",
              "        }\n",
              "      </script>\n",
              "    </div>\n",
              "  </div>\n",
              "  "
            ]
          },
          "metadata": {},
          "execution_count": 13
        }
      ]
    },
    {
      "cell_type": "code",
      "source": [
        "data['age'].mask(data['age'] < 21, age_median, inplace=True)"
      ],
      "metadata": {
        "id": "_dsHJlnboDuQ"
      },
      "execution_count": 14,
      "outputs": []
    },
    {
      "cell_type": "code",
      "source": [
        "data[data.age < 21].head()"
      ],
      "metadata": {
        "colab": {
          "base_uri": "https://localhost:8080/",
          "height": 131
        },
        "id": "ERPIr3Ra_4vn",
        "outputId": "31bd9e44-ce01-47f8-ea4c-77bf581c9340"
      },
      "execution_count": 15,
      "outputs": [
        {
          "output_type": "execute_result",
          "data": {
            "text/plain": [
              "Empty DataFrame\n",
              "Columns: [SeriousDlqin2yrs, RevolvingUtilizationOfUnsecuredLines, age, NumberOfTime30-59DaysPastDueNotWorse, DebtRatio, MonthlyIncome, NumberOfOpenCreditLinesAndLoans, NumberOfTimes90DaysLate, NumberRealEstateLoansOrLines, NumberOfTime60-89DaysPastDueNotWorse, NumberOfDependents]\n",
              "Index: []"
            ],
            "text/html": [
              "\n",
              "  <div id=\"df-888e1b5c-a7ae-488b-8e52-77d7a36121a7\">\n",
              "    <div class=\"colab-df-container\">\n",
              "      <div>\n",
              "<style scoped>\n",
              "    .dataframe tbody tr th:only-of-type {\n",
              "        vertical-align: middle;\n",
              "    }\n",
              "\n",
              "    .dataframe tbody tr th {\n",
              "        vertical-align: top;\n",
              "    }\n",
              "\n",
              "    .dataframe thead th {\n",
              "        text-align: right;\n",
              "    }\n",
              "</style>\n",
              "<table border=\"1\" class=\"dataframe\">\n",
              "  <thead>\n",
              "    <tr style=\"text-align: right;\">\n",
              "      <th></th>\n",
              "      <th>SeriousDlqin2yrs</th>\n",
              "      <th>RevolvingUtilizationOfUnsecuredLines</th>\n",
              "      <th>age</th>\n",
              "      <th>NumberOfTime30-59DaysPastDueNotWorse</th>\n",
              "      <th>DebtRatio</th>\n",
              "      <th>MonthlyIncome</th>\n",
              "      <th>NumberOfOpenCreditLinesAndLoans</th>\n",
              "      <th>NumberOfTimes90DaysLate</th>\n",
              "      <th>NumberRealEstateLoansOrLines</th>\n",
              "      <th>NumberOfTime60-89DaysPastDueNotWorse</th>\n",
              "      <th>NumberOfDependents</th>\n",
              "    </tr>\n",
              "  </thead>\n",
              "  <tbody>\n",
              "  </tbody>\n",
              "</table>\n",
              "</div>\n",
              "      <button class=\"colab-df-convert\" onclick=\"convertToInteractive('df-888e1b5c-a7ae-488b-8e52-77d7a36121a7')\"\n",
              "              title=\"Convert this dataframe to an interactive table.\"\n",
              "              style=\"display:none;\">\n",
              "        \n",
              "  <svg xmlns=\"http://www.w3.org/2000/svg\" height=\"24px\"viewBox=\"0 0 24 24\"\n",
              "       width=\"24px\">\n",
              "    <path d=\"M0 0h24v24H0V0z\" fill=\"none\"/>\n",
              "    <path d=\"M18.56 5.44l.94 2.06.94-2.06 2.06-.94-2.06-.94-.94-2.06-.94 2.06-2.06.94zm-11 1L8.5 8.5l.94-2.06 2.06-.94-2.06-.94L8.5 2.5l-.94 2.06-2.06.94zm10 10l.94 2.06.94-2.06 2.06-.94-2.06-.94-.94-2.06-.94 2.06-2.06.94z\"/><path d=\"M17.41 7.96l-1.37-1.37c-.4-.4-.92-.59-1.43-.59-.52 0-1.04.2-1.43.59L10.3 9.45l-7.72 7.72c-.78.78-.78 2.05 0 2.83L4 21.41c.39.39.9.59 1.41.59.51 0 1.02-.2 1.41-.59l7.78-7.78 2.81-2.81c.8-.78.8-2.07 0-2.86zM5.41 20L4 18.59l7.72-7.72 1.47 1.35L5.41 20z\"/>\n",
              "  </svg>\n",
              "      </button>\n",
              "      \n",
              "  <style>\n",
              "    .colab-df-container {\n",
              "      display:flex;\n",
              "      flex-wrap:wrap;\n",
              "      gap: 12px;\n",
              "    }\n",
              "\n",
              "    .colab-df-convert {\n",
              "      background-color: #E8F0FE;\n",
              "      border: none;\n",
              "      border-radius: 50%;\n",
              "      cursor: pointer;\n",
              "      display: none;\n",
              "      fill: #1967D2;\n",
              "      height: 32px;\n",
              "      padding: 0 0 0 0;\n",
              "      width: 32px;\n",
              "    }\n",
              "\n",
              "    .colab-df-convert:hover {\n",
              "      background-color: #E2EBFA;\n",
              "      box-shadow: 0px 1px 2px rgba(60, 64, 67, 0.3), 0px 1px 3px 1px rgba(60, 64, 67, 0.15);\n",
              "      fill: #174EA6;\n",
              "    }\n",
              "\n",
              "    [theme=dark] .colab-df-convert {\n",
              "      background-color: #3B4455;\n",
              "      fill: #D2E3FC;\n",
              "    }\n",
              "\n",
              "    [theme=dark] .colab-df-convert:hover {\n",
              "      background-color: #434B5C;\n",
              "      box-shadow: 0px 1px 3px 1px rgba(0, 0, 0, 0.15);\n",
              "      filter: drop-shadow(0px 1px 2px rgba(0, 0, 0, 0.3));\n",
              "      fill: #FFFFFF;\n",
              "    }\n",
              "  </style>\n",
              "\n",
              "      <script>\n",
              "        const buttonEl =\n",
              "          document.querySelector('#df-888e1b5c-a7ae-488b-8e52-77d7a36121a7 button.colab-df-convert');\n",
              "        buttonEl.style.display =\n",
              "          google.colab.kernel.accessAllowed ? 'block' : 'none';\n",
              "\n",
              "        async function convertToInteractive(key) {\n",
              "          const element = document.querySelector('#df-888e1b5c-a7ae-488b-8e52-77d7a36121a7');\n",
              "          const dataTable =\n",
              "            await google.colab.kernel.invokeFunction('convertToInteractive',\n",
              "                                                     [key], {});\n",
              "          if (!dataTable) return;\n",
              "\n",
              "          const docLinkHtml = 'Like what you see? Visit the ' +\n",
              "            '<a target=\"_blank\" href=https://colab.research.google.com/notebooks/data_table.ipynb>data table notebook</a>'\n",
              "            + ' to learn more about interactive tables.';\n",
              "          element.innerHTML = '';\n",
              "          dataTable['output_type'] = 'display_data';\n",
              "          await google.colab.output.renderOutput(dataTable, element);\n",
              "          const docLink = document.createElement('div');\n",
              "          docLink.innerHTML = docLinkHtml;\n",
              "          element.appendChild(docLink);\n",
              "        }\n",
              "      </script>\n",
              "    </div>\n",
              "  </div>\n",
              "  "
            ]
          },
          "metadata": {},
          "execution_count": 15
        }
      ]
    },
    {
      "cell_type": "markdown",
      "source": [
        "Так же кредит как правило выдают до определенного возраста (в зависимости от политики банка) в нашем примере установим это ограничение до 75 лет"
      ],
      "metadata": {
        "id": "ONUM7l1EKA0S"
      }
    },
    {
      "cell_type": "code",
      "source": [
        "data = data[data.age < 75]"
      ],
      "metadata": {
        "id": "CZKF56I0J9XG"
      },
      "execution_count": 16,
      "outputs": []
    },
    {
      "cell_type": "markdown",
      "source": [
        "Глядя на данные можно заметить, что есть большие выбросы по полям MonthlyIncome, DebtRatio и RevolvingUtilizationOfUnsecuredLines. \n",
        "\n",
        "+ Для поля RevolvingUtilizationOfUnsecuredLines предположу, что максимальное значение должно быть 1, т.к. мы делим общий баланс по кредитным картам на сумму кредитных лимитов. Следовательно уберем из наших данных все строки где данный показатель выше.\n",
        "+ Для поля DebtRatio максимальное число может превышать 1, но при таком значение расходы клиента будут превышать его доход. Для нас будет рискованно выдавать кредит для такой категории, следовательно данные клиенты не являются целевыми для нашей модели.\n",
        "+ Для поля MonthlyIncome максимальное значение может уходить в бесконечность, и здесь мы попробуем проверить две гипотезы. Первая будет заключаться в том что, наши целевые клиенты будут иметь ограниченных уровень дохода, предположим до 20000 у.е., а клиенты с доходом выше не являются целевыми для нашей модели, для них стоит использовать отдельную модель. Во второй мы уберем ограничения и будем считать что клиент с любым доходом нам подходит. Далее посмотрим как при этом измениться точность нашей модели. И оставим лучший вариант."
      ],
      "metadata": {
        "id": "Gxiy8zus-8WV"
      }
    },
    {
      "cell_type": "markdown",
      "source": [
        "## **Первая гипотеза**"
      ],
      "metadata": {
        "id": "kKBOfuf8pcCr"
      }
    },
    {
      "cell_type": "code",
      "source": [
        "data_1 = data[(data.MonthlyIncome < 20001) & (data.DebtRatio <= 1) & (data.RevolvingUtilizationOfUnsecuredLines <= 1)]"
      ],
      "metadata": {
        "id": "3sEciouzQ7L_"
      },
      "execution_count": 17,
      "outputs": []
    },
    {
      "cell_type": "code",
      "source": [
        "data_1.describe()"
      ],
      "metadata": {
        "colab": {
          "base_uri": "https://localhost:8080/",
          "height": 382
        },
        "id": "K9ducEWHABFt",
        "outputId": "a6c0c998-4e2c-43a1-cde8-02eac0ef5b2b"
      },
      "execution_count": 18,
      "outputs": [
        {
          "output_type": "execute_result",
          "data": {
            "text/plain": [
              "       SeriousDlqin2yrs  RevolvingUtilizationOfUnsecuredLines            age  \\\n",
              "count     101062.000000                         101062.000000  101062.000000   \n",
              "mean           0.063417                              0.324282      49.439473   \n",
              "std            0.243712                              0.337537      12.621080   \n",
              "min            0.000000                              0.000000      21.000000   \n",
              "25%            0.000000                              0.038020      40.000000   \n",
              "50%            0.000000                              0.180971      50.000000   \n",
              "75%            0.000000                              0.557848      59.000000   \n",
              "max            1.000000                              1.000000      74.000000   \n",
              "\n",
              "       NumberOfTime30-59DaysPastDueNotWorse      DebtRatio  MonthlyIncome  \\\n",
              "count                         101062.000000  101062.000000  101062.000000   \n",
              "mean                               0.386179       0.317504    6405.277503   \n",
              "std                                3.736185       0.221338    3655.369496   \n",
              "min                                0.000000       0.000000       0.000000   \n",
              "25%                                0.000000       0.149692    3708.000000   \n",
              "50%                                0.000000       0.290393    5666.000000   \n",
              "75%                                0.000000       0.449751    8345.000000   \n",
              "max                               98.000000       1.000000   20000.000000   \n",
              "\n",
              "       NumberOfOpenCreditLinesAndLoans  NumberOfTimes90DaysLate  \\\n",
              "count                    101062.000000            101062.000000   \n",
              "mean                          8.696107                 0.221369   \n",
              "std                           5.089699                 3.705901   \n",
              "min                           0.000000                 0.000000   \n",
              "25%                           5.000000                 0.000000   \n",
              "50%                           8.000000                 0.000000   \n",
              "75%                          11.000000                 0.000000   \n",
              "max                          57.000000                98.000000   \n",
              "\n",
              "       NumberRealEstateLoansOrLines  NumberOfTime60-89DaysPastDueNotWorse  \\\n",
              "count                 101062.000000                         101062.000000   \n",
              "mean                       1.034672                              0.199482   \n",
              "std                        1.041678                              3.692450   \n",
              "min                        0.000000                              0.000000   \n",
              "25%                        0.000000                              0.000000   \n",
              "50%                        1.000000                              0.000000   \n",
              "75%                        2.000000                              0.000000   \n",
              "max                       20.000000                             98.000000   \n",
              "\n",
              "       NumberOfDependents  \n",
              "count       101062.000000  \n",
              "mean             0.889810  \n",
              "std              1.160577  \n",
              "min              0.000000  \n",
              "25%              0.000000  \n",
              "50%              0.000000  \n",
              "75%              2.000000  \n",
              "max             20.000000  "
            ],
            "text/html": [
              "\n",
              "  <div id=\"df-57f627c0-6c63-4c83-8760-2faade28c8a1\">\n",
              "    <div class=\"colab-df-container\">\n",
              "      <div>\n",
              "<style scoped>\n",
              "    .dataframe tbody tr th:only-of-type {\n",
              "        vertical-align: middle;\n",
              "    }\n",
              "\n",
              "    .dataframe tbody tr th {\n",
              "        vertical-align: top;\n",
              "    }\n",
              "\n",
              "    .dataframe thead th {\n",
              "        text-align: right;\n",
              "    }\n",
              "</style>\n",
              "<table border=\"1\" class=\"dataframe\">\n",
              "  <thead>\n",
              "    <tr style=\"text-align: right;\">\n",
              "      <th></th>\n",
              "      <th>SeriousDlqin2yrs</th>\n",
              "      <th>RevolvingUtilizationOfUnsecuredLines</th>\n",
              "      <th>age</th>\n",
              "      <th>NumberOfTime30-59DaysPastDueNotWorse</th>\n",
              "      <th>DebtRatio</th>\n",
              "      <th>MonthlyIncome</th>\n",
              "      <th>NumberOfOpenCreditLinesAndLoans</th>\n",
              "      <th>NumberOfTimes90DaysLate</th>\n",
              "      <th>NumberRealEstateLoansOrLines</th>\n",
              "      <th>NumberOfTime60-89DaysPastDueNotWorse</th>\n",
              "      <th>NumberOfDependents</th>\n",
              "    </tr>\n",
              "  </thead>\n",
              "  <tbody>\n",
              "    <tr>\n",
              "      <th>count</th>\n",
              "      <td>101062.000000</td>\n",
              "      <td>101062.000000</td>\n",
              "      <td>101062.000000</td>\n",
              "      <td>101062.000000</td>\n",
              "      <td>101062.000000</td>\n",
              "      <td>101062.000000</td>\n",
              "      <td>101062.000000</td>\n",
              "      <td>101062.000000</td>\n",
              "      <td>101062.000000</td>\n",
              "      <td>101062.000000</td>\n",
              "      <td>101062.000000</td>\n",
              "    </tr>\n",
              "    <tr>\n",
              "      <th>mean</th>\n",
              "      <td>0.063417</td>\n",
              "      <td>0.324282</td>\n",
              "      <td>49.439473</td>\n",
              "      <td>0.386179</td>\n",
              "      <td>0.317504</td>\n",
              "      <td>6405.277503</td>\n",
              "      <td>8.696107</td>\n",
              "      <td>0.221369</td>\n",
              "      <td>1.034672</td>\n",
              "      <td>0.199482</td>\n",
              "      <td>0.889810</td>\n",
              "    </tr>\n",
              "    <tr>\n",
              "      <th>std</th>\n",
              "      <td>0.243712</td>\n",
              "      <td>0.337537</td>\n",
              "      <td>12.621080</td>\n",
              "      <td>3.736185</td>\n",
              "      <td>0.221338</td>\n",
              "      <td>3655.369496</td>\n",
              "      <td>5.089699</td>\n",
              "      <td>3.705901</td>\n",
              "      <td>1.041678</td>\n",
              "      <td>3.692450</td>\n",
              "      <td>1.160577</td>\n",
              "    </tr>\n",
              "    <tr>\n",
              "      <th>min</th>\n",
              "      <td>0.000000</td>\n",
              "      <td>0.000000</td>\n",
              "      <td>21.000000</td>\n",
              "      <td>0.000000</td>\n",
              "      <td>0.000000</td>\n",
              "      <td>0.000000</td>\n",
              "      <td>0.000000</td>\n",
              "      <td>0.000000</td>\n",
              "      <td>0.000000</td>\n",
              "      <td>0.000000</td>\n",
              "      <td>0.000000</td>\n",
              "    </tr>\n",
              "    <tr>\n",
              "      <th>25%</th>\n",
              "      <td>0.000000</td>\n",
              "      <td>0.038020</td>\n",
              "      <td>40.000000</td>\n",
              "      <td>0.000000</td>\n",
              "      <td>0.149692</td>\n",
              "      <td>3708.000000</td>\n",
              "      <td>5.000000</td>\n",
              "      <td>0.000000</td>\n",
              "      <td>0.000000</td>\n",
              "      <td>0.000000</td>\n",
              "      <td>0.000000</td>\n",
              "    </tr>\n",
              "    <tr>\n",
              "      <th>50%</th>\n",
              "      <td>0.000000</td>\n",
              "      <td>0.180971</td>\n",
              "      <td>50.000000</td>\n",
              "      <td>0.000000</td>\n",
              "      <td>0.290393</td>\n",
              "      <td>5666.000000</td>\n",
              "      <td>8.000000</td>\n",
              "      <td>0.000000</td>\n",
              "      <td>1.000000</td>\n",
              "      <td>0.000000</td>\n",
              "      <td>0.000000</td>\n",
              "    </tr>\n",
              "    <tr>\n",
              "      <th>75%</th>\n",
              "      <td>0.000000</td>\n",
              "      <td>0.557848</td>\n",
              "      <td>59.000000</td>\n",
              "      <td>0.000000</td>\n",
              "      <td>0.449751</td>\n",
              "      <td>8345.000000</td>\n",
              "      <td>11.000000</td>\n",
              "      <td>0.000000</td>\n",
              "      <td>2.000000</td>\n",
              "      <td>0.000000</td>\n",
              "      <td>2.000000</td>\n",
              "    </tr>\n",
              "    <tr>\n",
              "      <th>max</th>\n",
              "      <td>1.000000</td>\n",
              "      <td>1.000000</td>\n",
              "      <td>74.000000</td>\n",
              "      <td>98.000000</td>\n",
              "      <td>1.000000</td>\n",
              "      <td>20000.000000</td>\n",
              "      <td>57.000000</td>\n",
              "      <td>98.000000</td>\n",
              "      <td>20.000000</td>\n",
              "      <td>98.000000</td>\n",
              "      <td>20.000000</td>\n",
              "    </tr>\n",
              "  </tbody>\n",
              "</table>\n",
              "</div>\n",
              "      <button class=\"colab-df-convert\" onclick=\"convertToInteractive('df-57f627c0-6c63-4c83-8760-2faade28c8a1')\"\n",
              "              title=\"Convert this dataframe to an interactive table.\"\n",
              "              style=\"display:none;\">\n",
              "        \n",
              "  <svg xmlns=\"http://www.w3.org/2000/svg\" height=\"24px\"viewBox=\"0 0 24 24\"\n",
              "       width=\"24px\">\n",
              "    <path d=\"M0 0h24v24H0V0z\" fill=\"none\"/>\n",
              "    <path d=\"M18.56 5.44l.94 2.06.94-2.06 2.06-.94-2.06-.94-.94-2.06-.94 2.06-2.06.94zm-11 1L8.5 8.5l.94-2.06 2.06-.94-2.06-.94L8.5 2.5l-.94 2.06-2.06.94zm10 10l.94 2.06.94-2.06 2.06-.94-2.06-.94-.94-2.06-.94 2.06-2.06.94z\"/><path d=\"M17.41 7.96l-1.37-1.37c-.4-.4-.92-.59-1.43-.59-.52 0-1.04.2-1.43.59L10.3 9.45l-7.72 7.72c-.78.78-.78 2.05 0 2.83L4 21.41c.39.39.9.59 1.41.59.51 0 1.02-.2 1.41-.59l7.78-7.78 2.81-2.81c.8-.78.8-2.07 0-2.86zM5.41 20L4 18.59l7.72-7.72 1.47 1.35L5.41 20z\"/>\n",
              "  </svg>\n",
              "      </button>\n",
              "      \n",
              "  <style>\n",
              "    .colab-df-container {\n",
              "      display:flex;\n",
              "      flex-wrap:wrap;\n",
              "      gap: 12px;\n",
              "    }\n",
              "\n",
              "    .colab-df-convert {\n",
              "      background-color: #E8F0FE;\n",
              "      border: none;\n",
              "      border-radius: 50%;\n",
              "      cursor: pointer;\n",
              "      display: none;\n",
              "      fill: #1967D2;\n",
              "      height: 32px;\n",
              "      padding: 0 0 0 0;\n",
              "      width: 32px;\n",
              "    }\n",
              "\n",
              "    .colab-df-convert:hover {\n",
              "      background-color: #E2EBFA;\n",
              "      box-shadow: 0px 1px 2px rgba(60, 64, 67, 0.3), 0px 1px 3px 1px rgba(60, 64, 67, 0.15);\n",
              "      fill: #174EA6;\n",
              "    }\n",
              "\n",
              "    [theme=dark] .colab-df-convert {\n",
              "      background-color: #3B4455;\n",
              "      fill: #D2E3FC;\n",
              "    }\n",
              "\n",
              "    [theme=dark] .colab-df-convert:hover {\n",
              "      background-color: #434B5C;\n",
              "      box-shadow: 0px 1px 3px 1px rgba(0, 0, 0, 0.15);\n",
              "      filter: drop-shadow(0px 1px 2px rgba(0, 0, 0, 0.3));\n",
              "      fill: #FFFFFF;\n",
              "    }\n",
              "  </style>\n",
              "\n",
              "      <script>\n",
              "        const buttonEl =\n",
              "          document.querySelector('#df-57f627c0-6c63-4c83-8760-2faade28c8a1 button.colab-df-convert');\n",
              "        buttonEl.style.display =\n",
              "          google.colab.kernel.accessAllowed ? 'block' : 'none';\n",
              "\n",
              "        async function convertToInteractive(key) {\n",
              "          const element = document.querySelector('#df-57f627c0-6c63-4c83-8760-2faade28c8a1');\n",
              "          const dataTable =\n",
              "            await google.colab.kernel.invokeFunction('convertToInteractive',\n",
              "                                                     [key], {});\n",
              "          if (!dataTable) return;\n",
              "\n",
              "          const docLinkHtml = 'Like what you see? Visit the ' +\n",
              "            '<a target=\"_blank\" href=https://colab.research.google.com/notebooks/data_table.ipynb>data table notebook</a>'\n",
              "            + ' to learn more about interactive tables.';\n",
              "          element.innerHTML = '';\n",
              "          dataTable['output_type'] = 'display_data';\n",
              "          await google.colab.output.renderOutput(dataTable, element);\n",
              "          const docLink = document.createElement('div');\n",
              "          docLink.innerHTML = docLinkHtml;\n",
              "          element.appendChild(docLink);\n",
              "        }\n",
              "      </script>\n",
              "    </div>\n",
              "  </div>\n",
              "  "
            ]
          },
          "metadata": {},
          "execution_count": 18
        }
      ]
    },
    {
      "cell_type": "markdown",
      "source": [
        "Дополнительно проверим, следующее предположение, есть ли закономерности в возрасте у людей которые имеют задолженность более 90 дней и наоборот."
      ],
      "metadata": {
        "id": "tttVZ0_Bp4gu"
      }
    },
    {
      "cell_type": "code",
      "source": [
        "from numpy.lib.type_check import common_type\n",
        "import seaborn as sns\n",
        "sns.displot({\n",
        "    \"defoult 0\":data_1[data_1.SeriousDlqin2yrs==0].age,\n",
        "    \"defoult 1\":data_1[data_1.SeriousDlqin2yrs==1].age,\n",
        "    }, kind=\"kde\", common_norm=False)"
      ],
      "metadata": {
        "colab": {
          "base_uri": "https://localhost:8080/",
          "height": 386
        },
        "id": "qYjKZvufYg2L",
        "outputId": "09164466-cbbf-4089-d059-f86b322b48e6"
      },
      "execution_count": 19,
      "outputs": [
        {
          "output_type": "execute_result",
          "data": {
            "text/plain": [
              "<seaborn.axisgrid.FacetGrid at 0x7ff1365aab80>"
            ]
          },
          "metadata": {},
          "execution_count": 19
        },
        {
          "output_type": "display_data",
          "data": {
            "text/plain": [
              "<Figure size 440.75x360 with 1 Axes>"
            ],
            "image/png": "[encoded data removed]"
          },
          "metadata": {
            "needs_background": "light"
          }
        }
      ]
    },
    {
      "cell_type": "markdown",
      "source": [
        "Как видно на графике, такой закономерности нет. Распределения очень похожи."
      ],
      "metadata": {
        "id": "jFA8-fC0q9_e"
      }
    },
    {
      "cell_type": "markdown",
      "source": [
        "Проверим аналогичное предположение, но уже с уровнем дохода."
      ],
      "metadata": {
        "id": "l843xaBnrWpV"
      }
    },
    {
      "cell_type": "code",
      "source": [
        "sns.displot({\n",
        "    \"defoult 0\":data_1[data_1.SeriousDlqin2yrs==0].MonthlyIncome,\n",
        "    \"defoult 1\":data_1[data_1.SeriousDlqin2yrs==1].MonthlyIncome,\n",
        "    }, kind=\"kde\", common_norm=False)"
      ],
      "metadata": {
        "colab": {
          "base_uri": "https://localhost:8080/",
          "height": 386
        },
        "id": "b6X71kvncU8o",
        "outputId": "7200748c-6538-4351-c11f-bf725ab00789"
      },
      "execution_count": 20,
      "outputs": [
        {
          "output_type": "execute_result",
          "data": {
            "text/plain": [
              "<seaborn.axisgrid.FacetGrid at 0x7ff1343b6cd0>"
            ]
          },
          "metadata": {},
          "execution_count": 20
        },
        {
          "output_type": "display_data",
          "data": {
            "text/plain": [
              "<Figure size 440.75x360 with 1 Axes>"
            ],
            "image/png": "[encoded data removed]"
          },
          "metadata": {
            "needs_background": "light"
          }
        }
      ]
    },
    {
      "cell_type": "markdown",
      "source": [
        "Как видно на графике, такой закономерности так же нет. Распределения очень похожи. За исключениме того, что клиентов у которых просрочка более 90 дней больше на промежутке с доходом ~4к у.е. "
      ],
      "metadata": {
        "id": "TKU72Q3ar3jQ"
      }
    },
    {
      "cell_type": "markdown",
      "source": [
        "Добавим несколько фич.\n",
        "В поле **costs** посчитаем реальную сумму которую тратит заемщик."
      ],
      "metadata": {
        "id": "-qFLdtgXDgpk"
      }
    },
    {
      "cell_type": "code",
      "source": [
        "data_1[\"costs\"] = data_1['DebtRatio'] * data_1['MonthlyIncome']"
      ],
      "metadata": {
        "id": "AWst3qJ2CyCs"
      },
      "execution_count": 21,
      "outputs": []
    },
    {
      "cell_type": "markdown",
      "source": [
        "Так же добавим фичу care - где отобразим сколько средств уходит на одного члена семьи."
      ],
      "metadata": {
        "id": "XLC5LsxHFVWU"
      }
    },
    {
      "cell_type": "code",
      "source": [
        "data_1[\"care\"] = data_1['MonthlyIncome'] / (data_1['NumberOfDependents'] + 1)"
      ],
      "metadata": {
        "id": "D9ePTNY1DGCl"
      },
      "execution_count": 22,
      "outputs": []
    },
    {
      "cell_type": "code",
      "source": [
        "data_1"
      ],
      "metadata": {
        "colab": {
          "base_uri": "https://localhost:8080/",
          "height": 505
        },
        "id": "V-shn2PwHA-t",
        "outputId": "8d87e044-b710-415a-cd20-bf9ed8f837fa"
      },
      "execution_count": 23,
      "outputs": [
        {
          "output_type": "execute_result",
          "data": {
            "text/plain": [
              "        SeriousDlqin2yrs  RevolvingUtilizationOfUnsecuredLines  age  \\\n",
              "0                      1                              0.766127   45   \n",
              "1                      0                              0.957151   40   \n",
              "2                      0                              0.658180   38   \n",
              "3                      0                              0.233810   30   \n",
              "5                      0                              0.213179   74   \n",
              "...                  ...                                   ...  ...   \n",
              "149994                 0                              0.385742   50   \n",
              "149995                 0                              0.040674   74   \n",
              "149996                 0                              0.299745   44   \n",
              "149998                 0                              0.000000   30   \n",
              "149999                 0                              0.850283   64   \n",
              "\n",
              "        NumberOfTime30-59DaysPastDueNotWorse  DebtRatio  MonthlyIncome  \\\n",
              "0                                          2   0.802982         9120.0   \n",
              "1                                          0   0.121876         2600.0   \n",
              "2                                          1   0.085113         3042.0   \n",
              "3                                          0   0.036050         3300.0   \n",
              "5                                          0   0.375607         3500.0   \n",
              "...                                      ...        ...            ...   \n",
              "149994                                     0   0.404293         3400.0   \n",
              "149995                                     0   0.225131         2100.0   \n",
              "149996                                     0   0.716562         5584.0   \n",
              "149998                                     0   0.000000         5716.0   \n",
              "149999                                     0   0.249908         8158.0   \n",
              "\n",
              "        NumberOfOpenCreditLinesAndLoans  NumberOfTimes90DaysLate  \\\n",
              "0                                    13                        0   \n",
              "1                                     4                        0   \n",
              "2                                     2                        1   \n",
              "3                                     5                        0   \n",
              "5                                     3                        0   \n",
              "...                                 ...                      ...   \n",
              "149994                                7                        0   \n",
              "149995                                4                        0   \n",
              "149996                                4                        0   \n",
              "149998                                4                        0   \n",
              "149999                                8                        0   \n",
              "\n",
              "        NumberRealEstateLoansOrLines  NumberOfTime60-89DaysPastDueNotWorse  \\\n",
              "0                                  6                                     0   \n",
              "1                                  0                                     0   \n",
              "2                                  0                                     0   \n",
              "3                                  0                                     0   \n",
              "5                                  1                                     0   \n",
              "...                              ...                                   ...   \n",
              "149994                             0                                     0   \n",
              "149995                             1                                     0   \n",
              "149996                             1                                     0   \n",
              "149998                             0                                     0   \n",
              "149999                             2                                     0   \n",
              "\n",
              "        NumberOfDependents        costs         care  \n",
              "0                      2.0  7323.197016  3040.000000  \n",
              "1                      1.0   316.878123  1300.000000  \n",
              "2                      0.0   258.914887  3042.000000  \n",
              "3                      0.0   118.963951  3300.000000  \n",
              "5                      1.0  1314.624392  1750.000000  \n",
              "...                    ...          ...          ...  \n",
              "149994                 0.0  1374.595707  3400.000000  \n",
              "149995                 0.0   472.774869  2100.000000  \n",
              "149996                 2.0  4001.283436  1861.333333  \n",
              "149998                 0.0     0.000000  5716.000000  \n",
              "149999                 0.0  2038.750092  8158.000000  \n",
              "\n",
              "[101062 rows x 13 columns]"
            ],
            "text/html": [
              "\n",
              "  <div id=\"df-75048bf4-11ba-49d2-94ee-cfa49730eef9\">\n",
              "    <div class=\"colab-df-container\">\n",
              "      <div>\n",
              "<style scoped>\n",
              "    .dataframe tbody tr th:only-of-type {\n",
              "        vertical-align: middle;\n",
              "    }\n",
              "\n",
              "    .dataframe tbody tr th {\n",
              "        vertical-align: top;\n",
              "    }\n",
              "\n",
              "    .dataframe thead th {\n",
              "        text-align: right;\n",
              "    }\n",
              "</style>\n",
              "<table border=\"1\" class=\"dataframe\">\n",
              "  <thead>\n",
              "    <tr style=\"text-align: right;\">\n",
              "      <th></th>\n",
              "      <th>SeriousDlqin2yrs</th>\n",
              "      <th>RevolvingUtilizationOfUnsecuredLines</th>\n",
              "      <th>age</th>\n",
              "      <th>NumberOfTime30-59DaysPastDueNotWorse</th>\n",
              "      <th>DebtRatio</th>\n",
              "      <th>MonthlyIncome</th>\n",
              "      <th>NumberOfOpenCreditLinesAndLoans</th>\n",
              "      <th>NumberOfTimes90DaysLate</th>\n",
              "      <th>NumberRealEstateLoansOrLines</th>\n",
              "      <th>NumberOfTime60-89DaysPastDueNotWorse</th>\n",
              "      <th>NumberOfDependents</th>\n",
              "      <th>costs</th>\n",
              "      <th>care</th>\n",
              "    </tr>\n",
              "  </thead>\n",
              "  <tbody>\n",
              "    <tr>\n",
              "      <th>0</th>\n",
              "      <td>1</td>\n",
              "      <td>0.766127</td>\n",
              "      <td>45</td>\n",
              "      <td>2</td>\n",
              "      <td>0.802982</td>\n",
              "      <td>9120.0</td>\n",
              "      <td>13</td>\n",
              "      <td>0</td>\n",
              "      <td>6</td>\n",
              "      <td>0</td>\n",
              "      <td>2.0</td>\n",
              "      <td>7323.197016</td>\n",
              "      <td>3040.000000</td>\n",
              "    </tr>\n",
              "    <tr>\n",
              "      <th>1</th>\n",
              "      <td>0</td>\n",
              "      <td>0.957151</td>\n",
              "      <td>40</td>\n",
              "      <td>0</td>\n",
              "      <td>0.121876</td>\n",
              "      <td>2600.0</td>\n",
              "      <td>4</td>\n",
              "      <td>0</td>\n",
              "      <td>0</td>\n",
              "      <td>0</td>\n",
              "      <td>1.0</td>\n",
              "      <td>316.878123</td>\n",
              "      <td>1300.000000</td>\n",
              "    </tr>\n",
              "    <tr>\n",
              "      <th>2</th>\n",
              "      <td>0</td>\n",
              "      <td>0.658180</td>\n",
              "      <td>38</td>\n",
              "      <td>1</td>\n",
              "      <td>0.085113</td>\n",
              "      <td>3042.0</td>\n",
              "      <td>2</td>\n",
              "      <td>1</td>\n",
              "      <td>0</td>\n",
              "      <td>0</td>\n",
              "      <td>0.0</td>\n",
              "      <td>258.914887</td>\n",
              "      <td>3042.000000</td>\n",
              "    </tr>\n",
              "    <tr>\n",
              "      <th>3</th>\n",
              "      <td>0</td>\n",
              "      <td>0.233810</td>\n",
              "      <td>30</td>\n",
              "      <td>0</td>\n",
              "      <td>0.036050</td>\n",
              "      <td>3300.0</td>\n",
              "      <td>5</td>\n",
              "      <td>0</td>\n",
              "      <td>0</td>\n",
              "      <td>0</td>\n",
              "      <td>0.0</td>\n",
              "      <td>118.963951</td>\n",
              "      <td>3300.000000</td>\n",
              "    </tr>\n",
              "    <tr>\n",
              "      <th>5</th>\n",
              "      <td>0</td>\n",
              "      <td>0.213179</td>\n",
              "      <td>74</td>\n",
              "      <td>0</td>\n",
              "      <td>0.375607</td>\n",
              "      <td>3500.0</td>\n",
              "      <td>3</td>\n",
              "      <td>0</td>\n",
              "      <td>1</td>\n",
              "      <td>0</td>\n",
              "      <td>1.0</td>\n",
              "      <td>1314.624392</td>\n",
              "      <td>1750.000000</td>\n",
              "    </tr>\n",
              "    <tr>\n",
              "      <th>...</th>\n",
              "      <td>...</td>\n",
              "      <td>...</td>\n",
              "      <td>...</td>\n",
              "      <td>...</td>\n",
              "      <td>...</td>\n",
              "      <td>...</td>\n",
              "      <td>...</td>\n",
              "      <td>...</td>\n",
              "      <td>...</td>\n",
              "      <td>...</td>\n",
              "      <td>...</td>\n",
              "      <td>...</td>\n",
              "      <td>...</td>\n",
              "    </tr>\n",
              "    <tr>\n",
              "      <th>149994</th>\n",
              "      <td>0</td>\n",
              "      <td>0.385742</td>\n",
              "      <td>50</td>\n",
              "      <td>0</td>\n",
              "      <td>0.404293</td>\n",
              "      <td>3400.0</td>\n",
              "      <td>7</td>\n",
              "      <td>0</td>\n",
              "      <td>0</td>\n",
              "      <td>0</td>\n",
              "      <td>0.0</td>\n",
              "      <td>1374.595707</td>\n",
              "      <td>3400.000000</td>\n",
              "    </tr>\n",
              "    <tr>\n",
              "      <th>149995</th>\n",
              "      <td>0</td>\n",
              "      <td>0.040674</td>\n",
              "      <td>74</td>\n",
              "      <td>0</td>\n",
              "      <td>0.225131</td>\n",
              "      <td>2100.0</td>\n",
              "      <td>4</td>\n",
              "      <td>0</td>\n",
              "      <td>1</td>\n",
              "      <td>0</td>\n",
              "      <td>0.0</td>\n",
              "      <td>472.774869</td>\n",
              "      <td>2100.000000</td>\n",
              "    </tr>\n",
              "    <tr>\n",
              "      <th>149996</th>\n",
              "      <td>0</td>\n",
              "      <td>0.299745</td>\n",
              "      <td>44</td>\n",
              "      <td>0</td>\n",
              "      <td>0.716562</td>\n",
              "      <td>5584.0</td>\n",
              "      <td>4</td>\n",
              "      <td>0</td>\n",
              "      <td>1</td>\n",
              "      <td>0</td>\n",
              "      <td>2.0</td>\n",
              "      <td>4001.283436</td>\n",
              "      <td>1861.333333</td>\n",
              "    </tr>\n",
              "    <tr>\n",
              "      <th>149998</th>\n",
              "      <td>0</td>\n",
              "      <td>0.000000</td>\n",
              "      <td>30</td>\n",
              "      <td>0</td>\n",
              "      <td>0.000000</td>\n",
              "      <td>5716.0</td>\n",
              "      <td>4</td>\n",
              "      <td>0</td>\n",
              "      <td>0</td>\n",
              "      <td>0</td>\n",
              "      <td>0.0</td>\n",
              "      <td>0.000000</td>\n",
              "      <td>5716.000000</td>\n",
              "    </tr>\n",
              "    <tr>\n",
              "      <th>149999</th>\n",
              "      <td>0</td>\n",
              "      <td>0.850283</td>\n",
              "      <td>64</td>\n",
              "      <td>0</td>\n",
              "      <td>0.249908</td>\n",
              "      <td>8158.0</td>\n",
              "      <td>8</td>\n",
              "      <td>0</td>\n",
              "      <td>2</td>\n",
              "      <td>0</td>\n",
              "      <td>0.0</td>\n",
              "      <td>2038.750092</td>\n",
              "      <td>8158.000000</td>\n",
              "    </tr>\n",
              "  </tbody>\n",
              "</table>\n",
              "<p>101062 rows × 13 columns</p>\n",
              "</div>\n",
              "      <button class=\"colab-df-convert\" onclick=\"convertToInteractive('df-75048bf4-11ba-49d2-94ee-cfa49730eef9')\"\n",
              "              title=\"Convert this dataframe to an interactive table.\"\n",
              "              style=\"display:none;\">\n",
              "        \n",
              "  <svg xmlns=\"http://www.w3.org/2000/svg\" height=\"24px\"viewBox=\"0 0 24 24\"\n",
              "       width=\"24px\">\n",
              "    <path d=\"M0 0h24v24H0V0z\" fill=\"none\"/>\n",
              "    <path d=\"M18.56 5.44l.94 2.06.94-2.06 2.06-.94-2.06-.94-.94-2.06-.94 2.06-2.06.94zm-11 1L8.5 8.5l.94-2.06 2.06-.94-2.06-.94L8.5 2.5l-.94 2.06-2.06.94zm10 10l.94 2.06.94-2.06 2.06-.94-2.06-.94-.94-2.06-.94 2.06-2.06.94z\"/><path d=\"M17.41 7.96l-1.37-1.37c-.4-.4-.92-.59-1.43-.59-.52 0-1.04.2-1.43.59L10.3 9.45l-7.72 7.72c-.78.78-.78 2.05 0 2.83L4 21.41c.39.39.9.59 1.41.59.51 0 1.02-.2 1.41-.59l7.78-7.78 2.81-2.81c.8-.78.8-2.07 0-2.86zM5.41 20L4 18.59l7.72-7.72 1.47 1.35L5.41 20z\"/>\n",
              "  </svg>\n",
              "      </button>\n",
              "      \n",
              "  <style>\n",
              "    .colab-df-container {\n",
              "      display:flex;\n",
              "      flex-wrap:wrap;\n",
              "      gap: 12px;\n",
              "    }\n",
              "\n",
              "    .colab-df-convert {\n",
              "      background-color: #E8F0FE;\n",
              "      border: none;\n",
              "      border-radius: 50%;\n",
              "      cursor: pointer;\n",
              "      display: none;\n",
              "      fill: #1967D2;\n",
              "      height: 32px;\n",
              "      padding: 0 0 0 0;\n",
              "      width: 32px;\n",
              "    }\n",
              "\n",
              "    .colab-df-convert:hover {\n",
              "      background-color: #E2EBFA;\n",
              "      box-shadow: 0px 1px 2px rgba(60, 64, 67, 0.3), 0px 1px 3px 1px rgba(60, 64, 67, 0.15);\n",
              "      fill: #174EA6;\n",
              "    }\n",
              "\n",
              "    [theme=dark] .colab-df-convert {\n",
              "      background-color: #3B4455;\n",
              "      fill: #D2E3FC;\n",
              "    }\n",
              "\n",
              "    [theme=dark] .colab-df-convert:hover {\n",
              "      background-color: #434B5C;\n",
              "      box-shadow: 0px 1px 3px 1px rgba(0, 0, 0, 0.15);\n",
              "      filter: drop-shadow(0px 1px 2px rgba(0, 0, 0, 0.3));\n",
              "      fill: #FFFFFF;\n",
              "    }\n",
              "  </style>\n",
              "\n",
              "      <script>\n",
              "        const buttonEl =\n",
              "          document.querySelector('#df-75048bf4-11ba-49d2-94ee-cfa49730eef9 button.colab-df-convert');\n",
              "        buttonEl.style.display =\n",
              "          google.colab.kernel.accessAllowed ? 'block' : 'none';\n",
              "\n",
              "        async function convertToInteractive(key) {\n",
              "          const element = document.querySelector('#df-75048bf4-11ba-49d2-94ee-cfa49730eef9');\n",
              "          const dataTable =\n",
              "            await google.colab.kernel.invokeFunction('convertToInteractive',\n",
              "                                                     [key], {});\n",
              "          if (!dataTable) return;\n",
              "\n",
              "          const docLinkHtml = 'Like what you see? Visit the ' +\n",
              "            '<a target=\"_blank\" href=https://colab.research.google.com/notebooks/data_table.ipynb>data table notebook</a>'\n",
              "            + ' to learn more about interactive tables.';\n",
              "          element.innerHTML = '';\n",
              "          dataTable['output_type'] = 'display_data';\n",
              "          await google.colab.output.renderOutput(dataTable, element);\n",
              "          const docLink = document.createElement('div');\n",
              "          docLink.innerHTML = docLinkHtml;\n",
              "          element.appendChild(docLink);\n",
              "        }\n",
              "      </script>\n",
              "    </div>\n",
              "  </div>\n",
              "  "
            ]
          },
          "metadata": {},
          "execution_count": 23
        }
      ]
    },
    {
      "cell_type": "code",
      "source": [
        "corr = data_1.corr()\n",
        "corr.style.background_gradient(cmap='coolwarm')"
      ],
      "metadata": {
        "colab": {
          "base_uri": "https://localhost:8080/",
          "height": 529
        },
        "id": "Ma07YUWBATIJ",
        "outputId": "1407723c-ffdf-4223-d91a-4cac437dfd0a"
      },
      "execution_count": 24,
      "outputs": [
        {
          "output_type": "execute_result",
          "data": {
            "text/plain": [
              "<pandas.io.formats.style.Styler at 0x7ff1372ac490>"
            ],
            "text/html": [
              "<style type=\"text/css\">\n",
              "#T_a6cae_row0_col0, #T_a6cae_row1_col1, #T_a6cae_row2_col2, #T_a6cae_row3_col3, #T_a6cae_row4_col4, #T_a6cae_row5_col5, #T_a6cae_row6_col6, #T_a6cae_row7_col7, #T_a6cae_row8_col8, #T_a6cae_row9_col9, #T_a6cae_row10_col10, #T_a6cae_row11_col11, #T_a6cae_row12_col12 {\n",
              "  background-color: #b40426;\n",
              "  color: #f1f1f1;\n",
              "}\n",
              "#T_a6cae_row0_col1 {\n",
              "  background-color: #bbd1f8;\n",
              "  color: #000000;\n",
              "}\n",
              "#T_a6cae_row0_col2, #T_a6cae_row10_col0 {\n",
              "  background-color: #5e7de7;\n",
              "  color: #f1f1f1;\n",
              "}\n",
              "#T_a6cae_row0_col3 {\n",
              "  background-color: #6e90f2;\n",
              "  color: #f1f1f1;\n",
              "}\n",
              "#T_a6cae_row0_col4 {\n",
              "  background-color: #6687ed;\n",
              "  color: #f1f1f1;\n",
              "}\n",
              "#T_a6cae_row0_col5, #T_a6cae_row6_col0, #T_a6cae_row9_col4 {\n",
              "  background-color: #4961d2;\n",
              "  color: #f1f1f1;\n",
              "}\n",
              "#T_a6cae_row0_col6 {\n",
              "  background-color: #6180e9;\n",
              "  color: #f1f1f1;\n",
              "}\n",
              "#T_a6cae_row0_col7 {\n",
              "  background-color: #7396f5;\n",
              "  color: #f1f1f1;\n",
              "}\n",
              "#T_a6cae_row0_col8, #T_a6cae_row3_col5 {\n",
              "  background-color: #506bda;\n",
              "  color: #f1f1f1;\n",
              "}\n",
              "#T_a6cae_row0_col9, #T_a6cae_row1_col3 {\n",
              "  background-color: #6b8df0;\n",
              "  color: #f1f1f1;\n",
              "}\n",
              "#T_a6cae_row0_col10 {\n",
              "  background-color: #afcafc;\n",
              "  color: #000000;\n",
              "}\n",
              "#T_a6cae_row0_col11, #T_a6cae_row10_col9 {\n",
              "  background-color: #4a63d3;\n",
              "  color: #f1f1f1;\n",
              "}\n",
              "#T_a6cae_row0_col12, #T_a6cae_row10_col5 {\n",
              "  background-color: #96b7ff;\n",
              "  color: #000000;\n",
              "}\n",
              "#T_a6cae_row1_col0 {\n",
              "  background-color: #9fbfff;\n",
              "  color: #000000;\n",
              "}\n",
              "#T_a6cae_row1_col2, #T_a6cae_row1_col5, #T_a6cae_row1_col6, #T_a6cae_row1_col8, #T_a6cae_row2_col0, #T_a6cae_row2_col1, #T_a6cae_row2_col3, #T_a6cae_row6_col3, #T_a6cae_row6_col7, #T_a6cae_row6_col9, #T_a6cae_row7_col11, #T_a6cae_row10_col12, #T_a6cae_row12_col4, #T_a6cae_row12_col10 {\n",
              "  background-color: #3b4cc0;\n",
              "  color: #f1f1f1;\n",
              "}\n",
              "#T_a6cae_row1_col4 {\n",
              "  background-color: #7ea1fa;\n",
              "  color: #f1f1f1;\n",
              "}\n",
              "#T_a6cae_row1_col7, #T_a6cae_row10_col4 {\n",
              "  background-color: #6f92f3;\n",
              "  color: #f1f1f1;\n",
              "}\n",
              "#T_a6cae_row1_col9, #T_a6cae_row3_col2, #T_a6cae_row7_col2 {\n",
              "  background-color: #688aef;\n",
              "  color: #f1f1f1;\n",
              "}\n",
              "#T_a6cae_row1_col10 {\n",
              "  background-color: #b5cdfa;\n",
              "  color: #000000;\n",
              "}\n",
              "#T_a6cae_row1_col11 {\n",
              "  background-color: #5875e1;\n",
              "  color: #f1f1f1;\n",
              "}\n",
              "#T_a6cae_row1_col12, #T_a6cae_row11_col1 {\n",
              "  background-color: #85a8fc;\n",
              "  color: #f1f1f1;\n",
              "}\n",
              "#T_a6cae_row2_col4 {\n",
              "  background-color: #5b7ae5;\n",
              "  color: #f1f1f1;\n",
              "}\n",
              "#T_a6cae_row2_col5 {\n",
              "  background-color: #98b9ff;\n",
              "  color: #000000;\n",
              "}\n",
              "#T_a6cae_row2_col6 {\n",
              "  background-color: #b1cbfc;\n",
              "  color: #000000;\n",
              "}\n",
              "#T_a6cae_row2_col7, #T_a6cae_row5_col7, #T_a6cae_row8_col9, #T_a6cae_row11_col7 {\n",
              "  background-color: #4257c9;\n",
              "  color: #f1f1f1;\n",
              "}\n",
              "#T_a6cae_row2_col8 {\n",
              "  background-color: #88abfd;\n",
              "  color: #000000;\n",
              "}\n",
              "#T_a6cae_row2_col9, #T_a6cae_row3_col11, #T_a6cae_row4_col7, #T_a6cae_row5_col0, #T_a6cae_row5_col9, #T_a6cae_row11_col3, #T_a6cae_row11_col9 {\n",
              "  background-color: #4055c8;\n",
              "  color: #f1f1f1;\n",
              "}\n",
              "#T_a6cae_row2_col10 {\n",
              "  background-color: #82a6fb;\n",
              "  color: #f1f1f1;\n",
              "}\n",
              "#T_a6cae_row2_col11, #T_a6cae_row9_col2 {\n",
              "  background-color: #6a8bef;\n",
              "  color: #f1f1f1;\n",
              "}\n",
              "#T_a6cae_row2_col12, #T_a6cae_row6_col11 {\n",
              "  background-color: #dddcdc;\n",
              "  color: #000000;\n",
              "}\n",
              "#T_a6cae_row3_col0 {\n",
              "  background-color: #799cf8;\n",
              "  color: #f1f1f1;\n",
              "}\n",
              "#T_a6cae_row3_col1 {\n",
              "  background-color: #97b8ff;\n",
              "  color: #000000;\n",
              "}\n",
              "#T_a6cae_row3_col4, #T_a6cae_row7_col5, #T_a6cae_row10_col2, #T_a6cae_row10_col7 {\n",
              "  background-color: #4e68d8;\n",
              "  color: #f1f1f1;\n",
              "}\n",
              "#T_a6cae_row3_col6 {\n",
              "  background-color: #5d7ce6;\n",
              "  color: #f1f1f1;\n",
              "}\n",
              "#T_a6cae_row3_col7, #T_a6cae_row7_col3 {\n",
              "  background-color: #ba162b;\n",
              "  color: #f1f1f1;\n",
              "}\n",
              "#T_a6cae_row3_col8, #T_a6cae_row9_col5 {\n",
              "  background-color: #4f69d9;\n",
              "  color: #f1f1f1;\n",
              "}\n",
              "#T_a6cae_row3_col9, #T_a6cae_row9_col3 {\n",
              "  background-color: #b8122a;\n",
              "  color: #f1f1f1;\n",
              "}\n",
              "#T_a6cae_row3_col10 {\n",
              "  background-color: #a6c4fe;\n",
              "  color: #000000;\n",
              "}\n",
              "#T_a6cae_row3_col12, #T_a6cae_row7_col12, #T_a6cae_row9_col12 {\n",
              "  background-color: #9ebeff;\n",
              "  color: #000000;\n",
              "}\n",
              "#T_a6cae_row4_col0 {\n",
              "  background-color: #6282ea;\n",
              "  color: #f1f1f1;\n",
              "}\n",
              "#T_a6cae_row4_col1 {\n",
              "  background-color: #9bbcff;\n",
              "  color: #000000;\n",
              "}\n",
              "#T_a6cae_row4_col2 {\n",
              "  background-color: #7a9df8;\n",
              "  color: #f1f1f1;\n",
              "}\n",
              "#T_a6cae_row4_col3, #T_a6cae_row4_col9, #T_a6cae_row12_col3 {\n",
              "  background-color: #3e51c5;\n",
              "  color: #f1f1f1;\n",
              "}\n",
              "#T_a6cae_row4_col5, #T_a6cae_row7_col4, #T_a6cae_row10_col3 {\n",
              "  background-color: #485fd1;\n",
              "  color: #f1f1f1;\n",
              "}\n",
              "#T_a6cae_row4_col6 {\n",
              "  background-color: #d1dae9;\n",
              "  color: #000000;\n",
              "}\n",
              "#T_a6cae_row4_col8, #T_a6cae_row8_col4 {\n",
              "  background-color: #edd1c2;\n",
              "  color: #000000;\n",
              "}\n",
              "#T_a6cae_row4_col10, #T_a6cae_row6_col5 {\n",
              "  background-color: #b9d0f9;\n",
              "  color: #000000;\n",
              "}\n",
              "#T_a6cae_row4_col11 {\n",
              "  background-color: #f7b599;\n",
              "  color: #000000;\n",
              "}\n",
              "#T_a6cae_row4_col12 {\n",
              "  background-color: #8db0fe;\n",
              "  color: #000000;\n",
              "}\n",
              "#T_a6cae_row5_col1, #T_a6cae_row11_col0 {\n",
              "  background-color: #5572df;\n",
              "  color: #f1f1f1;\n",
              "}\n",
              "#T_a6cae_row5_col2, #T_a6cae_row6_col10 {\n",
              "  background-color: #aec9fc;\n",
              "  color: #000000;\n",
              "}\n",
              "#T_a6cae_row5_col3 {\n",
              "  background-color: #3d50c3;\n",
              "  color: #f1f1f1;\n",
              "}\n",
              "#T_a6cae_row5_col4, #T_a6cae_row8_col7, #T_a6cae_row12_col9 {\n",
              "  background-color: #4358cb;\n",
              "  color: #f1f1f1;\n",
              "}\n",
              "#T_a6cae_row5_col6 {\n",
              "  background-color: #c3d5f4;\n",
              "  color: #000000;\n",
              "}\n",
              "#T_a6cae_row5_col8, #T_a6cae_row6_col12 {\n",
              "  background-color: #d6dce4;\n",
              "  color: #000000;\n",
              "}\n",
              "#T_a6cae_row5_col10 {\n",
              "  background-color: #cedaeb;\n",
              "  color: #000000;\n",
              "}\n",
              "#T_a6cae_row5_col11 {\n",
              "  background-color: #f1cdba;\n",
              "  color: #000000;\n",
              "}\n",
              "#T_a6cae_row5_col12 {\n",
              "  background-color: #f18f71;\n",
              "  color: #f1f1f1;\n",
              "}\n",
              "#T_a6cae_row6_col1, #T_a6cae_row12_col7 {\n",
              "  background-color: #455cce;\n",
              "  color: #f1f1f1;\n",
              "}\n",
              "#T_a6cae_row6_col2 {\n",
              "  background-color: #bad0f8;\n",
              "  color: #000000;\n",
              "}\n",
              "#T_a6cae_row6_col4 {\n",
              "  background-color: #c5d6f2;\n",
              "  color: #000000;\n",
              "}\n",
              "#T_a6cae_row6_col8 {\n",
              "  background-color: #d5dbe5;\n",
              "  color: #000000;\n",
              "}\n",
              "#T_a6cae_row7_col0, #T_a6cae_row10_col6 {\n",
              "  background-color: #7699f6;\n",
              "  color: #f1f1f1;\n",
              "}\n",
              "#T_a6cae_row7_col1 {\n",
              "  background-color: #93b5fe;\n",
              "  color: #000000;\n",
              "}\n",
              "#T_a6cae_row7_col6 {\n",
              "  background-color: #5673e0;\n",
              "  color: #f1f1f1;\n",
              "}\n",
              "#T_a6cae_row7_col8, #T_a6cae_row8_col0 {\n",
              "  background-color: #4b64d5;\n",
              "  color: #f1f1f1;\n",
              "}\n",
              "#T_a6cae_row7_col9, #T_a6cae_row9_col7 {\n",
              "  background-color: #b50927;\n",
              "  color: #f1f1f1;\n",
              "}\n",
              "#T_a6cae_row7_col10, #T_a6cae_row9_col10 {\n",
              "  background-color: #a5c3fe;\n",
              "  color: #000000;\n",
              "}\n",
              "#T_a6cae_row8_col1, #T_a6cae_row9_col6 {\n",
              "  background-color: #5977e3;\n",
              "  color: #f1f1f1;\n",
              "}\n",
              "#T_a6cae_row8_col2 {\n",
              "  background-color: #a2c1ff;\n",
              "  color: #000000;\n",
              "}\n",
              "#T_a6cae_row8_col3, #T_a6cae_row12_col0 {\n",
              "  background-color: #3f53c6;\n",
              "  color: #f1f1f1;\n",
              "}\n",
              "#T_a6cae_row8_col5 {\n",
              "  background-color: #d8dce2;\n",
              "  color: #000000;\n",
              "}\n",
              "#T_a6cae_row8_col6 {\n",
              "  background-color: #dedcdb;\n",
              "  color: #000000;\n",
              "}\n",
              "#T_a6cae_row8_col10 {\n",
              "  background-color: #c0d4f5;\n",
              "  color: #000000;\n",
              "}\n",
              "#T_a6cae_row8_col11 {\n",
              "  background-color: #f4987a;\n",
              "  color: #000000;\n",
              "}\n",
              "#T_a6cae_row8_col12 {\n",
              "  background-color: #dcdddd;\n",
              "  color: #000000;\n",
              "}\n",
              "#T_a6cae_row9_col0 {\n",
              "  background-color: #7295f4;\n",
              "  color: #f1f1f1;\n",
              "}\n",
              "#T_a6cae_row9_col1 {\n",
              "  background-color: #90b2fe;\n",
              "  color: #000000;\n",
              "}\n",
              "#T_a6cae_row9_col8 {\n",
              "  background-color: #4c66d6;\n",
              "  color: #f1f1f1;\n",
              "}\n",
              "#T_a6cae_row9_col11 {\n",
              "  background-color: #3c4ec2;\n",
              "  color: #f1f1f1;\n",
              "}\n",
              "#T_a6cae_row10_col1 {\n",
              "  background-color: #89acfd;\n",
              "  color: #000000;\n",
              "}\n",
              "#T_a6cae_row10_col8 {\n",
              "  background-color: #7b9ff9;\n",
              "  color: #f1f1f1;\n",
              "}\n",
              "#T_a6cae_row10_col11 {\n",
              "  background-color: #81a4fb;\n",
              "  color: #f1f1f1;\n",
              "}\n",
              "#T_a6cae_row11_col2 {\n",
              "  background-color: #94b6ff;\n",
              "  color: #000000;\n",
              "}\n",
              "#T_a6cae_row11_col4 {\n",
              "  background-color: #f7b093;\n",
              "  color: #000000;\n",
              "}\n",
              "#T_a6cae_row11_col5 {\n",
              "  background-color: #f4c6af;\n",
              "  color: #000000;\n",
              "}\n",
              "#T_a6cae_row11_col6 {\n",
              "  background-color: #ead4c8;\n",
              "  color: #000000;\n",
              "}\n",
              "#T_a6cae_row11_col8 {\n",
              "  background-color: #f39475;\n",
              "  color: #000000;\n",
              "}\n",
              "#T_a6cae_row11_col10 {\n",
              "  background-color: #cdd9ec;\n",
              "  color: #000000;\n",
              "}\n",
              "#T_a6cae_row11_col12 {\n",
              "  background-color: #e8d6cc;\n",
              "  color: #000000;\n",
              "}\n",
              "#T_a6cae_row12_col1 {\n",
              "  background-color: #516ddb;\n",
              "  color: #f1f1f1;\n",
              "}\n",
              "#T_a6cae_row12_col2 {\n",
              "  background-color: #c1d4f4;\n",
              "  color: #000000;\n",
              "}\n",
              "#T_a6cae_row12_col5 {\n",
              "  background-color: #f7aa8c;\n",
              "  color: #000000;\n",
              "}\n",
              "#T_a6cae_row12_col6 {\n",
              "  background-color: #adc9fd;\n",
              "  color: #000000;\n",
              "}\n",
              "#T_a6cae_row12_col8 {\n",
              "  background-color: #a9c6fd;\n",
              "  color: #000000;\n",
              "}\n",
              "#T_a6cae_row12_col11 {\n",
              "  background-color: #b3cdfb;\n",
              "  color: #000000;\n",
              "}\n",
              "</style>\n",
              "<table id=\"T_a6cae_\" class=\"dataframe\">\n",
              "  <thead>\n",
              "    <tr>\n",
              "      <th class=\"blank level0\" >&nbsp;</th>\n",
              "      <th class=\"col_heading level0 col0\" >SeriousDlqin2yrs</th>\n",
              "      <th class=\"col_heading level0 col1\" >RevolvingUtilizationOfUnsecuredLines</th>\n",
              "      <th class=\"col_heading level0 col2\" >age</th>\n",
              "      <th class=\"col_heading level0 col3\" >NumberOfTime30-59DaysPastDueNotWorse</th>\n",
              "      <th class=\"col_heading level0 col4\" >DebtRatio</th>\n",
              "      <th class=\"col_heading level0 col5\" >MonthlyIncome</th>\n",
              "      <th class=\"col_heading level0 col6\" >NumberOfOpenCreditLinesAndLoans</th>\n",
              "      <th class=\"col_heading level0 col7\" >NumberOfTimes90DaysLate</th>\n",
              "      <th class=\"col_heading level0 col8\" >NumberRealEstateLoansOrLines</th>\n",
              "      <th class=\"col_heading level0 col9\" >NumberOfTime60-89DaysPastDueNotWorse</th>\n",
              "      <th class=\"col_heading level0 col10\" >NumberOfDependents</th>\n",
              "      <th class=\"col_heading level0 col11\" >costs</th>\n",
              "      <th class=\"col_heading level0 col12\" >care</th>\n",
              "    </tr>\n",
              "  </thead>\n",
              "  <tbody>\n",
              "    <tr>\n",
              "      <th id=\"T_a6cae_level0_row0\" class=\"row_heading level0 row0\" >SeriousDlqin2yrs</th>\n",
              "      <td id=\"T_a6cae_row0_col0\" class=\"data row0 col0\" >1.000000</td>\n",
              "      <td id=\"T_a6cae_row0_col1\" class=\"data row0 col1\" >0.242173</td>\n",
              "      <td id=\"T_a6cae_row0_col2\" class=\"data row0 col2\" >-0.088812</td>\n",
              "      <td id=\"T_a6cae_row0_col3\" class=\"data row0 col3\" >0.122026</td>\n",
              "      <td id=\"T_a6cae_row0_col4\" class=\"data row0 col4\" >0.047642</td>\n",
              "      <td id=\"T_a6cae_row0_col5\" class=\"data row0 col5\" >-0.065746</td>\n",
              "      <td id=\"T_a6cae_row0_col6\" class=\"data row0 col6\" >-0.036785</td>\n",
              "      <td id=\"T_a6cae_row0_col7\" class=\"data row0 col7\" >0.113987</td>\n",
              "      <td id=\"T_a6cae_row0_col8\" class=\"data row0 col8\" >-0.027175</td>\n",
              "      <td id=\"T_a6cae_row0_col9\" class=\"data row0 col9\" >0.098583</td>\n",
              "      <td id=\"T_a6cae_row0_col10\" class=\"data row0 col10\" >0.038314</td>\n",
              "      <td id=\"T_a6cae_row0_col11\" class=\"data row0 col11\" >0.005555</td>\n",
              "      <td id=\"T_a6cae_row0_col12\" class=\"data row0 col12\" >-0.069032</td>\n",
              "    </tr>\n",
              "    <tr>\n",
              "      <th id=\"T_a6cae_level0_row1\" class=\"row_heading level0 row1\" >RevolvingUtilizationOfUnsecuredLines</th>\n",
              "      <td id=\"T_a6cae_row1_col0\" class=\"data row1 col0\" >0.242173</td>\n",
              "      <td id=\"T_a6cae_row1_col1\" class=\"data row1 col1\" >1.000000</td>\n",
              "      <td id=\"T_a6cae_row1_col2\" class=\"data row1 col2\" >-0.228781</td>\n",
              "      <td id=\"T_a6cae_row1_col3\" class=\"data row1 col3\" >0.112800</td>\n",
              "      <td id=\"T_a6cae_row1_col4\" class=\"data row1 col4\" >0.128378</td>\n",
              "      <td id=\"T_a6cae_row1_col5\" class=\"data row1 col5\" >-0.121614</td>\n",
              "      <td id=\"T_a6cae_row1_col6\" class=\"data row1 col6\" >-0.182320</td>\n",
              "      <td id=\"T_a6cae_row1_col7\" class=\"data row1 col7\" >0.101331</td>\n",
              "      <td id=\"T_a6cae_row1_col8\" class=\"data row1 col8\" >-0.108471</td>\n",
              "      <td id=\"T_a6cae_row1_col9\" class=\"data row1 col9\" >0.089120</td>\n",
              "      <td id=\"T_a6cae_row1_col10\" class=\"data row1 col10\" >0.065813</td>\n",
              "      <td id=\"T_a6cae_row1_col11\" class=\"data row1 col11\" >0.049696</td>\n",
              "      <td id=\"T_a6cae_row1_col12\" class=\"data row1 col12\" >-0.135885</td>\n",
              "    </tr>\n",
              "    <tr>\n",
              "      <th id=\"T_a6cae_level0_row2\" class=\"row_heading level0 row2\" >age</th>\n",
              "      <td id=\"T_a6cae_row2_col0\" class=\"data row2 col0\" >-0.088812</td>\n",
              "      <td id=\"T_a6cae_row2_col1\" class=\"data row2 col1\" >-0.228781</td>\n",
              "      <td id=\"T_a6cae_row2_col2\" class=\"data row2 col2\" >1.000000</td>\n",
              "      <td id=\"T_a6cae_row2_col3\" class=\"data row2 col3\" >-0.047056</td>\n",
              "      <td id=\"T_a6cae_row2_col4\" class=\"data row2 col4\" >0.013047</td>\n",
              "      <td id=\"T_a6cae_row2_col5\" class=\"data row2 col5\" >0.195028</td>\n",
              "      <td id=\"T_a6cae_row2_col6\" class=\"data row2 col6\" >0.237755</td>\n",
              "      <td id=\"T_a6cae_row2_col7\" class=\"data row2 col7\" >-0.048553</td>\n",
              "      <td id=\"T_a6cae_row2_col8\" class=\"data row2 col8\" >0.153589</td>\n",
              "      <td id=\"T_a6cae_row2_col9\" class=\"data row2 col9\" >-0.044965</td>\n",
              "      <td id=\"T_a6cae_row2_col10\" class=\"data row2 col10\" >-0.151037</td>\n",
              "      <td id=\"T_a6cae_row2_col11\" class=\"data row2 col11\" >0.105897</td>\n",
              "      <td id=\"T_a6cae_row2_col12\" class=\"data row2 col12\" >0.267216</td>\n",
              "    </tr>\n",
              "    <tr>\n",
              "      <th id=\"T_a6cae_level0_row3\" class=\"row_heading level0 row3\" >NumberOfTime30-59DaysPastDueNotWorse</th>\n",
              "      <td id=\"T_a6cae_row3_col0\" class=\"data row3 col0\" >0.122026</td>\n",
              "      <td id=\"T_a6cae_row3_col1\" class=\"data row3 col1\" >0.112800</td>\n",
              "      <td id=\"T_a6cae_row3_col2\" class=\"data row3 col2\" >-0.047056</td>\n",
              "      <td id=\"T_a6cae_row3_col3\" class=\"data row3 col3\" >1.000000</td>\n",
              "      <td id=\"T_a6cae_row3_col4\" class=\"data row3 col4\" >-0.034807</td>\n",
              "      <td id=\"T_a6cae_row3_col5\" class=\"data row3 col5\" >-0.040502</td>\n",
              "      <td id=\"T_a6cae_row3_col6\" class=\"data row3 col6\" >-0.050189</td>\n",
              "      <td id=\"T_a6cae_row3_col7\" class=\"data row3 col7\" >0.980193</td>\n",
              "      <td id=\"T_a6cae_row3_col8\" class=\"data row3 col8\" >-0.031606</td>\n",
              "      <td id=\"T_a6cae_row3_col9\" class=\"data row3 col9\" >0.983782</td>\n",
              "      <td id=\"T_a6cae_row3_col10\" class=\"data row3 col10\" >-0.001297</td>\n",
              "      <td id=\"T_a6cae_row3_col11\" class=\"data row3 col11\" >-0.029392</td>\n",
              "      <td id=\"T_a6cae_row3_col12\" class=\"data row3 col12\" >-0.034211</td>\n",
              "    </tr>\n",
              "    <tr>\n",
              "      <th id=\"T_a6cae_level0_row4\" class=\"row_heading level0 row4\" >DebtRatio</th>\n",
              "      <td id=\"T_a6cae_row4_col0\" class=\"data row4 col0\" >0.047642</td>\n",
              "      <td id=\"T_a6cae_row4_col1\" class=\"data row4 col1\" >0.128378</td>\n",
              "      <td id=\"T_a6cae_row4_col2\" class=\"data row4 col2\" >0.013047</td>\n",
              "      <td id=\"T_a6cae_row4_col3\" class=\"data row4 col3\" >-0.034807</td>\n",
              "      <td id=\"T_a6cae_row4_col4\" class=\"data row4 col4\" >1.000000</td>\n",
              "      <td id=\"T_a6cae_row4_col5\" class=\"data row4 col5\" >-0.071309</td>\n",
              "      <td id=\"T_a6cae_row4_col6\" class=\"data row4 col6\" >0.355129</td>\n",
              "      <td id=\"T_a6cae_row4_col7\" class=\"data row4 col7\" >-0.054931</td>\n",
              "      <td id=\"T_a6cae_row4_col8\" class=\"data row4 col8\" >0.527984</td>\n",
              "      <td id=\"T_a6cae_row4_col9\" class=\"data row4 col9\" >-0.050086</td>\n",
              "      <td id=\"T_a6cae_row4_col10\" class=\"data row4 col10\" >0.079815</td>\n",
              "      <td id=\"T_a6cae_row4_col11\" class=\"data row4 col11\" >0.656491</td>\n",
              "      <td id=\"T_a6cae_row4_col12\" class=\"data row4 col12\" >-0.104443</td>\n",
              "    </tr>\n",
              "    <tr>\n",
              "      <th id=\"T_a6cae_level0_row5\" class=\"row_heading level0 row5\" >MonthlyIncome</th>\n",
              "      <td id=\"T_a6cae_row5_col0\" class=\"data row5 col0\" >-0.065746</td>\n",
              "      <td id=\"T_a6cae_row5_col1\" class=\"data row5 col1\" >-0.121614</td>\n",
              "      <td id=\"T_a6cae_row5_col2\" class=\"data row5 col2\" >0.195028</td>\n",
              "      <td id=\"T_a6cae_row5_col3\" class=\"data row5 col3\" >-0.040502</td>\n",
              "      <td id=\"T_a6cae_row5_col4\" class=\"data row5 col4\" >-0.071309</td>\n",
              "      <td id=\"T_a6cae_row5_col5\" class=\"data row5 col5\" >1.000000</td>\n",
              "      <td id=\"T_a6cae_row5_col6\" class=\"data row5 col6\" >0.302297</td>\n",
              "      <td id=\"T_a6cae_row5_col7\" class=\"data row5 col7\" >-0.049068</td>\n",
              "      <td id=\"T_a6cae_row5_col8\" class=\"data row5 col8\" >0.418675</td>\n",
              "      <td id=\"T_a6cae_row5_col9\" class=\"data row5 col9\" >-0.043997</td>\n",
              "      <td id=\"T_a6cae_row5_col10\" class=\"data row5 col10\" >0.185289</td>\n",
              "      <td id=\"T_a6cae_row5_col11\" class=\"data row5 col11\" >0.571917</td>\n",
              "      <td id=\"T_a6cae_row5_col12\" class=\"data row5 col12\" >0.667401</td>\n",
              "    </tr>\n",
              "    <tr>\n",
              "      <th id=\"T_a6cae_level0_row6\" class=\"row_heading level0 row6\" >NumberOfOpenCreditLinesAndLoans</th>\n",
              "      <td id=\"T_a6cae_row6_col0\" class=\"data row6 col0\" >-0.036785</td>\n",
              "      <td id=\"T_a6cae_row6_col1\" class=\"data row6 col1\" >-0.182320</td>\n",
              "      <td id=\"T_a6cae_row6_col2\" class=\"data row6 col2\" >0.237755</td>\n",
              "      <td id=\"T_a6cae_row6_col3\" class=\"data row6 col3\" >-0.050189</td>\n",
              "      <td id=\"T_a6cae_row6_col4\" class=\"data row6 col4\" >0.355129</td>\n",
              "      <td id=\"T_a6cae_row6_col5\" class=\"data row6 col5\" >0.302297</td>\n",
              "      <td id=\"T_a6cae_row6_col6\" class=\"data row6 col6\" >1.000000</td>\n",
              "      <td id=\"T_a6cae_row6_col7\" class=\"data row6 col7\" >-0.075977</td>\n",
              "      <td id=\"T_a6cae_row6_col8\" class=\"data row6 col8\" >0.415175</td>\n",
              "      <td id=\"T_a6cae_row6_col9\" class=\"data row6 col9\" >-0.066317</td>\n",
              "      <td id=\"T_a6cae_row6_col10\" class=\"data row6 col10\" >0.036243</td>\n",
              "      <td id=\"T_a6cae_row6_col11\" class=\"data row6 col11\" >0.475631</td>\n",
              "      <td id=\"T_a6cae_row6_col12\" class=\"data row6 col12\" >0.222991</td>\n",
              "    </tr>\n",
              "    <tr>\n",
              "      <th id=\"T_a6cae_level0_row7\" class=\"row_heading level0 row7\" >NumberOfTimes90DaysLate</th>\n",
              "      <td id=\"T_a6cae_row7_col0\" class=\"data row7 col0\" >0.113987</td>\n",
              "      <td id=\"T_a6cae_row7_col1\" class=\"data row7 col1\" >0.101331</td>\n",
              "      <td id=\"T_a6cae_row7_col2\" class=\"data row7 col2\" >-0.048553</td>\n",
              "      <td id=\"T_a6cae_row7_col3\" class=\"data row7 col3\" >0.980193</td>\n",
              "      <td id=\"T_a6cae_row7_col4\" class=\"data row7 col4\" >-0.054931</td>\n",
              "      <td id=\"T_a6cae_row7_col5\" class=\"data row7 col5\" >-0.049068</td>\n",
              "      <td id=\"T_a6cae_row7_col6\" class=\"data row7 col6\" >-0.075977</td>\n",
              "      <td id=\"T_a6cae_row7_col7\" class=\"data row7 col7\" >1.000000</td>\n",
              "      <td id=\"T_a6cae_row7_col8\" class=\"data row7 col8\" >-0.046096</td>\n",
              "      <td id=\"T_a6cae_row7_col9\" class=\"data row7 col9\" >0.991888</td>\n",
              "      <td id=\"T_a6cae_row7_col10\" class=\"data row7 col10\" >-0.007472</td>\n",
              "      <td id=\"T_a6cae_row7_col11\" class=\"data row7 col11\" >-0.050125</td>\n",
              "      <td id=\"T_a6cae_row7_col12\" class=\"data row7 col12\" >-0.037194</td>\n",
              "    </tr>\n",
              "    <tr>\n",
              "      <th id=\"T_a6cae_level0_row8\" class=\"row_heading level0 row8\" >NumberRealEstateLoansOrLines</th>\n",
              "      <td id=\"T_a6cae_row8_col0\" class=\"data row8 col0\" >-0.027175</td>\n",
              "      <td id=\"T_a6cae_row8_col1\" class=\"data row8 col1\" >-0.108471</td>\n",
              "      <td id=\"T_a6cae_row8_col2\" class=\"data row8 col2\" >0.153589</td>\n",
              "      <td id=\"T_a6cae_row8_col3\" class=\"data row8 col3\" >-0.031606</td>\n",
              "      <td id=\"T_a6cae_row8_col4\" class=\"data row8 col4\" >0.527984</td>\n",
              "      <td id=\"T_a6cae_row8_col5\" class=\"data row8 col5\" >0.418675</td>\n",
              "      <td id=\"T_a6cae_row8_col6\" class=\"data row8 col6\" >0.415175</td>\n",
              "      <td id=\"T_a6cae_row8_col7\" class=\"data row8 col7\" >-0.046096</td>\n",
              "      <td id=\"T_a6cae_row8_col8\" class=\"data row8 col8\" >1.000000</td>\n",
              "      <td id=\"T_a6cae_row8_col9\" class=\"data row8 col9\" >-0.039746</td>\n",
              "      <td id=\"T_a6cae_row8_col10\" class=\"data row8 col10\" >0.116324</td>\n",
              "      <td id=\"T_a6cae_row8_col11\" class=\"data row8 col11\" >0.739648</td>\n",
              "      <td id=\"T_a6cae_row8_col12\" class=\"data row8 col12\" >0.257015</td>\n",
              "    </tr>\n",
              "    <tr>\n",
              "      <th id=\"T_a6cae_level0_row9\" class=\"row_heading level0 row9\" >NumberOfTime60-89DaysPastDueNotWorse</th>\n",
              "      <td id=\"T_a6cae_row9_col0\" class=\"data row9 col0\" >0.098583</td>\n",
              "      <td id=\"T_a6cae_row9_col1\" class=\"data row9 col1\" >0.089120</td>\n",
              "      <td id=\"T_a6cae_row9_col2\" class=\"data row9 col2\" >-0.044965</td>\n",
              "      <td id=\"T_a6cae_row9_col3\" class=\"data row9 col3\" >0.983782</td>\n",
              "      <td id=\"T_a6cae_row9_col4\" class=\"data row9 col4\" >-0.050086</td>\n",
              "      <td id=\"T_a6cae_row9_col5\" class=\"data row9 col5\" >-0.043997</td>\n",
              "      <td id=\"T_a6cae_row9_col6\" class=\"data row9 col6\" >-0.066317</td>\n",
              "      <td id=\"T_a6cae_row9_col7\" class=\"data row9 col7\" >0.991888</td>\n",
              "      <td id=\"T_a6cae_row9_col8\" class=\"data row9 col8\" >-0.039746</td>\n",
              "      <td id=\"T_a6cae_row9_col9\" class=\"data row9 col9\" >1.000000</td>\n",
              "      <td id=\"T_a6cae_row9_col10\" class=\"data row9 col10\" >-0.008251</td>\n",
              "      <td id=\"T_a6cae_row9_col11\" class=\"data row9 col11\" >-0.043875</td>\n",
              "      <td id=\"T_a6cae_row9_col12\" class=\"data row9 col12\" >-0.033207</td>\n",
              "    </tr>\n",
              "    <tr>\n",
              "      <th id=\"T_a6cae_level0_row10\" class=\"row_heading level0 row10\" >NumberOfDependents</th>\n",
              "      <td id=\"T_a6cae_row10_col0\" class=\"data row10 col0\" >0.038314</td>\n",
              "      <td id=\"T_a6cae_row10_col1\" class=\"data row10 col1\" >0.065813</td>\n",
              "      <td id=\"T_a6cae_row10_col2\" class=\"data row10 col2\" >-0.151037</td>\n",
              "      <td id=\"T_a6cae_row10_col3\" class=\"data row10 col3\" >-0.001297</td>\n",
              "      <td id=\"T_a6cae_row10_col4\" class=\"data row10 col4\" >0.079815</td>\n",
              "      <td id=\"T_a6cae_row10_col5\" class=\"data row10 col5\" >0.185289</td>\n",
              "      <td id=\"T_a6cae_row10_col6\" class=\"data row10 col6\" >0.036243</td>\n",
              "      <td id=\"T_a6cae_row10_col7\" class=\"data row10 col7\" >-0.007472</td>\n",
              "      <td id=\"T_a6cae_row10_col8\" class=\"data row10 col8\" >0.116324</td>\n",
              "      <td id=\"T_a6cae_row10_col9\" class=\"data row10 col9\" >-0.008251</td>\n",
              "      <td id=\"T_a6cae_row10_col10\" class=\"data row10 col10\" >1.000000</td>\n",
              "      <td id=\"T_a6cae_row10_col11\" class=\"data row10 col11\" >0.177341</td>\n",
              "      <td id=\"T_a6cae_row10_col12\" class=\"data row10 col12\" >-0.475467</td>\n",
              "    </tr>\n",
              "    <tr>\n",
              "      <th id=\"T_a6cae_level0_row11\" class=\"row_heading level0 row11\" >costs</th>\n",
              "      <td id=\"T_a6cae_row11_col0\" class=\"data row11 col0\" >0.005555</td>\n",
              "      <td id=\"T_a6cae_row11_col1\" class=\"data row11 col1\" >0.049696</td>\n",
              "      <td id=\"T_a6cae_row11_col2\" class=\"data row11 col2\" >0.105897</td>\n",
              "      <td id=\"T_a6cae_row11_col3\" class=\"data row11 col3\" >-0.029392</td>\n",
              "      <td id=\"T_a6cae_row11_col4\" class=\"data row11 col4\" >0.656491</td>\n",
              "      <td id=\"T_a6cae_row11_col5\" class=\"data row11 col5\" >0.571917</td>\n",
              "      <td id=\"T_a6cae_row11_col6\" class=\"data row11 col6\" >0.475631</td>\n",
              "      <td id=\"T_a6cae_row11_col7\" class=\"data row11 col7\" >-0.050125</td>\n",
              "      <td id=\"T_a6cae_row11_col8\" class=\"data row11 col8\" >0.739648</td>\n",
              "      <td id=\"T_a6cae_row11_col9\" class=\"data row11 col9\" >-0.043875</td>\n",
              "      <td id=\"T_a6cae_row11_col10\" class=\"data row11 col10\" >0.177341</td>\n",
              "      <td id=\"T_a6cae_row11_col11\" class=\"data row11 col11\" >1.000000</td>\n",
              "      <td id=\"T_a6cae_row11_col12\" class=\"data row11 col12\" >0.328490</td>\n",
              "    </tr>\n",
              "    <tr>\n",
              "      <th id=\"T_a6cae_level0_row12\" class=\"row_heading level0 row12\" >care</th>\n",
              "      <td id=\"T_a6cae_row12_col0\" class=\"data row12 col0\" >-0.069032</td>\n",
              "      <td id=\"T_a6cae_row12_col1\" class=\"data row12 col1\" >-0.135885</td>\n",
              "      <td id=\"T_a6cae_row12_col2\" class=\"data row12 col2\" >0.267216</td>\n",
              "      <td id=\"T_a6cae_row12_col3\" class=\"data row12 col3\" >-0.034211</td>\n",
              "      <td id=\"T_a6cae_row12_col4\" class=\"data row12 col4\" >-0.104443</td>\n",
              "      <td id=\"T_a6cae_row12_col5\" class=\"data row12 col5\" >0.667401</td>\n",
              "      <td id=\"T_a6cae_row12_col6\" class=\"data row12 col6\" >0.222991</td>\n",
              "      <td id=\"T_a6cae_row12_col7\" class=\"data row12 col7\" >-0.037194</td>\n",
              "      <td id=\"T_a6cae_row12_col8\" class=\"data row12 col8\" >0.257015</td>\n",
              "      <td id=\"T_a6cae_row12_col9\" class=\"data row12 col9\" >-0.033207</td>\n",
              "      <td id=\"T_a6cae_row12_col10\" class=\"data row12 col10\" >-0.475467</td>\n",
              "      <td id=\"T_a6cae_row12_col11\" class=\"data row12 col11\" >0.328490</td>\n",
              "      <td id=\"T_a6cae_row12_col12\" class=\"data row12 col12\" >1.000000</td>\n",
              "    </tr>\n",
              "  </tbody>\n",
              "</table>\n"
            ]
          },
          "metadata": {},
          "execution_count": 24
        }
      ]
    },
    {
      "cell_type": "markdown",
      "source": [
        "Удалим из данных коррелирующие поля, зависимыми будем считать связи от 0,5 до 1 (по модулю)."
      ],
      "metadata": {
        "id": "MUx90GVkI8Cb"
      }
    },
    {
      "cell_type": "code",
      "source": [
        "data_1 = data_1.drop(['DebtRatio','NumberOfTime30-59DaysPastDueNotWorse','NumberOfTime60-89DaysPastDueNotWorse','NumberRealEstateLoansOrLines', 'NumberOfDependents', 'MonthlyIncome'],axis=1)"
      ],
      "metadata": {
        "id": "c01lk2EyCtm1"
      },
      "execution_count": 25,
      "outputs": []
    },
    {
      "cell_type": "code",
      "source": [
        "corr = data_1.corr()\n",
        "corr.style.background_gradient(cmap='coolwarm')"
      ],
      "metadata": {
        "colab": {
          "base_uri": "https://localhost:8080/",
          "height": 269
        },
        "id": "nlz8XIfuKU3Q",
        "outputId": "0341f988-852f-452e-c09a-449ae13b4b3f"
      },
      "execution_count": 26,
      "outputs": [
        {
          "output_type": "execute_result",
          "data": {
            "text/plain": [
              "<pandas.io.formats.style.Styler at 0x7ff133e66340>"
            ],
            "text/html": [
              "<style type=\"text/css\">\n",
              "#T_098c4_row0_col0, #T_098c4_row1_col1, #T_098c4_row2_col2, #T_098c4_row3_col3, #T_098c4_row4_col4, #T_098c4_row5_col5, #T_098c4_row6_col6 {\n",
              "  background-color: #b40426;\n",
              "  color: #f1f1f1;\n",
              "}\n",
              "#T_098c4_row0_col1 {\n",
              "  background-color: #bbd1f8;\n",
              "  color: #000000;\n",
              "}\n",
              "#T_098c4_row0_col2 {\n",
              "  background-color: #5e7de7;\n",
              "  color: #f1f1f1;\n",
              "}\n",
              "#T_098c4_row0_col3 {\n",
              "  background-color: #6180e9;\n",
              "  color: #f1f1f1;\n",
              "}\n",
              "#T_098c4_row0_col4 {\n",
              "  background-color: #7396f5;\n",
              "  color: #f1f1f1;\n",
              "}\n",
              "#T_098c4_row0_col5 {\n",
              "  background-color: #4a63d3;\n",
              "  color: #f1f1f1;\n",
              "}\n",
              "#T_098c4_row0_col6 {\n",
              "  background-color: #4c66d6;\n",
              "  color: #f1f1f1;\n",
              "}\n",
              "#T_098c4_row1_col0 {\n",
              "  background-color: #9fbfff;\n",
              "  color: #000000;\n",
              "}\n",
              "#T_098c4_row1_col2, #T_098c4_row1_col3, #T_098c4_row1_col6, #T_098c4_row2_col0, #T_098c4_row2_col1, #T_098c4_row3_col4, #T_098c4_row4_col5 {\n",
              "  background-color: #3b4cc0;\n",
              "  color: #f1f1f1;\n",
              "}\n",
              "#T_098c4_row1_col4 {\n",
              "  background-color: #6f92f3;\n",
              "  color: #f1f1f1;\n",
              "}\n",
              "#T_098c4_row1_col5 {\n",
              "  background-color: #5875e1;\n",
              "  color: #f1f1f1;\n",
              "}\n",
              "#T_098c4_row2_col3, #T_098c4_row2_col6 {\n",
              "  background-color: #b1cbfc;\n",
              "  color: #000000;\n",
              "}\n",
              "#T_098c4_row2_col4, #T_098c4_row5_col4 {\n",
              "  background-color: #4257c9;\n",
              "  color: #f1f1f1;\n",
              "}\n",
              "#T_098c4_row2_col5 {\n",
              "  background-color: #6a8bef;\n",
              "  color: #f1f1f1;\n",
              "}\n",
              "#T_098c4_row3_col0 {\n",
              "  background-color: #4961d2;\n",
              "  color: #f1f1f1;\n",
              "}\n",
              "#T_098c4_row3_col1, #T_098c4_row6_col4 {\n",
              "  background-color: #455cce;\n",
              "  color: #f1f1f1;\n",
              "}\n",
              "#T_098c4_row3_col2 {\n",
              "  background-color: #bad0f8;\n",
              "  color: #000000;\n",
              "}\n",
              "#T_098c4_row3_col5 {\n",
              "  background-color: #dddcdc;\n",
              "  color: #000000;\n",
              "}\n",
              "#T_098c4_row3_col6 {\n",
              "  background-color: #a3c2fe;\n",
              "  color: #000000;\n",
              "}\n",
              "#T_098c4_row4_col0 {\n",
              "  background-color: #7699f6;\n",
              "  color: #f1f1f1;\n",
              "}\n",
              "#T_098c4_row4_col1 {\n",
              "  background-color: #93b5fe;\n",
              "  color: #000000;\n",
              "}\n",
              "#T_098c4_row4_col2 {\n",
              "  background-color: #688aef;\n",
              "  color: #f1f1f1;\n",
              "}\n",
              "#T_098c4_row4_col3 {\n",
              "  background-color: #5673e0;\n",
              "  color: #f1f1f1;\n",
              "}\n",
              "#T_098c4_row4_col6, #T_098c4_row5_col0 {\n",
              "  background-color: #5572df;\n",
              "  color: #f1f1f1;\n",
              "}\n",
              "#T_098c4_row5_col1 {\n",
              "  background-color: #85a8fc;\n",
              "  color: #f1f1f1;\n",
              "}\n",
              "#T_098c4_row5_col2 {\n",
              "  background-color: #94b6ff;\n",
              "  color: #000000;\n",
              "}\n",
              "#T_098c4_row5_col3 {\n",
              "  background-color: #ead4c8;\n",
              "  color: #000000;\n",
              "}\n",
              "#T_098c4_row5_col6 {\n",
              "  background-color: #c3d5f4;\n",
              "  color: #000000;\n",
              "}\n",
              "#T_098c4_row6_col0 {\n",
              "  background-color: #3f53c6;\n",
              "  color: #f1f1f1;\n",
              "}\n",
              "#T_098c4_row6_col1 {\n",
              "  background-color: #516ddb;\n",
              "  color: #f1f1f1;\n",
              "}\n",
              "#T_098c4_row6_col2 {\n",
              "  background-color: #c1d4f4;\n",
              "  color: #000000;\n",
              "}\n",
              "#T_098c4_row6_col3 {\n",
              "  background-color: #adc9fd;\n",
              "  color: #000000;\n",
              "}\n",
              "#T_098c4_row6_col5 {\n",
              "  background-color: #b3cdfb;\n",
              "  color: #000000;\n",
              "}\n",
              "</style>\n",
              "<table id=\"T_098c4_\" class=\"dataframe\">\n",
              "  <thead>\n",
              "    <tr>\n",
              "      <th class=\"blank level0\" >&nbsp;</th>\n",
              "      <th class=\"col_heading level0 col0\" >SeriousDlqin2yrs</th>\n",
              "      <th class=\"col_heading level0 col1\" >RevolvingUtilizationOfUnsecuredLines</th>\n",
              "      <th class=\"col_heading level0 col2\" >age</th>\n",
              "      <th class=\"col_heading level0 col3\" >NumberOfOpenCreditLinesAndLoans</th>\n",
              "      <th class=\"col_heading level0 col4\" >NumberOfTimes90DaysLate</th>\n",
              "      <th class=\"col_heading level0 col5\" >costs</th>\n",
              "      <th class=\"col_heading level0 col6\" >care</th>\n",
              "    </tr>\n",
              "  </thead>\n",
              "  <tbody>\n",
              "    <tr>\n",
              "      <th id=\"T_098c4_level0_row0\" class=\"row_heading level0 row0\" >SeriousDlqin2yrs</th>\n",
              "      <td id=\"T_098c4_row0_col0\" class=\"data row0 col0\" >1.000000</td>\n",
              "      <td id=\"T_098c4_row0_col1\" class=\"data row0 col1\" >0.242173</td>\n",
              "      <td id=\"T_098c4_row0_col2\" class=\"data row0 col2\" >-0.088812</td>\n",
              "      <td id=\"T_098c4_row0_col3\" class=\"data row0 col3\" >-0.036785</td>\n",
              "      <td id=\"T_098c4_row0_col4\" class=\"data row0 col4\" >0.113987</td>\n",
              "      <td id=\"T_098c4_row0_col5\" class=\"data row0 col5\" >0.005555</td>\n",
              "      <td id=\"T_098c4_row0_col6\" class=\"data row0 col6\" >-0.069032</td>\n",
              "    </tr>\n",
              "    <tr>\n",
              "      <th id=\"T_098c4_level0_row1\" class=\"row_heading level0 row1\" >RevolvingUtilizationOfUnsecuredLines</th>\n",
              "      <td id=\"T_098c4_row1_col0\" class=\"data row1 col0\" >0.242173</td>\n",
              "      <td id=\"T_098c4_row1_col1\" class=\"data row1 col1\" >1.000000</td>\n",
              "      <td id=\"T_098c4_row1_col2\" class=\"data row1 col2\" >-0.228781</td>\n",
              "      <td id=\"T_098c4_row1_col3\" class=\"data row1 col3\" >-0.182320</td>\n",
              "      <td id=\"T_098c4_row1_col4\" class=\"data row1 col4\" >0.101331</td>\n",
              "      <td id=\"T_098c4_row1_col5\" class=\"data row1 col5\" >0.049696</td>\n",
              "      <td id=\"T_098c4_row1_col6\" class=\"data row1 col6\" >-0.135885</td>\n",
              "    </tr>\n",
              "    <tr>\n",
              "      <th id=\"T_098c4_level0_row2\" class=\"row_heading level0 row2\" >age</th>\n",
              "      <td id=\"T_098c4_row2_col0\" class=\"data row2 col0\" >-0.088812</td>\n",
              "      <td id=\"T_098c4_row2_col1\" class=\"data row2 col1\" >-0.228781</td>\n",
              "      <td id=\"T_098c4_row2_col2\" class=\"data row2 col2\" >1.000000</td>\n",
              "      <td id=\"T_098c4_row2_col3\" class=\"data row2 col3\" >0.237755</td>\n",
              "      <td id=\"T_098c4_row2_col4\" class=\"data row2 col4\" >-0.048553</td>\n",
              "      <td id=\"T_098c4_row2_col5\" class=\"data row2 col5\" >0.105897</td>\n",
              "      <td id=\"T_098c4_row2_col6\" class=\"data row2 col6\" >0.267216</td>\n",
              "    </tr>\n",
              "    <tr>\n",
              "      <th id=\"T_098c4_level0_row3\" class=\"row_heading level0 row3\" >NumberOfOpenCreditLinesAndLoans</th>\n",
              "      <td id=\"T_098c4_row3_col0\" class=\"data row3 col0\" >-0.036785</td>\n",
              "      <td id=\"T_098c4_row3_col1\" class=\"data row3 col1\" >-0.182320</td>\n",
              "      <td id=\"T_098c4_row3_col2\" class=\"data row3 col2\" >0.237755</td>\n",
              "      <td id=\"T_098c4_row3_col3\" class=\"data row3 col3\" >1.000000</td>\n",
              "      <td id=\"T_098c4_row3_col4\" class=\"data row3 col4\" >-0.075977</td>\n",
              "      <td id=\"T_098c4_row3_col5\" class=\"data row3 col5\" >0.475631</td>\n",
              "      <td id=\"T_098c4_row3_col6\" class=\"data row3 col6\" >0.222991</td>\n",
              "    </tr>\n",
              "    <tr>\n",
              "      <th id=\"T_098c4_level0_row4\" class=\"row_heading level0 row4\" >NumberOfTimes90DaysLate</th>\n",
              "      <td id=\"T_098c4_row4_col0\" class=\"data row4 col0\" >0.113987</td>\n",
              "      <td id=\"T_098c4_row4_col1\" class=\"data row4 col1\" >0.101331</td>\n",
              "      <td id=\"T_098c4_row4_col2\" class=\"data row4 col2\" >-0.048553</td>\n",
              "      <td id=\"T_098c4_row4_col3\" class=\"data row4 col3\" >-0.075977</td>\n",
              "      <td id=\"T_098c4_row4_col4\" class=\"data row4 col4\" >1.000000</td>\n",
              "      <td id=\"T_098c4_row4_col5\" class=\"data row4 col5\" >-0.050125</td>\n",
              "      <td id=\"T_098c4_row4_col6\" class=\"data row4 col6\" >-0.037194</td>\n",
              "    </tr>\n",
              "    <tr>\n",
              "      <th id=\"T_098c4_level0_row5\" class=\"row_heading level0 row5\" >costs</th>\n",
              "      <td id=\"T_098c4_row5_col0\" class=\"data row5 col0\" >0.005555</td>\n",
              "      <td id=\"T_098c4_row5_col1\" class=\"data row5 col1\" >0.049696</td>\n",
              "      <td id=\"T_098c4_row5_col2\" class=\"data row5 col2\" >0.105897</td>\n",
              "      <td id=\"T_098c4_row5_col3\" class=\"data row5 col3\" >0.475631</td>\n",
              "      <td id=\"T_098c4_row5_col4\" class=\"data row5 col4\" >-0.050125</td>\n",
              "      <td id=\"T_098c4_row5_col5\" class=\"data row5 col5\" >1.000000</td>\n",
              "      <td id=\"T_098c4_row5_col6\" class=\"data row5 col6\" >0.328490</td>\n",
              "    </tr>\n",
              "    <tr>\n",
              "      <th id=\"T_098c4_level0_row6\" class=\"row_heading level0 row6\" >care</th>\n",
              "      <td id=\"T_098c4_row6_col0\" class=\"data row6 col0\" >-0.069032</td>\n",
              "      <td id=\"T_098c4_row6_col1\" class=\"data row6 col1\" >-0.135885</td>\n",
              "      <td id=\"T_098c4_row6_col2\" class=\"data row6 col2\" >0.267216</td>\n",
              "      <td id=\"T_098c4_row6_col3\" class=\"data row6 col3\" >0.222991</td>\n",
              "      <td id=\"T_098c4_row6_col4\" class=\"data row6 col4\" >-0.037194</td>\n",
              "      <td id=\"T_098c4_row6_col5\" class=\"data row6 col5\" >0.328490</td>\n",
              "      <td id=\"T_098c4_row6_col6\" class=\"data row6 col6\" >1.000000</td>\n",
              "    </tr>\n",
              "  </tbody>\n",
              "</table>\n"
            ]
          },
          "metadata": {},
          "execution_count": 26
        }
      ]
    },
    {
      "cell_type": "markdown",
      "source": [
        "### **Обучение модели**"
      ],
      "metadata": {
        "id": "xwnNNNAGs1Pw"
      }
    },
    {
      "cell_type": "markdown",
      "source": [
        "Сформируем матрицу X объект-признак и вектор y целевой переменной."
      ],
      "metadata": {
        "id": "xXfqEB5ALL70"
      }
    },
    {
      "cell_type": "code",
      "source": [
        "y = data_1['SeriousDlqin2yrs']\n",
        "X = data_1.drop('SeriousDlqin2yrs', axis=1)"
      ],
      "metadata": {
        "id": "Zq3hefN4Kvcy"
      },
      "execution_count": 27,
      "outputs": []
    },
    {
      "cell_type": "markdown",
      "source": [
        "Мы разбиваем данные на train и test, чтобы:\n",
        "\n",
        "на тренировочных данных обучить модель\n",
        "на тестовых применить обученную модель и затем проверить качество модели"
      ],
      "metadata": {
        "id": "dDiEH7ihMZ-B"
      }
    },
    {
      "cell_type": "code",
      "source": [
        "from sklearn.metrics import accuracy_score\n",
        "from sklearn.model_selection import train_test_split\n",
        "\n",
        "Xtrain, Xtest, ytrain, ytest = train_test_split(X, y, test_size=0.25, random_state=42)"
      ],
      "metadata": {
        "id": "pLnbBDkeLieE"
      },
      "execution_count": 28,
      "outputs": []
    },
    {
      "cell_type": "markdown",
      "source": [
        "Отмасштабируем признаки при помощи StandardScaler, обучив метод на тренировочных данных и применив его и к трейну, и к тесту."
      ],
      "metadata": {
        "id": "M553jh3yNFK9"
      }
    },
    {
      "cell_type": "code",
      "source": [
        "from sklearn.preprocessing import StandardScaler\n",
        "\n",
        "ss = StandardScaler()\n",
        "ss.fit(Xtrain)\n",
        "\n",
        "Xtrain = pd.DataFrame(ss.transform(Xtrain), columns=X.columns)\n",
        "Xtest = pd.DataFrame(ss.transform(Xtest), columns=X.columns)\n",
        "\n",
        "Xtrain.head()"
      ],
      "metadata": {
        "colab": {
          "base_uri": "https://localhost:8080/",
          "height": 206
        },
        "id": "EPlJuXvpNIMt",
        "outputId": "9d0e53f7-27c2-4443-9180-534b7e89ffef"
      },
      "execution_count": 29,
      "outputs": [
        {
          "output_type": "execute_result",
          "data": {
            "text/plain": [
              "   RevolvingUtilizationOfUnsecuredLines       age  \\\n",
              "0                             -0.959265  0.283710   \n",
              "1                             -0.710215  0.046006   \n",
              "2                             -0.952666 -0.667108   \n",
              "3                             -0.599174 -0.112464   \n",
              "4                             -0.937036 -1.380222   \n",
              "\n",
              "   NumberOfOpenCreditLinesAndLoans  NumberOfTimes90DaysLate     costs  \\\n",
              "0                        -0.135918                -0.059447 -0.508677   \n",
              "1                        -0.332861                -0.059447 -1.127379   \n",
              "2                         1.242680                -0.059447 -1.163529   \n",
              "3                        -0.726746                -0.059447 -0.067245   \n",
              "4                        -1.317574                -0.059447 -0.941886   \n",
              "\n",
              "       care  \n",
              "0 -0.104573  \n",
              "1 -0.045924  \n",
              "2  0.220370  \n",
              "3 -0.374037  \n",
              "4 -0.724341  "
            ],
            "text/html": [
              "\n",
              "  <div id=\"df-c1b7fc89-d8fb-468e-9274-d978e676c59a\">\n",
              "    <div class=\"colab-df-container\">\n",
              "      <div>\n",
              "<style scoped>\n",
              "    .dataframe tbody tr th:only-of-type {\n",
              "        vertical-align: middle;\n",
              "    }\n",
              "\n",
              "    .dataframe tbody tr th {\n",
              "        vertical-align: top;\n",
              "    }\n",
              "\n",
              "    .dataframe thead th {\n",
              "        text-align: right;\n",
              "    }\n",
              "</style>\n",
              "<table border=\"1\" class=\"dataframe\">\n",
              "  <thead>\n",
              "    <tr style=\"text-align: right;\">\n",
              "      <th></th>\n",
              "      <th>RevolvingUtilizationOfUnsecuredLines</th>\n",
              "      <th>age</th>\n",
              "      <th>NumberOfOpenCreditLinesAndLoans</th>\n",
              "      <th>NumberOfTimes90DaysLate</th>\n",
              "      <th>costs</th>\n",
              "      <th>care</th>\n",
              "    </tr>\n",
              "  </thead>\n",
              "  <tbody>\n",
              "    <tr>\n",
              "      <th>0</th>\n",
              "      <td>-0.959265</td>\n",
              "      <td>0.283710</td>\n",
              "      <td>-0.135918</td>\n",
              "      <td>-0.059447</td>\n",
              "      <td>-0.508677</td>\n",
              "      <td>-0.104573</td>\n",
              "    </tr>\n",
              "    <tr>\n",
              "      <th>1</th>\n",
              "      <td>-0.710215</td>\n",
              "      <td>0.046006</td>\n",
              "      <td>-0.332861</td>\n",
              "      <td>-0.059447</td>\n",
              "      <td>-1.127379</td>\n",
              "      <td>-0.045924</td>\n",
              "    </tr>\n",
              "    <tr>\n",
              "      <th>2</th>\n",
              "      <td>-0.952666</td>\n",
              "      <td>-0.667108</td>\n",
              "      <td>1.242680</td>\n",
              "      <td>-0.059447</td>\n",
              "      <td>-1.163529</td>\n",
              "      <td>0.220370</td>\n",
              "    </tr>\n",
              "    <tr>\n",
              "      <th>3</th>\n",
              "      <td>-0.599174</td>\n",
              "      <td>-0.112464</td>\n",
              "      <td>-0.726746</td>\n",
              "      <td>-0.059447</td>\n",
              "      <td>-0.067245</td>\n",
              "      <td>-0.374037</td>\n",
              "    </tr>\n",
              "    <tr>\n",
              "      <th>4</th>\n",
              "      <td>-0.937036</td>\n",
              "      <td>-1.380222</td>\n",
              "      <td>-1.317574</td>\n",
              "      <td>-0.059447</td>\n",
              "      <td>-0.941886</td>\n",
              "      <td>-0.724341</td>\n",
              "    </tr>\n",
              "  </tbody>\n",
              "</table>\n",
              "</div>\n",
              "      <button class=\"colab-df-convert\" onclick=\"convertToInteractive('df-c1b7fc89-d8fb-468e-9274-d978e676c59a')\"\n",
              "              title=\"Convert this dataframe to an interactive table.\"\n",
              "              style=\"display:none;\">\n",
              "        \n",
              "  <svg xmlns=\"http://www.w3.org/2000/svg\" height=\"24px\"viewBox=\"0 0 24 24\"\n",
              "       width=\"24px\">\n",
              "    <path d=\"M0 0h24v24H0V0z\" fill=\"none\"/>\n",
              "    <path d=\"M18.56 5.44l.94 2.06.94-2.06 2.06-.94-2.06-.94-.94-2.06-.94 2.06-2.06.94zm-11 1L8.5 8.5l.94-2.06 2.06-.94-2.06-.94L8.5 2.5l-.94 2.06-2.06.94zm10 10l.94 2.06.94-2.06 2.06-.94-2.06-.94-.94-2.06-.94 2.06-2.06.94z\"/><path d=\"M17.41 7.96l-1.37-1.37c-.4-.4-.92-.59-1.43-.59-.52 0-1.04.2-1.43.59L10.3 9.45l-7.72 7.72c-.78.78-.78 2.05 0 2.83L4 21.41c.39.39.9.59 1.41.59.51 0 1.02-.2 1.41-.59l7.78-7.78 2.81-2.81c.8-.78.8-2.07 0-2.86zM5.41 20L4 18.59l7.72-7.72 1.47 1.35L5.41 20z\"/>\n",
              "  </svg>\n",
              "      </button>\n",
              "      \n",
              "  <style>\n",
              "    .colab-df-container {\n",
              "      display:flex;\n",
              "      flex-wrap:wrap;\n",
              "      gap: 12px;\n",
              "    }\n",
              "\n",
              "    .colab-df-convert {\n",
              "      background-color: #E8F0FE;\n",
              "      border: none;\n",
              "      border-radius: 50%;\n",
              "      cursor: pointer;\n",
              "      display: none;\n",
              "      fill: #1967D2;\n",
              "      height: 32px;\n",
              "      padding: 0 0 0 0;\n",
              "      width: 32px;\n",
              "    }\n",
              "\n",
              "    .colab-df-convert:hover {\n",
              "      background-color: #E2EBFA;\n",
              "      box-shadow: 0px 1px 2px rgba(60, 64, 67, 0.3), 0px 1px 3px 1px rgba(60, 64, 67, 0.15);\n",
              "      fill: #174EA6;\n",
              "    }\n",
              "\n",
              "    [theme=dark] .colab-df-convert {\n",
              "      background-color: #3B4455;\n",
              "      fill: #D2E3FC;\n",
              "    }\n",
              "\n",
              "    [theme=dark] .colab-df-convert:hover {\n",
              "      background-color: #434B5C;\n",
              "      box-shadow: 0px 1px 3px 1px rgba(0, 0, 0, 0.15);\n",
              "      filter: drop-shadow(0px 1px 2px rgba(0, 0, 0, 0.3));\n",
              "      fill: #FFFFFF;\n",
              "    }\n",
              "  </style>\n",
              "\n",
              "      <script>\n",
              "        const buttonEl =\n",
              "          document.querySelector('#df-c1b7fc89-d8fb-468e-9274-d978e676c59a button.colab-df-convert');\n",
              "        buttonEl.style.display =\n",
              "          google.colab.kernel.accessAllowed ? 'block' : 'none';\n",
              "\n",
              "        async function convertToInteractive(key) {\n",
              "          const element = document.querySelector('#df-c1b7fc89-d8fb-468e-9274-d978e676c59a');\n",
              "          const dataTable =\n",
              "            await google.colab.kernel.invokeFunction('convertToInteractive',\n",
              "                                                     [key], {});\n",
              "          if (!dataTable) return;\n",
              "\n",
              "          const docLinkHtml = 'Like what you see? Visit the ' +\n",
              "            '<a target=\"_blank\" href=https://colab.research.google.com/notebooks/data_table.ipynb>data table notebook</a>'\n",
              "            + ' to learn more about interactive tables.';\n",
              "          element.innerHTML = '';\n",
              "          dataTable['output_type'] = 'display_data';\n",
              "          await google.colab.output.renderOutput(dataTable, element);\n",
              "          const docLink = document.createElement('div');\n",
              "          docLink.innerHTML = docLinkHtml;\n",
              "          element.appendChild(docLink);\n",
              "        }\n",
              "      </script>\n",
              "    </div>\n",
              "  </div>\n",
              "  "
            ]
          },
          "metadata": {},
          "execution_count": 29
        }
      ]
    },
    {
      "cell_type": "markdown",
      "source": [
        "Обучим логистическую регрессию на train и сделаем предсказание на новых для нее данных (test)."
      ],
      "metadata": {
        "id": "CiQs6SN1Na6v"
      }
    },
    {
      "cell_type": "code",
      "source": [
        "from sklearn.linear_model import LogisticRegression\n",
        "\n",
        "model = LogisticRegression() # объявление модели\n",
        "model.fit(Xtrain, ytrain) # обучение модели"
      ],
      "metadata": {
        "colab": {
          "base_uri": "https://localhost:8080/"
        },
        "id": "1IPU7L6dNbrk",
        "outputId": "a1b45bf6-b4b3-460f-f287-0774cb21763d"
      },
      "execution_count": 30,
      "outputs": [
        {
          "output_type": "execute_result",
          "data": {
            "text/plain": [
              "LogisticRegression()"
            ]
          },
          "metadata": {},
          "execution_count": 30
        }
      ]
    },
    {
      "cell_type": "code",
      "source": [
        "pred_test = model.predict(Xtest) # предсказание классов"
      ],
      "metadata": {
        "id": "5SuN0YeJNipz"
      },
      "execution_count": 31,
      "outputs": []
    },
    {
      "cell_type": "code",
      "source": [
        "pred_test"
      ],
      "metadata": {
        "colab": {
          "base_uri": "https://localhost:8080/"
        },
        "id": "mRfgoFtBNldh",
        "outputId": "71b905a1-634e-4c0d-c5dd-c495cca29983"
      },
      "execution_count": 32,
      "outputs": [
        {
          "output_type": "execute_result",
          "data": {
            "text/plain": [
              "array([0, 0, 0, ..., 0, 0, 0])"
            ]
          },
          "metadata": {},
          "execution_count": 32
        }
      ]
    },
    {
      "cell_type": "code",
      "source": [
        "accuracy_score(ytest, pred_test)  # 0.9342199002612206"
      ],
      "metadata": {
        "colab": {
          "base_uri": "https://localhost:8080/"
        },
        "id": "dy1G2VrHNtva",
        "outputId": "835e0221-c72b-46e1-8a13-144daa628ac7"
      },
      "execution_count": 33,
      "outputs": [
        {
          "output_type": "execute_result",
          "data": {
            "text/plain": [
              "0.9342199002612206"
            ]
          },
          "metadata": {},
          "execution_count": 33
        }
      ]
    },
    {
      "cell_type": "markdown",
      "source": [
        "Проверим, сбалансирована ли выборка."
      ],
      "metadata": {
        "id": "rw08UZ3MOAM9"
      }
    },
    {
      "cell_type": "code",
      "source": [
        "y.value_counts()"
      ],
      "metadata": {
        "colab": {
          "base_uri": "https://localhost:8080/"
        },
        "id": "abNXCRoFN10y",
        "outputId": "b543ce41-eab7-48d6-9c6a-4481fb9cfa08"
      },
      "execution_count": 34,
      "outputs": [
        {
          "output_type": "execute_result",
          "data": {
            "text/plain": [
              "0    94653\n",
              "1     6409\n",
              "Name: SeriousDlqin2yrs, dtype: int64"
            ]
          },
          "metadata": {},
          "execution_count": 34
        }
      ]
    },
    {
      "cell_type": "markdown",
      "source": [
        "Баланса классов нет: большинство клиентов не имеют просрочку больше чем на 90 дней"
      ],
      "metadata": {
        "id": "Djh-RQKWiAVc"
      }
    },
    {
      "cell_type": "code",
      "source": [
        "from sklearn.metrics import confusion_matrix\n",
        "\n",
        "confusion_matrix(ytest, pred_test)"
      ],
      "metadata": {
        "colab": {
          "base_uri": "https://localhost:8080/"
        },
        "id": "hg6JVBuoONlp",
        "outputId": "58a3d6e9-8f75-4dfa-8e27-0c3071531c6c"
      },
      "execution_count": 35,
      "outputs": [
        {
          "output_type": "execute_result",
          "data": {
            "text/plain": [
              "array([[23584,    13],\n",
              "       [ 1649,    20]])"
            ]
          },
          "metadata": {},
          "execution_count": 35
        }
      ]
    },
    {
      "cell_type": "code",
      "source": [
        "ytest.value_counts()"
      ],
      "metadata": {
        "colab": {
          "base_uri": "https://localhost:8080/"
        },
        "id": "9Ocp2zOhOP28",
        "outputId": "170fa7de-f47d-49b5-8c2e-36a945ba2b26"
      },
      "execution_count": 36,
      "outputs": [
        {
          "output_type": "execute_result",
          "data": {
            "text/plain": [
              "0    23597\n",
              "1     1669\n",
              "Name: SeriousDlqin2yrs, dtype: int64"
            ]
          },
          "metadata": {},
          "execution_count": 36
        }
      ]
    },
    {
      "cell_type": "code",
      "source": [
        "from sklearn.metrics import recall_score\n",
        "\n",
        "recall_score(ytest, pred_test) "
      ],
      "metadata": {
        "colab": {
          "base_uri": "https://localhost:8080/"
        },
        "id": "MSA5yLtoOhqU",
        "outputId": "4905e7d5-87fc-4a8e-fb9d-44146f1fdfa7"
      },
      "execution_count": 37,
      "outputs": [
        {
          "output_type": "execute_result",
          "data": {
            "text/plain": [
              "0.011983223487118035"
            ]
          },
          "metadata": {},
          "execution_count": 37
        }
      ]
    },
    {
      "cell_type": "code",
      "source": [
        "from sklearn.metrics import precision_score\n",
        "\n",
        "precision_score(ytest, pred_test)"
      ],
      "metadata": {
        "colab": {
          "base_uri": "https://localhost:8080/"
        },
        "id": "VwH6W3FrQXlt",
        "outputId": "673e9bb2-5c97-40e0-96a5-7b44ecb5eddd"
      },
      "execution_count": 38,
      "outputs": [
        {
          "output_type": "execute_result",
          "data": {
            "text/plain": [
              "0.6060606060606061"
            ]
          },
          "metadata": {},
          "execution_count": 38
        }
      ]
    },
    {
      "cell_type": "code",
      "source": [
        "probs = model.predict_proba(Xtest)\n",
        "\n",
        "probs[:10]"
      ],
      "metadata": {
        "colab": {
          "base_uri": "https://localhost:8080/"
        },
        "id": "K8dI954FPEG9",
        "outputId": "97b14b9f-2ce4-4600-c88c-73753720d87f"
      },
      "execution_count": 39,
      "outputs": [
        {
          "output_type": "execute_result",
          "data": {
            "text/plain": [
              "array([[0.93234369, 0.06765631],\n",
              "       [0.96332775, 0.03667225],\n",
              "       [0.83822595, 0.16177405],\n",
              "       [0.83277529, 0.16722471],\n",
              "       [0.83833921, 0.16166079],\n",
              "       [0.97541502, 0.02458498],\n",
              "       [0.91235913, 0.08764087],\n",
              "       [0.97139632, 0.02860368],\n",
              "       [0.7872574 , 0.2127426 ],\n",
              "       [0.98075812, 0.01924188]])"
            ]
          },
          "metadata": {},
          "execution_count": 39
        }
      ]
    },
    {
      "cell_type": "code",
      "source": [
        "model.coef_, model.intercept_"
      ],
      "metadata": {
        "colab": {
          "base_uri": "https://localhost:8080/"
        },
        "id": "jNkEE_OsT-cM",
        "outputId": "903e39ac-2a08-4666-fbf8-95a11ba5b776"
      },
      "execution_count": 40,
      "outputs": [
        {
          "output_type": "execute_result",
          "data": {
            "text/plain": [
              "(array([[ 0.84509522, -0.15229518,  0.17296579,  0.09514255,  0.0563159 ,\n",
              "         -0.21582549]]), array([-3.11765017]))"
            ]
          },
          "metadata": {},
          "execution_count": 40
        }
      ]
    },
    {
      "cell_type": "code",
      "source": [
        "coef_table = pd.DataFrame({'features' : list(X.columns), 'weights' : list(model.coef_[0])})\n",
        "\n",
        "coef_table.sort_values(by='weights')"
      ],
      "metadata": {
        "colab": {
          "base_uri": "https://localhost:8080/",
          "height": 238
        },
        "id": "pWxxRy9JUDL3",
        "outputId": "282e297e-a222-46dd-fce3-643d47adbfdf"
      },
      "execution_count": 41,
      "outputs": [
        {
          "output_type": "execute_result",
          "data": {
            "text/plain": [
              "                               features   weights\n",
              "5                                  care -0.215825\n",
              "1                                   age -0.152295\n",
              "4                                 costs  0.056316\n",
              "3               NumberOfTimes90DaysLate  0.095143\n",
              "2       NumberOfOpenCreditLinesAndLoans  0.172966\n",
              "0  RevolvingUtilizationOfUnsecuredLines  0.845095"
            ],
            "text/html": [
              "\n",
              "  <div id=\"df-e538734c-6d37-4a20-bc94-fa5bcecb0d0e\">\n",
              "    <div class=\"colab-df-container\">\n",
              "      <div>\n",
              "<style scoped>\n",
              "    .dataframe tbody tr th:only-of-type {\n",
              "        vertical-align: middle;\n",
              "    }\n",
              "\n",
              "    .dataframe tbody tr th {\n",
              "        vertical-align: top;\n",
              "    }\n",
              "\n",
              "    .dataframe thead th {\n",
              "        text-align: right;\n",
              "    }\n",
              "</style>\n",
              "<table border=\"1\" class=\"dataframe\">\n",
              "  <thead>\n",
              "    <tr style=\"text-align: right;\">\n",
              "      <th></th>\n",
              "      <th>features</th>\n",
              "      <th>weights</th>\n",
              "    </tr>\n",
              "  </thead>\n",
              "  <tbody>\n",
              "    <tr>\n",
              "      <th>5</th>\n",
              "      <td>care</td>\n",
              "      <td>-0.215825</td>\n",
              "    </tr>\n",
              "    <tr>\n",
              "      <th>1</th>\n",
              "      <td>age</td>\n",
              "      <td>-0.152295</td>\n",
              "    </tr>\n",
              "    <tr>\n",
              "      <th>4</th>\n",
              "      <td>costs</td>\n",
              "      <td>0.056316</td>\n",
              "    </tr>\n",
              "    <tr>\n",
              "      <th>3</th>\n",
              "      <td>NumberOfTimes90DaysLate</td>\n",
              "      <td>0.095143</td>\n",
              "    </tr>\n",
              "    <tr>\n",
              "      <th>2</th>\n",
              "      <td>NumberOfOpenCreditLinesAndLoans</td>\n",
              "      <td>0.172966</td>\n",
              "    </tr>\n",
              "    <tr>\n",
              "      <th>0</th>\n",
              "      <td>RevolvingUtilizationOfUnsecuredLines</td>\n",
              "      <td>0.845095</td>\n",
              "    </tr>\n",
              "  </tbody>\n",
              "</table>\n",
              "</div>\n",
              "      <button class=\"colab-df-convert\" onclick=\"convertToInteractive('df-e538734c-6d37-4a20-bc94-fa5bcecb0d0e')\"\n",
              "              title=\"Convert this dataframe to an interactive table.\"\n",
              "              style=\"display:none;\">\n",
              "        \n",
              "  <svg xmlns=\"http://www.w3.org/2000/svg\" height=\"24px\"viewBox=\"0 0 24 24\"\n",
              "       width=\"24px\">\n",
              "    <path d=\"M0 0h24v24H0V0z\" fill=\"none\"/>\n",
              "    <path d=\"M18.56 5.44l.94 2.06.94-2.06 2.06-.94-2.06-.94-.94-2.06-.94 2.06-2.06.94zm-11 1L8.5 8.5l.94-2.06 2.06-.94-2.06-.94L8.5 2.5l-.94 2.06-2.06.94zm10 10l.94 2.06.94-2.06 2.06-.94-2.06-.94-.94-2.06-.94 2.06-2.06.94z\"/><path d=\"M17.41 7.96l-1.37-1.37c-.4-.4-.92-.59-1.43-.59-.52 0-1.04.2-1.43.59L10.3 9.45l-7.72 7.72c-.78.78-.78 2.05 0 2.83L4 21.41c.39.39.9.59 1.41.59.51 0 1.02-.2 1.41-.59l7.78-7.78 2.81-2.81c.8-.78.8-2.07 0-2.86zM5.41 20L4 18.59l7.72-7.72 1.47 1.35L5.41 20z\"/>\n",
              "  </svg>\n",
              "      </button>\n",
              "      \n",
              "  <style>\n",
              "    .colab-df-container {\n",
              "      display:flex;\n",
              "      flex-wrap:wrap;\n",
              "      gap: 12px;\n",
              "    }\n",
              "\n",
              "    .colab-df-convert {\n",
              "      background-color: #E8F0FE;\n",
              "      border: none;\n",
              "      border-radius: 50%;\n",
              "      cursor: pointer;\n",
              "      display: none;\n",
              "      fill: #1967D2;\n",
              "      height: 32px;\n",
              "      padding: 0 0 0 0;\n",
              "      width: 32px;\n",
              "    }\n",
              "\n",
              "    .colab-df-convert:hover {\n",
              "      background-color: #E2EBFA;\n",
              "      box-shadow: 0px 1px 2px rgba(60, 64, 67, 0.3), 0px 1px 3px 1px rgba(60, 64, 67, 0.15);\n",
              "      fill: #174EA6;\n",
              "    }\n",
              "\n",
              "    [theme=dark] .colab-df-convert {\n",
              "      background-color: #3B4455;\n",
              "      fill: #D2E3FC;\n",
              "    }\n",
              "\n",
              "    [theme=dark] .colab-df-convert:hover {\n",
              "      background-color: #434B5C;\n",
              "      box-shadow: 0px 1px 3px 1px rgba(0, 0, 0, 0.15);\n",
              "      filter: drop-shadow(0px 1px 2px rgba(0, 0, 0, 0.3));\n",
              "      fill: #FFFFFF;\n",
              "    }\n",
              "  </style>\n",
              "\n",
              "      <script>\n",
              "        const buttonEl =\n",
              "          document.querySelector('#df-e538734c-6d37-4a20-bc94-fa5bcecb0d0e button.colab-df-convert');\n",
              "        buttonEl.style.display =\n",
              "          google.colab.kernel.accessAllowed ? 'block' : 'none';\n",
              "\n",
              "        async function convertToInteractive(key) {\n",
              "          const element = document.querySelector('#df-e538734c-6d37-4a20-bc94-fa5bcecb0d0e');\n",
              "          const dataTable =\n",
              "            await google.colab.kernel.invokeFunction('convertToInteractive',\n",
              "                                                     [key], {});\n",
              "          if (!dataTable) return;\n",
              "\n",
              "          const docLinkHtml = 'Like what you see? Visit the ' +\n",
              "            '<a target=\"_blank\" href=https://colab.research.google.com/notebooks/data_table.ipynb>data table notebook</a>'\n",
              "            + ' to learn more about interactive tables.';\n",
              "          element.innerHTML = '';\n",
              "          dataTable['output_type'] = 'display_data';\n",
              "          await google.colab.output.renderOutput(dataTable, element);\n",
              "          const docLink = document.createElement('div');\n",
              "          docLink.innerHTML = docLinkHtml;\n",
              "          element.appendChild(docLink);\n",
              "        }\n",
              "      </script>\n",
              "    </div>\n",
              "  </div>\n",
              "  "
            ]
          },
          "metadata": {},
          "execution_count": 41
        }
      ]
    },
    {
      "cell_type": "markdown",
      "source": [
        "## **Вторая гипотеза**"
      ],
      "metadata": {
        "id": "V1USB4MtuZrf"
      }
    },
    {
      "cell_type": "code",
      "source": [
        "data_2 = data[(data.DebtRatio <= 1) & (data.RevolvingUtilizationOfUnsecuredLines <= 1)]"
      ],
      "metadata": {
        "id": "rFBzZ3Oxune6"
      },
      "execution_count": 42,
      "outputs": []
    },
    {
      "cell_type": "code",
      "source": [
        "data_2.describe()"
      ],
      "metadata": {
        "colab": {
          "base_uri": "https://localhost:8080/",
          "height": 382
        },
        "id": "JaE3UJswuxpp",
        "outputId": "24a58ab4-391c-4ed0-a661-50e4990a21e8"
      },
      "execution_count": 43,
      "outputs": [
        {
          "output_type": "execute_result",
          "data": {
            "text/plain": [
              "       SeriousDlqin2yrs  RevolvingUtilizationOfUnsecuredLines            age  \\\n",
              "count     103957.000000                         103957.000000  103957.000000   \n",
              "mean           0.063565                              0.324661      49.509643   \n",
              "std            0.243977                              0.338847      12.619799   \n",
              "min            0.000000                              0.000000      21.000000   \n",
              "25%            0.000000                              0.037307      40.000000   \n",
              "50%            0.000000                              0.180183      50.000000   \n",
              "75%            0.000000                              0.559212      60.000000   \n",
              "max            1.000000                              1.000000      74.000000   \n",
              "\n",
              "       NumberOfTime30-59DaysPastDueNotWorse      DebtRatio  MonthlyIncome  \\\n",
              "count                         103957.000000  103957.000000   1.030530e+05   \n",
              "mean                               0.431553       0.313501   7.096332e+03   \n",
              "std                                4.304056       0.222831   1.525078e+04   \n",
              "min                                0.000000       0.000000   0.000000e+00   \n",
              "25%                                0.000000       0.143898   3.750000e+03   \n",
              "50%                                0.000000       0.285808   5.771000e+03   \n",
              "75%                                0.000000       0.445983   8.583000e+03   \n",
              "max                               98.000000       1.000000   3.008750e+06   \n",
              "\n",
              "       NumberOfOpenCreditLinesAndLoans  NumberOfTimes90DaysLate  \\\n",
              "count                    103957.000000            103957.000000   \n",
              "mean                          8.699905                 0.268082   \n",
              "std                           5.153650                 4.279733   \n",
              "min                           0.000000                 0.000000   \n",
              "25%                           5.000000                 0.000000   \n",
              "50%                           8.000000                 0.000000   \n",
              "75%                          11.000000                 0.000000   \n",
              "max                          57.000000                98.000000   \n",
              "\n",
              "       NumberRealEstateLoansOrLines  NumberOfTime60-89DaysPastDueNotWorse  \\\n",
              "count                 103957.000000                         103957.000000   \n",
              "mean                       1.047597                              0.245957   \n",
              "std                        1.090566                              4.268489   \n",
              "min                        0.000000                              0.000000   \n",
              "25%                        0.000000                              0.000000   \n",
              "50%                        1.000000                              0.000000   \n",
              "75%                        2.000000                              0.000000   \n",
              "max                       29.000000                             98.000000   \n",
              "\n",
              "       NumberOfDependents  \n",
              "count       103730.000000  \n",
              "mean             0.894341  \n",
              "std              1.165167  \n",
              "min              0.000000  \n",
              "25%              0.000000  \n",
              "50%              0.000000  \n",
              "75%              2.000000  \n",
              "max             20.000000  "
            ],
            "text/html": [
              "\n",
              "  <div id=\"df-7554c931-e944-4b9a-89be-c9d59bb4c5f2\">\n",
              "    <div class=\"colab-df-container\">\n",
              "      <div>\n",
              "<style scoped>\n",
              "    .dataframe tbody tr th:only-of-type {\n",
              "        vertical-align: middle;\n",
              "    }\n",
              "\n",
              "    .dataframe tbody tr th {\n",
              "        vertical-align: top;\n",
              "    }\n",
              "\n",
              "    .dataframe thead th {\n",
              "        text-align: right;\n",
              "    }\n",
              "</style>\n",
              "<table border=\"1\" class=\"dataframe\">\n",
              "  <thead>\n",
              "    <tr style=\"text-align: right;\">\n",
              "      <th></th>\n",
              "      <th>SeriousDlqin2yrs</th>\n",
              "      <th>RevolvingUtilizationOfUnsecuredLines</th>\n",
              "      <th>age</th>\n",
              "      <th>NumberOfTime30-59DaysPastDueNotWorse</th>\n",
              "      <th>DebtRatio</th>\n",
              "      <th>MonthlyIncome</th>\n",
              "      <th>NumberOfOpenCreditLinesAndLoans</th>\n",
              "      <th>NumberOfTimes90DaysLate</th>\n",
              "      <th>NumberRealEstateLoansOrLines</th>\n",
              "      <th>NumberOfTime60-89DaysPastDueNotWorse</th>\n",
              "      <th>NumberOfDependents</th>\n",
              "    </tr>\n",
              "  </thead>\n",
              "  <tbody>\n",
              "    <tr>\n",
              "      <th>count</th>\n",
              "      <td>103957.000000</td>\n",
              "      <td>103957.000000</td>\n",
              "      <td>103957.000000</td>\n",
              "      <td>103957.000000</td>\n",
              "      <td>103957.000000</td>\n",
              "      <td>1.030530e+05</td>\n",
              "      <td>103957.000000</td>\n",
              "      <td>103957.000000</td>\n",
              "      <td>103957.000000</td>\n",
              "      <td>103957.000000</td>\n",
              "      <td>103730.000000</td>\n",
              "    </tr>\n",
              "    <tr>\n",
              "      <th>mean</th>\n",
              "      <td>0.063565</td>\n",
              "      <td>0.324661</td>\n",
              "      <td>49.509643</td>\n",
              "      <td>0.431553</td>\n",
              "      <td>0.313501</td>\n",
              "      <td>7.096332e+03</td>\n",
              "      <td>8.699905</td>\n",
              "      <td>0.268082</td>\n",
              "      <td>1.047597</td>\n",
              "      <td>0.245957</td>\n",
              "      <td>0.894341</td>\n",
              "    </tr>\n",
              "    <tr>\n",
              "      <th>std</th>\n",
              "      <td>0.243977</td>\n",
              "      <td>0.338847</td>\n",
              "      <td>12.619799</td>\n",
              "      <td>4.304056</td>\n",
              "      <td>0.222831</td>\n",
              "      <td>1.525078e+04</td>\n",
              "      <td>5.153650</td>\n",
              "      <td>4.279733</td>\n",
              "      <td>1.090566</td>\n",
              "      <td>4.268489</td>\n",
              "      <td>1.165167</td>\n",
              "    </tr>\n",
              "    <tr>\n",
              "      <th>min</th>\n",
              "      <td>0.000000</td>\n",
              "      <td>0.000000</td>\n",
              "      <td>21.000000</td>\n",
              "      <td>0.000000</td>\n",
              "      <td>0.000000</td>\n",
              "      <td>0.000000e+00</td>\n",
              "      <td>0.000000</td>\n",
              "      <td>0.000000</td>\n",
              "      <td>0.000000</td>\n",
              "      <td>0.000000</td>\n",
              "      <td>0.000000</td>\n",
              "    </tr>\n",
              "    <tr>\n",
              "      <th>25%</th>\n",
              "      <td>0.000000</td>\n",
              "      <td>0.037307</td>\n",
              "      <td>40.000000</td>\n",
              "      <td>0.000000</td>\n",
              "      <td>0.143898</td>\n",
              "      <td>3.750000e+03</td>\n",
              "      <td>5.000000</td>\n",
              "      <td>0.000000</td>\n",
              "      <td>0.000000</td>\n",
              "      <td>0.000000</td>\n",
              "      <td>0.000000</td>\n",
              "    </tr>\n",
              "    <tr>\n",
              "      <th>50%</th>\n",
              "      <td>0.000000</td>\n",
              "      <td>0.180183</td>\n",
              "      <td>50.000000</td>\n",
              "      <td>0.000000</td>\n",
              "      <td>0.285808</td>\n",
              "      <td>5.771000e+03</td>\n",
              "      <td>8.000000</td>\n",
              "      <td>0.000000</td>\n",
              "      <td>1.000000</td>\n",
              "      <td>0.000000</td>\n",
              "      <td>0.000000</td>\n",
              "    </tr>\n",
              "    <tr>\n",
              "      <th>75%</th>\n",
              "      <td>0.000000</td>\n",
              "      <td>0.559212</td>\n",
              "      <td>60.000000</td>\n",
              "      <td>0.000000</td>\n",
              "      <td>0.445983</td>\n",
              "      <td>8.583000e+03</td>\n",
              "      <td>11.000000</td>\n",
              "      <td>0.000000</td>\n",
              "      <td>2.000000</td>\n",
              "      <td>0.000000</td>\n",
              "      <td>2.000000</td>\n",
              "    </tr>\n",
              "    <tr>\n",
              "      <th>max</th>\n",
              "      <td>1.000000</td>\n",
              "      <td>1.000000</td>\n",
              "      <td>74.000000</td>\n",
              "      <td>98.000000</td>\n",
              "      <td>1.000000</td>\n",
              "      <td>3.008750e+06</td>\n",
              "      <td>57.000000</td>\n",
              "      <td>98.000000</td>\n",
              "      <td>29.000000</td>\n",
              "      <td>98.000000</td>\n",
              "      <td>20.000000</td>\n",
              "    </tr>\n",
              "  </tbody>\n",
              "</table>\n",
              "</div>\n",
              "      <button class=\"colab-df-convert\" onclick=\"convertToInteractive('df-7554c931-e944-4b9a-89be-c9d59bb4c5f2')\"\n",
              "              title=\"Convert this dataframe to an interactive table.\"\n",
              "              style=\"display:none;\">\n",
              "        \n",
              "  <svg xmlns=\"http://www.w3.org/2000/svg\" height=\"24px\"viewBox=\"0 0 24 24\"\n",
              "       width=\"24px\">\n",
              "    <path d=\"M0 0h24v24H0V0z\" fill=\"none\"/>\n",
              "    <path d=\"M18.56 5.44l.94 2.06.94-2.06 2.06-.94-2.06-.94-.94-2.06-.94 2.06-2.06.94zm-11 1L8.5 8.5l.94-2.06 2.06-.94-2.06-.94L8.5 2.5l-.94 2.06-2.06.94zm10 10l.94 2.06.94-2.06 2.06-.94-2.06-.94-.94-2.06-.94 2.06-2.06.94z\"/><path d=\"M17.41 7.96l-1.37-1.37c-.4-.4-.92-.59-1.43-.59-.52 0-1.04.2-1.43.59L10.3 9.45l-7.72 7.72c-.78.78-.78 2.05 0 2.83L4 21.41c.39.39.9.59 1.41.59.51 0 1.02-.2 1.41-.59l7.78-7.78 2.81-2.81c.8-.78.8-2.07 0-2.86zM5.41 20L4 18.59l7.72-7.72 1.47 1.35L5.41 20z\"/>\n",
              "  </svg>\n",
              "      </button>\n",
              "      \n",
              "  <style>\n",
              "    .colab-df-container {\n",
              "      display:flex;\n",
              "      flex-wrap:wrap;\n",
              "      gap: 12px;\n",
              "    }\n",
              "\n",
              "    .colab-df-convert {\n",
              "      background-color: #E8F0FE;\n",
              "      border: none;\n",
              "      border-radius: 50%;\n",
              "      cursor: pointer;\n",
              "      display: none;\n",
              "      fill: #1967D2;\n",
              "      height: 32px;\n",
              "      padding: 0 0 0 0;\n",
              "      width: 32px;\n",
              "    }\n",
              "\n",
              "    .colab-df-convert:hover {\n",
              "      background-color: #E2EBFA;\n",
              "      box-shadow: 0px 1px 2px rgba(60, 64, 67, 0.3), 0px 1px 3px 1px rgba(60, 64, 67, 0.15);\n",
              "      fill: #174EA6;\n",
              "    }\n",
              "\n",
              "    [theme=dark] .colab-df-convert {\n",
              "      background-color: #3B4455;\n",
              "      fill: #D2E3FC;\n",
              "    }\n",
              "\n",
              "    [theme=dark] .colab-df-convert:hover {\n",
              "      background-color: #434B5C;\n",
              "      box-shadow: 0px 1px 3px 1px rgba(0, 0, 0, 0.15);\n",
              "      filter: drop-shadow(0px 1px 2px rgba(0, 0, 0, 0.3));\n",
              "      fill: #FFFFFF;\n",
              "    }\n",
              "  </style>\n",
              "\n",
              "      <script>\n",
              "        const buttonEl =\n",
              "          document.querySelector('#df-7554c931-e944-4b9a-89be-c9d59bb4c5f2 button.colab-df-convert');\n",
              "        buttonEl.style.display =\n",
              "          google.colab.kernel.accessAllowed ? 'block' : 'none';\n",
              "\n",
              "        async function convertToInteractive(key) {\n",
              "          const element = document.querySelector('#df-7554c931-e944-4b9a-89be-c9d59bb4c5f2');\n",
              "          const dataTable =\n",
              "            await google.colab.kernel.invokeFunction('convertToInteractive',\n",
              "                                                     [key], {});\n",
              "          if (!dataTable) return;\n",
              "\n",
              "          const docLinkHtml = 'Like what you see? Visit the ' +\n",
              "            '<a target=\"_blank\" href=https://colab.research.google.com/notebooks/data_table.ipynb>data table notebook</a>'\n",
              "            + ' to learn more about interactive tables.';\n",
              "          element.innerHTML = '';\n",
              "          dataTable['output_type'] = 'display_data';\n",
              "          await google.colab.output.renderOutput(dataTable, element);\n",
              "          const docLink = document.createElement('div');\n",
              "          docLink.innerHTML = docLinkHtml;\n",
              "          element.appendChild(docLink);\n",
              "        }\n",
              "      </script>\n",
              "    </div>\n",
              "  </div>\n",
              "  "
            ]
          },
          "metadata": {},
          "execution_count": 43
        }
      ]
    },
    {
      "cell_type": "code",
      "source": [
        "data_2.info()"
      ],
      "metadata": {
        "colab": {
          "base_uri": "https://localhost:8080/"
        },
        "id": "D_4dcBKl2WOM",
        "outputId": "5b902dbd-3a55-4949-bbce-8a4c25687db2"
      },
      "execution_count": 44,
      "outputs": [
        {
          "output_type": "stream",
          "name": "stdout",
          "text": [
            "<class 'pandas.core.frame.DataFrame'>\n",
            "Int64Index: 103957 entries, 0 to 149999\n",
            "Data columns (total 11 columns):\n",
            " #   Column                                Non-Null Count   Dtype  \n",
            "---  ------                                --------------   -----  \n",
            " 0   SeriousDlqin2yrs                      103957 non-null  int64  \n",
            " 1   RevolvingUtilizationOfUnsecuredLines  103957 non-null  float64\n",
            " 2   age                                   103957 non-null  int64  \n",
            " 3   NumberOfTime30-59DaysPastDueNotWorse  103957 non-null  int64  \n",
            " 4   DebtRatio                             103957 non-null  float64\n",
            " 5   MonthlyIncome                         103053 non-null  float64\n",
            " 6   NumberOfOpenCreditLinesAndLoans       103957 non-null  int64  \n",
            " 7   NumberOfTimes90DaysLate               103957 non-null  int64  \n",
            " 8   NumberRealEstateLoansOrLines          103957 non-null  int64  \n",
            " 9   NumberOfTime60-89DaysPastDueNotWorse  103957 non-null  int64  \n",
            " 10  NumberOfDependents                    103730 non-null  float64\n",
            "dtypes: float64(4), int64(7)\n",
            "memory usage: 9.5 MB\n"
          ]
        }
      ]
    },
    {
      "cell_type": "markdown",
      "source": [
        " При таких ограничениях у нас появились поля с пустыми данными **MonthlyIncome** и **NumberOfDependents**.\n",
        " Данные можно заполнить средним значением или медианой в рамках возраста, НО, доход и кол-во иждевенцев в 21 год может очень сильно отличаться от 40 лет и так делее.\n",
        " В таком случае предлагаю добавить фичу которая будет делить наших клиентов на группы по возрасту (например с шагом по 7 лет), и уже в рамках этих групп будем считать среднее/медиану."
      ],
      "metadata": {
        "id": "TAsfK1O72iMX"
      }
    },
    {
      "cell_type": "code",
      "source": [
        "data_2[\"age_grp\"] = data_2.age.apply(lambda x: x // 7 - 2)"
      ],
      "metadata": {
        "id": "0K3yD89V4zDy"
      },
      "execution_count": 45,
      "outputs": []
    },
    {
      "cell_type": "code",
      "source": [
        "data_2.head()"
      ],
      "metadata": {
        "colab": {
          "base_uri": "https://localhost:8080/",
          "height": 288
        },
        "id": "2SNXvoqN5lH_",
        "outputId": "31cfdfdd-f5a1-460d-a357-258767a0eaff"
      },
      "execution_count": 46,
      "outputs": [
        {
          "output_type": "execute_result",
          "data": {
            "text/plain": [
              "   SeriousDlqin2yrs  RevolvingUtilizationOfUnsecuredLines  age  \\\n",
              "0                 1                              0.766127   45   \n",
              "1                 0                              0.957151   40   \n",
              "2                 0                              0.658180   38   \n",
              "3                 0                              0.233810   30   \n",
              "4                 0                              0.907239   49   \n",
              "\n",
              "   NumberOfTime30-59DaysPastDueNotWorse  DebtRatio  MonthlyIncome  \\\n",
              "0                                     2   0.802982         9120.0   \n",
              "1                                     0   0.121876         2600.0   \n",
              "2                                     1   0.085113         3042.0   \n",
              "3                                     0   0.036050         3300.0   \n",
              "4                                     1   0.024926        63588.0   \n",
              "\n",
              "   NumberOfOpenCreditLinesAndLoans  NumberOfTimes90DaysLate  \\\n",
              "0                               13                        0   \n",
              "1                                4                        0   \n",
              "2                                2                        1   \n",
              "3                                5                        0   \n",
              "4                                7                        0   \n",
              "\n",
              "   NumberRealEstateLoansOrLines  NumberOfTime60-89DaysPastDueNotWorse  \\\n",
              "0                             6                                     0   \n",
              "1                             0                                     0   \n",
              "2                             0                                     0   \n",
              "3                             0                                     0   \n",
              "4                             1                                     0   \n",
              "\n",
              "   NumberOfDependents  age_grp  \n",
              "0                 2.0        4  \n",
              "1                 1.0        3  \n",
              "2                 0.0        3  \n",
              "3                 0.0        2  \n",
              "4                 0.0        5  "
            ],
            "text/html": [
              "\n",
              "  <div id=\"df-da8ed27f-5af5-465c-a508-cc0325cebf35\">\n",
              "    <div class=\"colab-df-container\">\n",
              "      <div>\n",
              "<style scoped>\n",
              "    .dataframe tbody tr th:only-of-type {\n",
              "        vertical-align: middle;\n",
              "    }\n",
              "\n",
              "    .dataframe tbody tr th {\n",
              "        vertical-align: top;\n",
              "    }\n",
              "\n",
              "    .dataframe thead th {\n",
              "        text-align: right;\n",
              "    }\n",
              "</style>\n",
              "<table border=\"1\" class=\"dataframe\">\n",
              "  <thead>\n",
              "    <tr style=\"text-align: right;\">\n",
              "      <th></th>\n",
              "      <th>SeriousDlqin2yrs</th>\n",
              "      <th>RevolvingUtilizationOfUnsecuredLines</th>\n",
              "      <th>age</th>\n",
              "      <th>NumberOfTime30-59DaysPastDueNotWorse</th>\n",
              "      <th>DebtRatio</th>\n",
              "      <th>MonthlyIncome</th>\n",
              "      <th>NumberOfOpenCreditLinesAndLoans</th>\n",
              "      <th>NumberOfTimes90DaysLate</th>\n",
              "      <th>NumberRealEstateLoansOrLines</th>\n",
              "      <th>NumberOfTime60-89DaysPastDueNotWorse</th>\n",
              "      <th>NumberOfDependents</th>\n",
              "      <th>age_grp</th>\n",
              "    </tr>\n",
              "  </thead>\n",
              "  <tbody>\n",
              "    <tr>\n",
              "      <th>0</th>\n",
              "      <td>1</td>\n",
              "      <td>0.766127</td>\n",
              "      <td>45</td>\n",
              "      <td>2</td>\n",
              "      <td>0.802982</td>\n",
              "      <td>9120.0</td>\n",
              "      <td>13</td>\n",
              "      <td>0</td>\n",
              "      <td>6</td>\n",
              "      <td>0</td>\n",
              "      <td>2.0</td>\n",
              "      <td>4</td>\n",
              "    </tr>\n",
              "    <tr>\n",
              "      <th>1</th>\n",
              "      <td>0</td>\n",
              "      <td>0.957151</td>\n",
              "      <td>40</td>\n",
              "      <td>0</td>\n",
              "      <td>0.121876</td>\n",
              "      <td>2600.0</td>\n",
              "      <td>4</td>\n",
              "      <td>0</td>\n",
              "      <td>0</td>\n",
              "      <td>0</td>\n",
              "      <td>1.0</td>\n",
              "      <td>3</td>\n",
              "    </tr>\n",
              "    <tr>\n",
              "      <th>2</th>\n",
              "      <td>0</td>\n",
              "      <td>0.658180</td>\n",
              "      <td>38</td>\n",
              "      <td>1</td>\n",
              "      <td>0.085113</td>\n",
              "      <td>3042.0</td>\n",
              "      <td>2</td>\n",
              "      <td>1</td>\n",
              "      <td>0</td>\n",
              "      <td>0</td>\n",
              "      <td>0.0</td>\n",
              "      <td>3</td>\n",
              "    </tr>\n",
              "    <tr>\n",
              "      <th>3</th>\n",
              "      <td>0</td>\n",
              "      <td>0.233810</td>\n",
              "      <td>30</td>\n",
              "      <td>0</td>\n",
              "      <td>0.036050</td>\n",
              "      <td>3300.0</td>\n",
              "      <td>5</td>\n",
              "      <td>0</td>\n",
              "      <td>0</td>\n",
              "      <td>0</td>\n",
              "      <td>0.0</td>\n",
              "      <td>2</td>\n",
              "    </tr>\n",
              "    <tr>\n",
              "      <th>4</th>\n",
              "      <td>0</td>\n",
              "      <td>0.907239</td>\n",
              "      <td>49</td>\n",
              "      <td>1</td>\n",
              "      <td>0.024926</td>\n",
              "      <td>63588.0</td>\n",
              "      <td>7</td>\n",
              "      <td>0</td>\n",
              "      <td>1</td>\n",
              "      <td>0</td>\n",
              "      <td>0.0</td>\n",
              "      <td>5</td>\n",
              "    </tr>\n",
              "  </tbody>\n",
              "</table>\n",
              "</div>\n",
              "      <button class=\"colab-df-convert\" onclick=\"convertToInteractive('df-da8ed27f-5af5-465c-a508-cc0325cebf35')\"\n",
              "              title=\"Convert this dataframe to an interactive table.\"\n",
              "              style=\"display:none;\">\n",
              "        \n",
              "  <svg xmlns=\"http://www.w3.org/2000/svg\" height=\"24px\"viewBox=\"0 0 24 24\"\n",
              "       width=\"24px\">\n",
              "    <path d=\"M0 0h24v24H0V0z\" fill=\"none\"/>\n",
              "    <path d=\"M18.56 5.44l.94 2.06.94-2.06 2.06-.94-2.06-.94-.94-2.06-.94 2.06-2.06.94zm-11 1L8.5 8.5l.94-2.06 2.06-.94-2.06-.94L8.5 2.5l-.94 2.06-2.06.94zm10 10l.94 2.06.94-2.06 2.06-.94-2.06-.94-.94-2.06-.94 2.06-2.06.94z\"/><path d=\"M17.41 7.96l-1.37-1.37c-.4-.4-.92-.59-1.43-.59-.52 0-1.04.2-1.43.59L10.3 9.45l-7.72 7.72c-.78.78-.78 2.05 0 2.83L4 21.41c.39.39.9.59 1.41.59.51 0 1.02-.2 1.41-.59l7.78-7.78 2.81-2.81c.8-.78.8-2.07 0-2.86zM5.41 20L4 18.59l7.72-7.72 1.47 1.35L5.41 20z\"/>\n",
              "  </svg>\n",
              "      </button>\n",
              "      \n",
              "  <style>\n",
              "    .colab-df-container {\n",
              "      display:flex;\n",
              "      flex-wrap:wrap;\n",
              "      gap: 12px;\n",
              "    }\n",
              "\n",
              "    .colab-df-convert {\n",
              "      background-color: #E8F0FE;\n",
              "      border: none;\n",
              "      border-radius: 50%;\n",
              "      cursor: pointer;\n",
              "      display: none;\n",
              "      fill: #1967D2;\n",
              "      height: 32px;\n",
              "      padding: 0 0 0 0;\n",
              "      width: 32px;\n",
              "    }\n",
              "\n",
              "    .colab-df-convert:hover {\n",
              "      background-color: #E2EBFA;\n",
              "      box-shadow: 0px 1px 2px rgba(60, 64, 67, 0.3), 0px 1px 3px 1px rgba(60, 64, 67, 0.15);\n",
              "      fill: #174EA6;\n",
              "    }\n",
              "\n",
              "    [theme=dark] .colab-df-convert {\n",
              "      background-color: #3B4455;\n",
              "      fill: #D2E3FC;\n",
              "    }\n",
              "\n",
              "    [theme=dark] .colab-df-convert:hover {\n",
              "      background-color: #434B5C;\n",
              "      box-shadow: 0px 1px 3px 1px rgba(0, 0, 0, 0.15);\n",
              "      filter: drop-shadow(0px 1px 2px rgba(0, 0, 0, 0.3));\n",
              "      fill: #FFFFFF;\n",
              "    }\n",
              "  </style>\n",
              "\n",
              "      <script>\n",
              "        const buttonEl =\n",
              "          document.querySelector('#df-da8ed27f-5af5-465c-a508-cc0325cebf35 button.colab-df-convert');\n",
              "        buttonEl.style.display =\n",
              "          google.colab.kernel.accessAllowed ? 'block' : 'none';\n",
              "\n",
              "        async function convertToInteractive(key) {\n",
              "          const element = document.querySelector('#df-da8ed27f-5af5-465c-a508-cc0325cebf35');\n",
              "          const dataTable =\n",
              "            await google.colab.kernel.invokeFunction('convertToInteractive',\n",
              "                                                     [key], {});\n",
              "          if (!dataTable) return;\n",
              "\n",
              "          const docLinkHtml = 'Like what you see? Visit the ' +\n",
              "            '<a target=\"_blank\" href=https://colab.research.google.com/notebooks/data_table.ipynb>data table notebook</a>'\n",
              "            + ' to learn more about interactive tables.';\n",
              "          element.innerHTML = '';\n",
              "          dataTable['output_type'] = 'display_data';\n",
              "          await google.colab.output.renderOutput(dataTable, element);\n",
              "          const docLink = document.createElement('div');\n",
              "          docLink.innerHTML = docLinkHtml;\n",
              "          element.appendChild(docLink);\n",
              "        }\n",
              "      </script>\n",
              "    </div>\n",
              "  </div>\n",
              "  "
            ]
          },
          "metadata": {},
          "execution_count": 46
        }
      ]
    },
    {
      "cell_type": "code",
      "source": [
        "data_2.groupby(data_2.age_grp).agg({'MonthlyIncome': ['median', 'mean'], 'NumberOfDependents': ['median', 'mean']})"
      ],
      "metadata": {
        "colab": {
          "base_uri": "https://localhost:8080/",
          "height": 363
        },
        "id": "YJNPVhW85j_Z",
        "outputId": "5a25aeed-4241-4349-a8d1-b076be972409"
      },
      "execution_count": 47,
      "outputs": [
        {
          "output_type": "execute_result",
          "data": {
            "text/plain": [
              "        MonthlyIncome              NumberOfDependents          \n",
              "               median         mean             median      mean\n",
              "age_grp                                                        \n",
              "1              2400.0  2712.628212                0.0  0.224343\n",
              "2              4060.0  4835.109145                0.0  0.676348\n",
              "3              5579.0  6548.667302                1.0  1.270201\n",
              "4              6300.0  7694.255713                1.0  1.445072\n",
              "5              6648.0  8191.290070                1.0  1.114268\n",
              "6              6514.0  7926.265964                0.0  0.634079\n",
              "7              6000.0  7699.692469                0.0  0.363979\n",
              "8              5001.0  6235.039693                0.0  0.235028"
            ],
            "text/html": [
              "\n",
              "  <div id=\"df-a79a499f-6ace-4938-bb58-711a4a50f901\">\n",
              "    <div class=\"colab-df-container\">\n",
              "      <div>\n",
              "<style scoped>\n",
              "    .dataframe tbody tr th:only-of-type {\n",
              "        vertical-align: middle;\n",
              "    }\n",
              "\n",
              "    .dataframe tbody tr th {\n",
              "        vertical-align: top;\n",
              "    }\n",
              "\n",
              "    .dataframe thead tr th {\n",
              "        text-align: left;\n",
              "    }\n",
              "\n",
              "    .dataframe thead tr:last-of-type th {\n",
              "        text-align: right;\n",
              "    }\n",
              "</style>\n",
              "<table border=\"1\" class=\"dataframe\">\n",
              "  <thead>\n",
              "    <tr>\n",
              "      <th></th>\n",
              "      <th colspan=\"2\" halign=\"left\">MonthlyIncome</th>\n",
              "      <th colspan=\"2\" halign=\"left\">NumberOfDependents</th>\n",
              "    </tr>\n",
              "    <tr>\n",
              "      <th></th>\n",
              "      <th>median</th>\n",
              "      <th>mean</th>\n",
              "      <th>median</th>\n",
              "      <th>mean</th>\n",
              "    </tr>\n",
              "    <tr>\n",
              "      <th>age_grp</th>\n",
              "      <th></th>\n",
              "      <th></th>\n",
              "      <th></th>\n",
              "      <th></th>\n",
              "    </tr>\n",
              "  </thead>\n",
              "  <tbody>\n",
              "    <tr>\n",
              "      <th>1</th>\n",
              "      <td>2400.0</td>\n",
              "      <td>2712.628212</td>\n",
              "      <td>0.0</td>\n",
              "      <td>0.224343</td>\n",
              "    </tr>\n",
              "    <tr>\n",
              "      <th>2</th>\n",
              "      <td>4060.0</td>\n",
              "      <td>4835.109145</td>\n",
              "      <td>0.0</td>\n",
              "      <td>0.676348</td>\n",
              "    </tr>\n",
              "    <tr>\n",
              "      <th>3</th>\n",
              "      <td>5579.0</td>\n",
              "      <td>6548.667302</td>\n",
              "      <td>1.0</td>\n",
              "      <td>1.270201</td>\n",
              "    </tr>\n",
              "    <tr>\n",
              "      <th>4</th>\n",
              "      <td>6300.0</td>\n",
              "      <td>7694.255713</td>\n",
              "      <td>1.0</td>\n",
              "      <td>1.445072</td>\n",
              "    </tr>\n",
              "    <tr>\n",
              "      <th>5</th>\n",
              "      <td>6648.0</td>\n",
              "      <td>8191.290070</td>\n",
              "      <td>1.0</td>\n",
              "      <td>1.114268</td>\n",
              "    </tr>\n",
              "    <tr>\n",
              "      <th>6</th>\n",
              "      <td>6514.0</td>\n",
              "      <td>7926.265964</td>\n",
              "      <td>0.0</td>\n",
              "      <td>0.634079</td>\n",
              "    </tr>\n",
              "    <tr>\n",
              "      <th>7</th>\n",
              "      <td>6000.0</td>\n",
              "      <td>7699.692469</td>\n",
              "      <td>0.0</td>\n",
              "      <td>0.363979</td>\n",
              "    </tr>\n",
              "    <tr>\n",
              "      <th>8</th>\n",
              "      <td>5001.0</td>\n",
              "      <td>6235.039693</td>\n",
              "      <td>0.0</td>\n",
              "      <td>0.235028</td>\n",
              "    </tr>\n",
              "  </tbody>\n",
              "</table>\n",
              "</div>\n",
              "      <button class=\"colab-df-convert\" onclick=\"convertToInteractive('df-a79a499f-6ace-4938-bb58-711a4a50f901')\"\n",
              "              title=\"Convert this dataframe to an interactive table.\"\n",
              "              style=\"display:none;\">\n",
              "        \n",
              "  <svg xmlns=\"http://www.w3.org/2000/svg\" height=\"24px\"viewBox=\"0 0 24 24\"\n",
              "       width=\"24px\">\n",
              "    <path d=\"M0 0h24v24H0V0z\" fill=\"none\"/>\n",
              "    <path d=\"M18.56 5.44l.94 2.06.94-2.06 2.06-.94-2.06-.94-.94-2.06-.94 2.06-2.06.94zm-11 1L8.5 8.5l.94-2.06 2.06-.94-2.06-.94L8.5 2.5l-.94 2.06-2.06.94zm10 10l.94 2.06.94-2.06 2.06-.94-2.06-.94-.94-2.06-.94 2.06-2.06.94z\"/><path d=\"M17.41 7.96l-1.37-1.37c-.4-.4-.92-.59-1.43-.59-.52 0-1.04.2-1.43.59L10.3 9.45l-7.72 7.72c-.78.78-.78 2.05 0 2.83L4 21.41c.39.39.9.59 1.41.59.51 0 1.02-.2 1.41-.59l7.78-7.78 2.81-2.81c.8-.78.8-2.07 0-2.86zM5.41 20L4 18.59l7.72-7.72 1.47 1.35L5.41 20z\"/>\n",
              "  </svg>\n",
              "      </button>\n",
              "      \n",
              "  <style>\n",
              "    .colab-df-container {\n",
              "      display:flex;\n",
              "      flex-wrap:wrap;\n",
              "      gap: 12px;\n",
              "    }\n",
              "\n",
              "    .colab-df-convert {\n",
              "      background-color: #E8F0FE;\n",
              "      border: none;\n",
              "      border-radius: 50%;\n",
              "      cursor: pointer;\n",
              "      display: none;\n",
              "      fill: #1967D2;\n",
              "      height: 32px;\n",
              "      padding: 0 0 0 0;\n",
              "      width: 32px;\n",
              "    }\n",
              "\n",
              "    .colab-df-convert:hover {\n",
              "      background-color: #E2EBFA;\n",
              "      box-shadow: 0px 1px 2px rgba(60, 64, 67, 0.3), 0px 1px 3px 1px rgba(60, 64, 67, 0.15);\n",
              "      fill: #174EA6;\n",
              "    }\n",
              "\n",
              "    [theme=dark] .colab-df-convert {\n",
              "      background-color: #3B4455;\n",
              "      fill: #D2E3FC;\n",
              "    }\n",
              "\n",
              "    [theme=dark] .colab-df-convert:hover {\n",
              "      background-color: #434B5C;\n",
              "      box-shadow: 0px 1px 3px 1px rgba(0, 0, 0, 0.15);\n",
              "      filter: drop-shadow(0px 1px 2px rgba(0, 0, 0, 0.3));\n",
              "      fill: #FFFFFF;\n",
              "    }\n",
              "  </style>\n",
              "\n",
              "      <script>\n",
              "        const buttonEl =\n",
              "          document.querySelector('#df-a79a499f-6ace-4938-bb58-711a4a50f901 button.colab-df-convert');\n",
              "        buttonEl.style.display =\n",
              "          google.colab.kernel.accessAllowed ? 'block' : 'none';\n",
              "\n",
              "        async function convertToInteractive(key) {\n",
              "          const element = document.querySelector('#df-a79a499f-6ace-4938-bb58-711a4a50f901');\n",
              "          const dataTable =\n",
              "            await google.colab.kernel.invokeFunction('convertToInteractive',\n",
              "                                                     [key], {});\n",
              "          if (!dataTable) return;\n",
              "\n",
              "          const docLinkHtml = 'Like what you see? Visit the ' +\n",
              "            '<a target=\"_blank\" href=https://colab.research.google.com/notebooks/data_table.ipynb>data table notebook</a>'\n",
              "            + ' to learn more about interactive tables.';\n",
              "          element.innerHTML = '';\n",
              "          dataTable['output_type'] = 'display_data';\n",
              "          await google.colab.output.renderOutput(dataTable, element);\n",
              "          const docLink = document.createElement('div');\n",
              "          docLink.innerHTML = docLinkHtml;\n",
              "          element.appendChild(docLink);\n",
              "        }\n",
              "      </script>\n",
              "    </div>\n",
              "  </div>\n",
              "  "
            ]
          },
          "metadata": {},
          "execution_count": 47
        }
      ]
    },
    {
      "cell_type": "markdown",
      "source": [
        "С учетом выбросов предлагаю взять медиану, для более честного результата."
      ],
      "metadata": {
        "id": "gZm59Q016Mfq"
      }
    },
    {
      "cell_type": "code",
      "source": [
        "data_2[data_2.MonthlyIncome.isna()]"
      ],
      "metadata": {
        "colab": {
          "base_uri": "https://localhost:8080/",
          "height": 505
        },
        "id": "qDUSyP5U-Pti",
        "outputId": "b73f8308-7165-41e8-c245-5f7456f3d4e3"
      },
      "execution_count": 48,
      "outputs": [
        {
          "output_type": "execute_result",
          "data": {
            "text/plain": [
              "        SeriousDlqin2yrs  RevolvingUtilizationOfUnsecuredLines  age  \\\n",
              "52                     0                                   1.0   62   \n",
              "238                    0                                   1.0   28   \n",
              "331                    0                                   1.0   29   \n",
              "1066                   0                                   1.0   68   \n",
              "1126                   0                                   1.0   70   \n",
              "...                  ...                                   ...  ...   \n",
              "149390                 0                                   0.0   54   \n",
              "149622                 0                                   1.0   46   \n",
              "149666                 0                                   1.0   59   \n",
              "149853                 0                                   0.0   68   \n",
              "149898                 0                                   1.0   26   \n",
              "\n",
              "        NumberOfTime30-59DaysPastDueNotWorse  DebtRatio  MonthlyIncome  \\\n",
              "52                                         0        0.0            NaN   \n",
              "238                                        0        0.0            NaN   \n",
              "331                                        0        0.0            NaN   \n",
              "1066                                       1        0.0            NaN   \n",
              "1126                                       0        0.0            NaN   \n",
              "...                                      ...        ...            ...   \n",
              "149390                                     0        0.0            NaN   \n",
              "149622                                     0        0.0            NaN   \n",
              "149666                                     0        0.0            NaN   \n",
              "149853                                     1        0.0            NaN   \n",
              "149898                                     1        0.0            NaN   \n",
              "\n",
              "        NumberOfOpenCreditLinesAndLoans  NumberOfTimes90DaysLate  \\\n",
              "52                                    1                        0   \n",
              "238                                   0                        0   \n",
              "331                                   0                        0   \n",
              "1066                                  0                        1   \n",
              "1126                                  1                        0   \n",
              "...                                 ...                      ...   \n",
              "149390                                4                        0   \n",
              "149622                                0                        1   \n",
              "149666                                2                        0   \n",
              "149853                                4                        0   \n",
              "149898                                0                        1   \n",
              "\n",
              "        NumberRealEstateLoansOrLines  NumberOfTime60-89DaysPastDueNotWorse  \\\n",
              "52                                 0                                     0   \n",
              "238                                0                                     0   \n",
              "331                                0                                     0   \n",
              "1066                               0                                     0   \n",
              "1126                               0                                     0   \n",
              "...                              ...                                   ...   \n",
              "149390                             0                                     0   \n",
              "149622                             0                                     0   \n",
              "149666                             0                                     0   \n",
              "149853                             0                                     0   \n",
              "149898                             0                                     0   \n",
              "\n",
              "        NumberOfDependents  age_grp  \n",
              "52                     0.0        6  \n",
              "238                    NaN        2  \n",
              "331                    0.0        2  \n",
              "1066                   0.0        7  \n",
              "1126                   NaN        8  \n",
              "...                    ...      ...  \n",
              "149390                 0.0        5  \n",
              "149622                 0.0        4  \n",
              "149666                 0.0        6  \n",
              "149853                 0.0        7  \n",
              "149898                 0.0        1  \n",
              "\n",
              "[904 rows x 12 columns]"
            ],
            "text/html": [
              "\n",
              "  <div id=\"df-db4e0cb3-41b5-4fed-ad97-81d24d769cbb\">\n",
              "    <div class=\"colab-df-container\">\n",
              "      <div>\n",
              "<style scoped>\n",
              "    .dataframe tbody tr th:only-of-type {\n",
              "        vertical-align: middle;\n",
              "    }\n",
              "\n",
              "    .dataframe tbody tr th {\n",
              "        vertical-align: top;\n",
              "    }\n",
              "\n",
              "    .dataframe thead th {\n",
              "        text-align: right;\n",
              "    }\n",
              "</style>\n",
              "<table border=\"1\" class=\"dataframe\">\n",
              "  <thead>\n",
              "    <tr style=\"text-align: right;\">\n",
              "      <th></th>\n",
              "      <th>SeriousDlqin2yrs</th>\n",
              "      <th>RevolvingUtilizationOfUnsecuredLines</th>\n",
              "      <th>age</th>\n",
              "      <th>NumberOfTime30-59DaysPastDueNotWorse</th>\n",
              "      <th>DebtRatio</th>\n",
              "      <th>MonthlyIncome</th>\n",
              "      <th>NumberOfOpenCreditLinesAndLoans</th>\n",
              "      <th>NumberOfTimes90DaysLate</th>\n",
              "      <th>NumberRealEstateLoansOrLines</th>\n",
              "      <th>NumberOfTime60-89DaysPastDueNotWorse</th>\n",
              "      <th>NumberOfDependents</th>\n",
              "      <th>age_grp</th>\n",
              "    </tr>\n",
              "  </thead>\n",
              "  <tbody>\n",
              "    <tr>\n",
              "      <th>52</th>\n",
              "      <td>0</td>\n",
              "      <td>1.0</td>\n",
              "      <td>62</td>\n",
              "      <td>0</td>\n",
              "      <td>0.0</td>\n",
              "      <td>NaN</td>\n",
              "      <td>1</td>\n",
              "      <td>0</td>\n",
              "      <td>0</td>\n",
              "      <td>0</td>\n",
              "      <td>0.0</td>\n",
              "      <td>6</td>\n",
              "    </tr>\n",
              "    <tr>\n",
              "      <th>238</th>\n",
              "      <td>0</td>\n",
              "      <td>1.0</td>\n",
              "      <td>28</td>\n",
              "      <td>0</td>\n",
              "      <td>0.0</td>\n",
              "      <td>NaN</td>\n",
              "      <td>0</td>\n",
              "      <td>0</td>\n",
              "      <td>0</td>\n",
              "      <td>0</td>\n",
              "      <td>NaN</td>\n",
              "      <td>2</td>\n",
              "    </tr>\n",
              "    <tr>\n",
              "      <th>331</th>\n",
              "      <td>0</td>\n",
              "      <td>1.0</td>\n",
              "      <td>29</td>\n",
              "      <td>0</td>\n",
              "      <td>0.0</td>\n",
              "      <td>NaN</td>\n",
              "      <td>0</td>\n",
              "      <td>0</td>\n",
              "      <td>0</td>\n",
              "      <td>0</td>\n",
              "      <td>0.0</td>\n",
              "      <td>2</td>\n",
              "    </tr>\n",
              "    <tr>\n",
              "      <th>1066</th>\n",
              "      <td>0</td>\n",
              "      <td>1.0</td>\n",
              "      <td>68</td>\n",
              "      <td>1</td>\n",
              "      <td>0.0</td>\n",
              "      <td>NaN</td>\n",
              "      <td>0</td>\n",
              "      <td>1</td>\n",
              "      <td>0</td>\n",
              "      <td>0</td>\n",
              "      <td>0.0</td>\n",
              "      <td>7</td>\n",
              "    </tr>\n",
              "    <tr>\n",
              "      <th>1126</th>\n",
              "      <td>0</td>\n",
              "      <td>1.0</td>\n",
              "      <td>70</td>\n",
              "      <td>0</td>\n",
              "      <td>0.0</td>\n",
              "      <td>NaN</td>\n",
              "      <td>1</td>\n",
              "      <td>0</td>\n",
              "      <td>0</td>\n",
              "      <td>0</td>\n",
              "      <td>NaN</td>\n",
              "      <td>8</td>\n",
              "    </tr>\n",
              "    <tr>\n",
              "      <th>...</th>\n",
              "      <td>...</td>\n",
              "      <td>...</td>\n",
              "      <td>...</td>\n",
              "      <td>...</td>\n",
              "      <td>...</td>\n",
              "      <td>...</td>\n",
              "      <td>...</td>\n",
              "      <td>...</td>\n",
              "      <td>...</td>\n",
              "      <td>...</td>\n",
              "      <td>...</td>\n",
              "      <td>...</td>\n",
              "    </tr>\n",
              "    <tr>\n",
              "      <th>149390</th>\n",
              "      <td>0</td>\n",
              "      <td>0.0</td>\n",
              "      <td>54</td>\n",
              "      <td>0</td>\n",
              "      <td>0.0</td>\n",
              "      <td>NaN</td>\n",
              "      <td>4</td>\n",
              "      <td>0</td>\n",
              "      <td>0</td>\n",
              "      <td>0</td>\n",
              "      <td>0.0</td>\n",
              "      <td>5</td>\n",
              "    </tr>\n",
              "    <tr>\n",
              "      <th>149622</th>\n",
              "      <td>0</td>\n",
              "      <td>1.0</td>\n",
              "      <td>46</td>\n",
              "      <td>0</td>\n",
              "      <td>0.0</td>\n",
              "      <td>NaN</td>\n",
              "      <td>0</td>\n",
              "      <td>1</td>\n",
              "      <td>0</td>\n",
              "      <td>0</td>\n",
              "      <td>0.0</td>\n",
              "      <td>4</td>\n",
              "    </tr>\n",
              "    <tr>\n",
              "      <th>149666</th>\n",
              "      <td>0</td>\n",
              "      <td>1.0</td>\n",
              "      <td>59</td>\n",
              "      <td>0</td>\n",
              "      <td>0.0</td>\n",
              "      <td>NaN</td>\n",
              "      <td>2</td>\n",
              "      <td>0</td>\n",
              "      <td>0</td>\n",
              "      <td>0</td>\n",
              "      <td>0.0</td>\n",
              "      <td>6</td>\n",
              "    </tr>\n",
              "    <tr>\n",
              "      <th>149853</th>\n",
              "      <td>0</td>\n",
              "      <td>0.0</td>\n",
              "      <td>68</td>\n",
              "      <td>1</td>\n",
              "      <td>0.0</td>\n",
              "      <td>NaN</td>\n",
              "      <td>4</td>\n",
              "      <td>0</td>\n",
              "      <td>0</td>\n",
              "      <td>0</td>\n",
              "      <td>0.0</td>\n",
              "      <td>7</td>\n",
              "    </tr>\n",
              "    <tr>\n",
              "      <th>149898</th>\n",
              "      <td>0</td>\n",
              "      <td>1.0</td>\n",
              "      <td>26</td>\n",
              "      <td>1</td>\n",
              "      <td>0.0</td>\n",
              "      <td>NaN</td>\n",
              "      <td>0</td>\n",
              "      <td>1</td>\n",
              "      <td>0</td>\n",
              "      <td>0</td>\n",
              "      <td>0.0</td>\n",
              "      <td>1</td>\n",
              "    </tr>\n",
              "  </tbody>\n",
              "</table>\n",
              "<p>904 rows × 12 columns</p>\n",
              "</div>\n",
              "      <button class=\"colab-df-convert\" onclick=\"convertToInteractive('df-db4e0cb3-41b5-4fed-ad97-81d24d769cbb')\"\n",
              "              title=\"Convert this dataframe to an interactive table.\"\n",
              "              style=\"display:none;\">\n",
              "        \n",
              "  <svg xmlns=\"http://www.w3.org/2000/svg\" height=\"24px\"viewBox=\"0 0 24 24\"\n",
              "       width=\"24px\">\n",
              "    <path d=\"M0 0h24v24H0V0z\" fill=\"none\"/>\n",
              "    <path d=\"M18.56 5.44l.94 2.06.94-2.06 2.06-.94-2.06-.94-.94-2.06-.94 2.06-2.06.94zm-11 1L8.5 8.5l.94-2.06 2.06-.94-2.06-.94L8.5 2.5l-.94 2.06-2.06.94zm10 10l.94 2.06.94-2.06 2.06-.94-2.06-.94-.94-2.06-.94 2.06-2.06.94z\"/><path d=\"M17.41 7.96l-1.37-1.37c-.4-.4-.92-.59-1.43-.59-.52 0-1.04.2-1.43.59L10.3 9.45l-7.72 7.72c-.78.78-.78 2.05 0 2.83L4 21.41c.39.39.9.59 1.41.59.51 0 1.02-.2 1.41-.59l7.78-7.78 2.81-2.81c.8-.78.8-2.07 0-2.86zM5.41 20L4 18.59l7.72-7.72 1.47 1.35L5.41 20z\"/>\n",
              "  </svg>\n",
              "      </button>\n",
              "      \n",
              "  <style>\n",
              "    .colab-df-container {\n",
              "      display:flex;\n",
              "      flex-wrap:wrap;\n",
              "      gap: 12px;\n",
              "    }\n",
              "\n",
              "    .colab-df-convert {\n",
              "      background-color: #E8F0FE;\n",
              "      border: none;\n",
              "      border-radius: 50%;\n",
              "      cursor: pointer;\n",
              "      display: none;\n",
              "      fill: #1967D2;\n",
              "      height: 32px;\n",
              "      padding: 0 0 0 0;\n",
              "      width: 32px;\n",
              "    }\n",
              "\n",
              "    .colab-df-convert:hover {\n",
              "      background-color: #E2EBFA;\n",
              "      box-shadow: 0px 1px 2px rgba(60, 64, 67, 0.3), 0px 1px 3px 1px rgba(60, 64, 67, 0.15);\n",
              "      fill: #174EA6;\n",
              "    }\n",
              "\n",
              "    [theme=dark] .colab-df-convert {\n",
              "      background-color: #3B4455;\n",
              "      fill: #D2E3FC;\n",
              "    }\n",
              "\n",
              "    [theme=dark] .colab-df-convert:hover {\n",
              "      background-color: #434B5C;\n",
              "      box-shadow: 0px 1px 3px 1px rgba(0, 0, 0, 0.15);\n",
              "      filter: drop-shadow(0px 1px 2px rgba(0, 0, 0, 0.3));\n",
              "      fill: #FFFFFF;\n",
              "    }\n",
              "  </style>\n",
              "\n",
              "      <script>\n",
              "        const buttonEl =\n",
              "          document.querySelector('#df-db4e0cb3-41b5-4fed-ad97-81d24d769cbb button.colab-df-convert');\n",
              "        buttonEl.style.display =\n",
              "          google.colab.kernel.accessAllowed ? 'block' : 'none';\n",
              "\n",
              "        async function convertToInteractive(key) {\n",
              "          const element = document.querySelector('#df-db4e0cb3-41b5-4fed-ad97-81d24d769cbb');\n",
              "          const dataTable =\n",
              "            await google.colab.kernel.invokeFunction('convertToInteractive',\n",
              "                                                     [key], {});\n",
              "          if (!dataTable) return;\n",
              "\n",
              "          const docLinkHtml = 'Like what you see? Visit the ' +\n",
              "            '<a target=\"_blank\" href=https://colab.research.google.com/notebooks/data_table.ipynb>data table notebook</a>'\n",
              "            + ' to learn more about interactive tables.';\n",
              "          element.innerHTML = '';\n",
              "          dataTable['output_type'] = 'display_data';\n",
              "          await google.colab.output.renderOutput(dataTable, element);\n",
              "          const docLink = document.createElement('div');\n",
              "          docLink.innerHTML = docLinkHtml;\n",
              "          element.appendChild(docLink);\n",
              "        }\n",
              "      </script>\n",
              "    </div>\n",
              "  </div>\n",
              "  "
            ]
          },
          "metadata": {},
          "execution_count": 48
        }
      ]
    },
    {
      "cell_type": "markdown",
      "source": [
        "Заполним пустые значения по доходу в рамках группы."
      ],
      "metadata": {
        "id": "29AfPT4tDtDK"
      }
    },
    {
      "cell_type": "code",
      "source": [
        "data_2[\"MonthlyIncome\"] = data_2.groupby(data_2.age_grp, sort=False)[\"MonthlyIncome\"].apply(lambda x: x.fillna(x.median()))"
      ],
      "metadata": {
        "id": "DQ221Xkt6dzC"
      },
      "execution_count": 49,
      "outputs": []
    },
    {
      "cell_type": "code",
      "source": [
        "data_2[data_2.MonthlyIncome.isna()]"
      ],
      "metadata": {
        "colab": {
          "base_uri": "https://localhost:8080/",
          "height": 131
        },
        "id": "5wDFIlozBl5k",
        "outputId": "4b009457-2e29-4555-e829-03c87864a29d"
      },
      "execution_count": 50,
      "outputs": [
        {
          "output_type": "execute_result",
          "data": {
            "text/plain": [
              "Empty DataFrame\n",
              "Columns: [SeriousDlqin2yrs, RevolvingUtilizationOfUnsecuredLines, age, NumberOfTime30-59DaysPastDueNotWorse, DebtRatio, MonthlyIncome, NumberOfOpenCreditLinesAndLoans, NumberOfTimes90DaysLate, NumberRealEstateLoansOrLines, NumberOfTime60-89DaysPastDueNotWorse, NumberOfDependents, age_grp]\n",
              "Index: []"
            ],
            "text/html": [
              "\n",
              "  <div id=\"df-29f35279-b00f-41af-9df9-d9f52fe9839b\">\n",
              "    <div class=\"colab-df-container\">\n",
              "      <div>\n",
              "<style scoped>\n",
              "    .dataframe tbody tr th:only-of-type {\n",
              "        vertical-align: middle;\n",
              "    }\n",
              "\n",
              "    .dataframe tbody tr th {\n",
              "        vertical-align: top;\n",
              "    }\n",
              "\n",
              "    .dataframe thead th {\n",
              "        text-align: right;\n",
              "    }\n",
              "</style>\n",
              "<table border=\"1\" class=\"dataframe\">\n",
              "  <thead>\n",
              "    <tr style=\"text-align: right;\">\n",
              "      <th></th>\n",
              "      <th>SeriousDlqin2yrs</th>\n",
              "      <th>RevolvingUtilizationOfUnsecuredLines</th>\n",
              "      <th>age</th>\n",
              "      <th>NumberOfTime30-59DaysPastDueNotWorse</th>\n",
              "      <th>DebtRatio</th>\n",
              "      <th>MonthlyIncome</th>\n",
              "      <th>NumberOfOpenCreditLinesAndLoans</th>\n",
              "      <th>NumberOfTimes90DaysLate</th>\n",
              "      <th>NumberRealEstateLoansOrLines</th>\n",
              "      <th>NumberOfTime60-89DaysPastDueNotWorse</th>\n",
              "      <th>NumberOfDependents</th>\n",
              "      <th>age_grp</th>\n",
              "    </tr>\n",
              "  </thead>\n",
              "  <tbody>\n",
              "  </tbody>\n",
              "</table>\n",
              "</div>\n",
              "      <button class=\"colab-df-convert\" onclick=\"convertToInteractive('df-29f35279-b00f-41af-9df9-d9f52fe9839b')\"\n",
              "              title=\"Convert this dataframe to an interactive table.\"\n",
              "              style=\"display:none;\">\n",
              "        \n",
              "  <svg xmlns=\"http://www.w3.org/2000/svg\" height=\"24px\"viewBox=\"0 0 24 24\"\n",
              "       width=\"24px\">\n",
              "    <path d=\"M0 0h24v24H0V0z\" fill=\"none\"/>\n",
              "    <path d=\"M18.56 5.44l.94 2.06.94-2.06 2.06-.94-2.06-.94-.94-2.06-.94 2.06-2.06.94zm-11 1L8.5 8.5l.94-2.06 2.06-.94-2.06-.94L8.5 2.5l-.94 2.06-2.06.94zm10 10l.94 2.06.94-2.06 2.06-.94-2.06-.94-.94-2.06-.94 2.06-2.06.94z\"/><path d=\"M17.41 7.96l-1.37-1.37c-.4-.4-.92-.59-1.43-.59-.52 0-1.04.2-1.43.59L10.3 9.45l-7.72 7.72c-.78.78-.78 2.05 0 2.83L4 21.41c.39.39.9.59 1.41.59.51 0 1.02-.2 1.41-.59l7.78-7.78 2.81-2.81c.8-.78.8-2.07 0-2.86zM5.41 20L4 18.59l7.72-7.72 1.47 1.35L5.41 20z\"/>\n",
              "  </svg>\n",
              "      </button>\n",
              "      \n",
              "  <style>\n",
              "    .colab-df-container {\n",
              "      display:flex;\n",
              "      flex-wrap:wrap;\n",
              "      gap: 12px;\n",
              "    }\n",
              "\n",
              "    .colab-df-convert {\n",
              "      background-color: #E8F0FE;\n",
              "      border: none;\n",
              "      border-radius: 50%;\n",
              "      cursor: pointer;\n",
              "      display: none;\n",
              "      fill: #1967D2;\n",
              "      height: 32px;\n",
              "      padding: 0 0 0 0;\n",
              "      width: 32px;\n",
              "    }\n",
              "\n",
              "    .colab-df-convert:hover {\n",
              "      background-color: #E2EBFA;\n",
              "      box-shadow: 0px 1px 2px rgba(60, 64, 67, 0.3), 0px 1px 3px 1px rgba(60, 64, 67, 0.15);\n",
              "      fill: #174EA6;\n",
              "    }\n",
              "\n",
              "    [theme=dark] .colab-df-convert {\n",
              "      background-color: #3B4455;\n",
              "      fill: #D2E3FC;\n",
              "    }\n",
              "\n",
              "    [theme=dark] .colab-df-convert:hover {\n",
              "      background-color: #434B5C;\n",
              "      box-shadow: 0px 1px 3px 1px rgba(0, 0, 0, 0.15);\n",
              "      filter: drop-shadow(0px 1px 2px rgba(0, 0, 0, 0.3));\n",
              "      fill: #FFFFFF;\n",
              "    }\n",
              "  </style>\n",
              "\n",
              "      <script>\n",
              "        const buttonEl =\n",
              "          document.querySelector('#df-29f35279-b00f-41af-9df9-d9f52fe9839b button.colab-df-convert');\n",
              "        buttonEl.style.display =\n",
              "          google.colab.kernel.accessAllowed ? 'block' : 'none';\n",
              "\n",
              "        async function convertToInteractive(key) {\n",
              "          const element = document.querySelector('#df-29f35279-b00f-41af-9df9-d9f52fe9839b');\n",
              "          const dataTable =\n",
              "            await google.colab.kernel.invokeFunction('convertToInteractive',\n",
              "                                                     [key], {});\n",
              "          if (!dataTable) return;\n",
              "\n",
              "          const docLinkHtml = 'Like what you see? Visit the ' +\n",
              "            '<a target=\"_blank\" href=https://colab.research.google.com/notebooks/data_table.ipynb>data table notebook</a>'\n",
              "            + ' to learn more about interactive tables.';\n",
              "          element.innerHTML = '';\n",
              "          dataTable['output_type'] = 'display_data';\n",
              "          await google.colab.output.renderOutput(dataTable, element);\n",
              "          const docLink = document.createElement('div');\n",
              "          docLink.innerHTML = docLinkHtml;\n",
              "          element.appendChild(docLink);\n",
              "        }\n",
              "      </script>\n",
              "    </div>\n",
              "  </div>\n",
              "  "
            ]
          },
          "metadata": {},
          "execution_count": 50
        }
      ]
    },
    {
      "cell_type": "markdown",
      "source": [
        "Заполним пустые значения по иждевенцам в рамках группы."
      ],
      "metadata": {
        "id": "yV97kEjAD4UI"
      }
    },
    {
      "cell_type": "code",
      "source": [
        "data_2[\"NumberOfDependents\"] = data_2.groupby(data_2.age_grp, sort=False)[\"NumberOfDependents\"].apply(lambda x: x.fillna(x.median()))"
      ],
      "metadata": {
        "id": "D2rWVh4YD-G4"
      },
      "execution_count": 51,
      "outputs": []
    },
    {
      "cell_type": "code",
      "source": [
        "data_2.info()"
      ],
      "metadata": {
        "colab": {
          "base_uri": "https://localhost:8080/"
        },
        "id": "OVMkqbn-EcLM",
        "outputId": "b8a12923-48de-41cb-b8e9-b0bf5bec2c3a"
      },
      "execution_count": 52,
      "outputs": [
        {
          "output_type": "stream",
          "name": "stdout",
          "text": [
            "<class 'pandas.core.frame.DataFrame'>\n",
            "Int64Index: 103957 entries, 0 to 149999\n",
            "Data columns (total 12 columns):\n",
            " #   Column                                Non-Null Count   Dtype  \n",
            "---  ------                                --------------   -----  \n",
            " 0   SeriousDlqin2yrs                      103957 non-null  int64  \n",
            " 1   RevolvingUtilizationOfUnsecuredLines  103957 non-null  float64\n",
            " 2   age                                   103957 non-null  int64  \n",
            " 3   NumberOfTime30-59DaysPastDueNotWorse  103957 non-null  int64  \n",
            " 4   DebtRatio                             103957 non-null  float64\n",
            " 5   MonthlyIncome                         103957 non-null  float64\n",
            " 6   NumberOfOpenCreditLinesAndLoans       103957 non-null  int64  \n",
            " 7   NumberOfTimes90DaysLate               103957 non-null  int64  \n",
            " 8   NumberRealEstateLoansOrLines          103957 non-null  int64  \n",
            " 9   NumberOfTime60-89DaysPastDueNotWorse  103957 non-null  int64  \n",
            " 10  NumberOfDependents                    103957 non-null  float64\n",
            " 11  age_grp                               103957 non-null  int64  \n",
            "dtypes: float64(4), int64(8)\n",
            "memory usage: 10.3 MB\n"
          ]
        }
      ]
    },
    {
      "cell_type": "markdown",
      "source": [
        "Пустых значений у нас больше нет."
      ],
      "metadata": {
        "id": "BUWK_ojXEeQy"
      }
    },
    {
      "cell_type": "code",
      "source": [
        "from numpy.lib.type_check import common_type\n",
        "import seaborn as sns\n",
        "sns.displot({\n",
        "    \"defoult 0\":data_2[data_2.SeriousDlqin2yrs==0].age,\n",
        "    \"defoult 1\":data_2[data_2.SeriousDlqin2yrs==1].age,\n",
        "    }, kind=\"kde\", common_norm=False)"
      ],
      "metadata": {
        "colab": {
          "base_uri": "https://localhost:8080/",
          "height": 386
        },
        "id": "3ci32PFewNbr",
        "outputId": "185056ce-3cb5-437d-aa67-b1526051c5c0"
      },
      "execution_count": 53,
      "outputs": [
        {
          "output_type": "execute_result",
          "data": {
            "text/plain": [
              "<seaborn.axisgrid.FacetGrid at 0x7ff133e01940>"
            ]
          },
          "metadata": {},
          "execution_count": 53
        },
        {
          "output_type": "display_data",
          "data": {
            "text/plain": [
              "<Figure size 440.75x360 with 1 Axes>"
            ],
            "image/png": "[encoded data removed]"
          },
          "metadata": {
            "needs_background": "light"
          }
        }
      ]
    },
    {
      "cell_type": "code",
      "source": [
        "sns.displot({\n",
        "    \"defoult 0\":data_2[data_2.SeriousDlqin2yrs==0].MonthlyIncome,\n",
        "    \"defoult 1\":data_2[data_2.SeriousDlqin2yrs==1].MonthlyIncome,\n",
        "    }, kind=\"kde\", common_norm=False)"
      ],
      "metadata": {
        "colab": {
          "base_uri": "https://localhost:8080/",
          "height": 386
        },
        "id": "q4vFgx4MxDnS",
        "outputId": "0dbc0fb2-ca14-4aee-9a40-c1201a7d875e"
      },
      "execution_count": 54,
      "outputs": [
        {
          "output_type": "execute_result",
          "data": {
            "text/plain": [
              "<seaborn.axisgrid.FacetGrid at 0x7ff133dd0e20>"
            ]
          },
          "metadata": {},
          "execution_count": 54
        },
        {
          "output_type": "display_data",
          "data": {
            "text/plain": [
              "<Figure size 440.75x360 with 1 Axes>"
            ],
            "image/png": "[encoded data removed]"
          },
          "metadata": {
            "needs_background": "light"
          }
        }
      ]
    },
    {
      "cell_type": "markdown",
      "source": [
        "Здесь мы видим, что уже нарушается нормальное распределение и большая часть данных расположена в левой часть графика."
      ],
      "metadata": {
        "id": "NB6NqqsfxrNy"
      }
    },
    {
      "cell_type": "code",
      "source": [
        "data_2[\"costs\"] = data_2['DebtRatio'] * data_2['MonthlyIncome']"
      ],
      "metadata": {
        "id": "6SJup_QwzCFl"
      },
      "execution_count": 55,
      "outputs": []
    },
    {
      "cell_type": "code",
      "source": [
        "data_2[\"care\"] = data_2['MonthlyIncome'] / (data_2['NumberOfDependents'] + 1)"
      ],
      "metadata": {
        "id": "o_N33JGUzNPz"
      },
      "execution_count": 56,
      "outputs": []
    },
    {
      "cell_type": "code",
      "source": [
        "corr = data_2.corr()\n",
        "corr.style.background_gradient(cmap='coolwarm')"
      ],
      "metadata": {
        "colab": {
          "base_uri": "https://localhost:8080/",
          "height": 560
        },
        "id": "78vhfed9zQON",
        "outputId": "647e0a30-5bfb-4840-fb0d-a98828698fee"
      },
      "execution_count": 57,
      "outputs": [
        {
          "output_type": "execute_result",
          "data": {
            "text/plain": [
              "<pandas.io.formats.style.Styler at 0x7ff133ca1610>"
            ],
            "text/html": [
              "<style type=\"text/css\">\n",
              "#T_51e3b_row0_col0, #T_51e3b_row1_col1, #T_51e3b_row2_col2, #T_51e3b_row3_col3, #T_51e3b_row4_col4, #T_51e3b_row5_col5, #T_51e3b_row6_col6, #T_51e3b_row7_col7, #T_51e3b_row8_col8, #T_51e3b_row9_col9, #T_51e3b_row10_col10, #T_51e3b_row11_col11, #T_51e3b_row12_col12, #T_51e3b_row13_col13 {\n",
              "  background-color: #b40426;\n",
              "  color: #f1f1f1;\n",
              "}\n",
              "#T_51e3b_row0_col1 {\n",
              "  background-color: #bbd1f8;\n",
              "  color: #000000;\n",
              "}\n",
              "#T_51e3b_row0_col2, #T_51e3b_row0_col11, #T_51e3b_row10_col5 {\n",
              "  background-color: #5d7ce6;\n",
              "  color: #f1f1f1;\n",
              "}\n",
              "#T_51e3b_row0_col3, #T_51e3b_row0_col10, #T_51e3b_row1_col7 {\n",
              "  background-color: #7396f5;\n",
              "  color: #f1f1f1;\n",
              "}\n",
              "#T_51e3b_row0_col4, #T_51e3b_row2_col5, #T_51e3b_row11_col5 {\n",
              "  background-color: #5b7ae5;\n",
              "  color: #f1f1f1;\n",
              "}\n",
              "#T_51e3b_row0_col5, #T_51e3b_row8_col7 {\n",
              "  background-color: #445acc;\n",
              "  color: #f1f1f1;\n",
              "}\n",
              "#T_51e3b_row0_col6 {\n",
              "  background-color: #5f7fe8;\n",
              "  color: #f1f1f1;\n",
              "}\n",
              "#T_51e3b_row0_col7, #T_51e3b_row10_col6 {\n",
              "  background-color: #779af7;\n",
              "  color: #f1f1f1;\n",
              "}\n",
              "#T_51e3b_row0_col8 {\n",
              "  background-color: #506bda;\n",
              "  color: #f1f1f1;\n",
              "}\n",
              "#T_51e3b_row0_col9, #T_51e3b_row1_col3 {\n",
              "  background-color: #7093f3;\n",
              "  color: #f1f1f1;\n",
              "}\n",
              "#T_51e3b_row0_col12, #T_51e3b_row9_col8 {\n",
              "  background-color: #4a63d3;\n",
              "  color: #f1f1f1;\n",
              "}\n",
              "#T_51e3b_row0_col13, #T_51e3b_row4_col0 {\n",
              "  background-color: #6180e9;\n",
              "  color: #f1f1f1;\n",
              "}\n",
              "#T_51e3b_row1_col0, #T_51e3b_row8_col2 {\n",
              "  background-color: #a1c0ff;\n",
              "  color: #000000;\n",
              "}\n",
              "#T_51e3b_row1_col2, #T_51e3b_row1_col6, #T_51e3b_row1_col8, #T_51e3b_row1_col11, #T_51e3b_row2_col0, #T_51e3b_row2_col1, #T_51e3b_row4_col5, #T_51e3b_row6_col3, #T_51e3b_row6_col7, #T_51e3b_row6_col9, #T_51e3b_row7_col12, #T_51e3b_row10_col13, #T_51e3b_row11_col0, #T_51e3b_row11_col1, #T_51e3b_row13_col4, #T_51e3b_row13_col10 {\n",
              "  background-color: #3b4cc0;\n",
              "  color: #f1f1f1;\n",
              "}\n",
              "#T_51e3b_row1_col4, #T_51e3b_row8_col5, #T_51e3b_row9_col0 {\n",
              "  background-color: #7597f6;\n",
              "  color: #f1f1f1;\n",
              "}\n",
              "#T_51e3b_row1_col5, #T_51e3b_row2_col10, #T_51e3b_row3_col12, #T_51e3b_row4_col9, #T_51e3b_row5_col4 {\n",
              "  background-color: #3f53c6;\n",
              "  color: #f1f1f1;\n",
              "}\n",
              "#T_51e3b_row1_col9 {\n",
              "  background-color: #6e90f2;\n",
              "  color: #f1f1f1;\n",
              "}\n",
              "#T_51e3b_row1_col10, #T_51e3b_row5_col10 {\n",
              "  background-color: #7a9df8;\n",
              "  color: #f1f1f1;\n",
              "}\n",
              "#T_51e3b_row1_col12 {\n",
              "  background-color: #5673e0;\n",
              "  color: #f1f1f1;\n",
              "}\n",
              "#T_51e3b_row1_col13 {\n",
              "  background-color: #5977e3;\n",
              "  color: #f1f1f1;\n",
              "}\n",
              "#T_51e3b_row2_col3, #T_51e3b_row7_col4, #T_51e3b_row11_col3 {\n",
              "  background-color: #3d50c3;\n",
              "  color: #f1f1f1;\n",
              "}\n",
              "#T_51e3b_row2_col4, #T_51e3b_row11_col4 {\n",
              "  background-color: #516ddb;\n",
              "  color: #f1f1f1;\n",
              "}\n",
              "#T_51e3b_row2_col6 {\n",
              "  background-color: #b1cbfc;\n",
              "  color: #000000;\n",
              "}\n",
              "#T_51e3b_row2_col7, #T_51e3b_row8_col9, #T_51e3b_row11_col7, #T_51e3b_row12_col7 {\n",
              "  background-color: #4358cb;\n",
              "  color: #f1f1f1;\n",
              "}\n",
              "#T_51e3b_row2_col8, #T_51e3b_row5_col11, #T_51e3b_row6_col13 {\n",
              "  background-color: #85a8fc;\n",
              "  color: #f1f1f1;\n",
              "}\n",
              "#T_51e3b_row2_col9, #T_51e3b_row4_col7, #T_51e3b_row8_col3, #T_51e3b_row11_col10 {\n",
              "  background-color: #4055c8;\n",
              "  color: #f1f1f1;\n",
              "}\n",
              "#T_51e3b_row2_col11, #T_51e3b_row3_col9, #T_51e3b_row9_col3, #T_51e3b_row11_col2 {\n",
              "  background-color: #b70d28;\n",
              "  color: #f1f1f1;\n",
              "}\n",
              "#T_51e3b_row2_col12 {\n",
              "  background-color: #6a8bef;\n",
              "  color: #f1f1f1;\n",
              "}\n",
              "#T_51e3b_row2_col13, #T_51e3b_row10_col1, #T_51e3b_row11_col13, #T_51e3b_row13_col6 {\n",
              "  background-color: #88abfd;\n",
              "  color: #000000;\n",
              "}\n",
              "#T_51e3b_row3_col0, #T_51e3b_row10_col8, #T_51e3b_row13_col8 {\n",
              "  background-color: #7b9ff9;\n",
              "  color: #f1f1f1;\n",
              "}\n",
              "#T_51e3b_row3_col1, #T_51e3b_row4_col1 {\n",
              "  background-color: #98b9ff;\n",
              "  color: #000000;\n",
              "}\n",
              "#T_51e3b_row3_col2, #T_51e3b_row3_col11, #T_51e3b_row6_col5, #T_51e3b_row7_col2, #T_51e3b_row7_col11, #T_51e3b_row9_col2, #T_51e3b_row9_col11, #T_51e3b_row13_col1 {\n",
              "  background-color: #6788ee;\n",
              "  color: #f1f1f1;\n",
              "}\n",
              "#T_51e3b_row3_col4, #T_51e3b_row11_col9, #T_51e3b_row12_col3, #T_51e3b_row12_col9 {\n",
              "  background-color: #4257c9;\n",
              "  color: #f1f1f1;\n",
              "}\n",
              "#T_51e3b_row3_col5, #T_51e3b_row9_col5 {\n",
              "  background-color: #465ecf;\n",
              "  color: #f1f1f1;\n",
              "}\n",
              "#T_51e3b_row3_col6, #T_51e3b_row8_col1 {\n",
              "  background-color: #5a78e4;\n",
              "  color: #f1f1f1;\n",
              "}\n",
              "#T_51e3b_row3_col7, #T_51e3b_row7_col3 {\n",
              "  background-color: #b8122a;\n",
              "  color: #f1f1f1;\n",
              "}\n",
              "#T_51e3b_row3_col8, #T_51e3b_row5_col9, #T_51e3b_row8_col0, #T_51e3b_row10_col11, #T_51e3b_row13_col0, #T_51e3b_row13_col9 {\n",
              "  background-color: #4c66d6;\n",
              "  color: #f1f1f1;\n",
              "}\n",
              "#T_51e3b_row3_col10, #T_51e3b_row10_col4 {\n",
              "  background-color: #6687ed;\n",
              "  color: #f1f1f1;\n",
              "}\n",
              "#T_51e3b_row3_col13, #T_51e3b_row7_col10, #T_51e3b_row7_col13, #T_51e3b_row9_col10, #T_51e3b_row9_col13 {\n",
              "  background-color: #6485ec;\n",
              "  color: #f1f1f1;\n",
              "}\n",
              "#T_51e3b_row4_col2, #T_51e3b_row4_col11, #T_51e3b_row7_col0 {\n",
              "  background-color: #799cf8;\n",
              "  color: #f1f1f1;\n",
              "}\n",
              "#T_51e3b_row4_col3, #T_51e3b_row9_col4 {\n",
              "  background-color: #3e51c5;\n",
              "  color: #f1f1f1;\n",
              "}\n",
              "#T_51e3b_row4_col6 {\n",
              "  background-color: #cfdaea;\n",
              "  color: #000000;\n",
              "}\n",
              "#T_51e3b_row4_col8 {\n",
              "  background-color: #e9d5cb;\n",
              "  color: #000000;\n",
              "}\n",
              "#T_51e3b_row4_col10 {\n",
              "  background-color: #80a3fa;\n",
              "  color: #f1f1f1;\n",
              "}\n",
              "#T_51e3b_row4_col12 {\n",
              "  background-color: #f3c7b1;\n",
              "  color: #000000;\n",
              "}\n",
              "#T_51e3b_row4_col13, #T_51e3b_row7_col6 {\n",
              "  background-color: #5470de;\n",
              "  color: #f1f1f1;\n",
              "}\n",
              "#T_51e3b_row5_col0, #T_51e3b_row5_col7, #T_51e3b_row10_col2, #T_51e3b_row10_col7, #T_51e3b_row13_col7 {\n",
              "  background-color: #4e68d8;\n",
              "  color: #f1f1f1;\n",
              "}\n",
              "#T_51e3b_row5_col1 {\n",
              "  background-color: #6b8df0;\n",
              "  color: #f1f1f1;\n",
              "}\n",
              "#T_51e3b_row5_col2, #T_51e3b_row5_col6 {\n",
              "  background-color: #86a9fc;\n",
              "  color: #f1f1f1;\n",
              "}\n",
              "#T_51e3b_row5_col3, #T_51e3b_row6_col0, #T_51e3b_row7_col8, #T_51e3b_row10_col3 {\n",
              "  background-color: #4961d2;\n",
              "  color: #f1f1f1;\n",
              "}\n",
              "#T_51e3b_row5_col8, #T_51e3b_row10_col12 {\n",
              "  background-color: #81a4fb;\n",
              "  color: #f1f1f1;\n",
              "}\n",
              "#T_51e3b_row5_col12, #T_51e3b_row8_col10, #T_51e3b_row12_col5 {\n",
              "  background-color: #8caffe;\n",
              "  color: #000000;\n",
              "}\n",
              "#T_51e3b_row5_col13 {\n",
              "  background-color: #e46e56;\n",
              "  color: #f1f1f1;\n",
              "}\n",
              "#T_51e3b_row6_col1, #T_51e3b_row7_col5 {\n",
              "  background-color: #455cce;\n",
              "  color: #f1f1f1;\n",
              "}\n",
              "#T_51e3b_row6_col2 {\n",
              "  background-color: #b9d0f9;\n",
              "  color: #000000;\n",
              "}\n",
              "#T_51e3b_row6_col4 {\n",
              "  background-color: #bfd3f6;\n",
              "  color: #000000;\n",
              "}\n",
              "#T_51e3b_row6_col8 {\n",
              "  background-color: #d7dce3;\n",
              "  color: #000000;\n",
              "}\n",
              "#T_51e3b_row6_col10 {\n",
              "  background-color: #7699f6;\n",
              "  color: #f1f1f1;\n",
              "}\n",
              "#T_51e3b_row6_col11 {\n",
              "  background-color: #b7cff9;\n",
              "  color: #000000;\n",
              "}\n",
              "#T_51e3b_row6_col12 {\n",
              "  background-color: #dcdddd;\n",
              "  color: #000000;\n",
              "}\n",
              "#T_51e3b_row7_col1 {\n",
              "  background-color: #96b7ff;\n",
              "  color: #000000;\n",
              "}\n",
              "#T_51e3b_row7_col9, #T_51e3b_row9_col7 {\n",
              "  background-color: #b50927;\n",
              "  color: #f1f1f1;\n",
              "}\n",
              "#T_51e3b_row8_col4 {\n",
              "  background-color: #e5d8d1;\n",
              "  color: #000000;\n",
              "}\n",
              "#T_51e3b_row8_col6 {\n",
              "  background-color: #e0dbd8;\n",
              "  color: #000000;\n",
              "}\n",
              "#T_51e3b_row8_col11, #T_51e3b_row12_col13 {\n",
              "  background-color: #9fbfff;\n",
              "  color: #000000;\n",
              "}\n",
              "#T_51e3b_row8_col12 {\n",
              "  background-color: #f49a7b;\n",
              "  color: #000000;\n",
              "}\n",
              "#T_51e3b_row8_col13 {\n",
              "  background-color: #8db0fe;\n",
              "  color: #000000;\n",
              "}\n",
              "#T_51e3b_row9_col1 {\n",
              "  background-color: #92b4fe;\n",
              "  color: #000000;\n",
              "}\n",
              "#T_51e3b_row9_col6, #T_51e3b_row12_col0 {\n",
              "  background-color: #5572df;\n",
              "  color: #f1f1f1;\n",
              "}\n",
              "#T_51e3b_row9_col12 {\n",
              "  background-color: #3c4ec2;\n",
              "  color: #f1f1f1;\n",
              "}\n",
              "#T_51e3b_row10_col0 {\n",
              "  background-color: #5e7de7;\n",
              "  color: #f1f1f1;\n",
              "}\n",
              "#T_51e3b_row10_col9 {\n",
              "  background-color: #4b64d5;\n",
              "  color: #f1f1f1;\n",
              "}\n",
              "#T_51e3b_row11_col6 {\n",
              "  background-color: #afcafc;\n",
              "  color: #000000;\n",
              "}\n",
              "#T_51e3b_row11_col8 {\n",
              "  background-color: #84a7fc;\n",
              "  color: #f1f1f1;\n",
              "}\n",
              "#T_51e3b_row11_col12 {\n",
              "  background-color: #688aef;\n",
              "  color: #f1f1f1;\n",
              "}\n",
              "#T_51e3b_row12_col1, #T_51e3b_row13_col12 {\n",
              "  background-color: #82a6fb;\n",
              "  color: #f1f1f1;\n",
              "}\n",
              "#T_51e3b_row12_col2, #T_51e3b_row13_col2, #T_51e3b_row13_col11 {\n",
              "  background-color: #94b6ff;\n",
              "  color: #000000;\n",
              "}\n",
              "#T_51e3b_row12_col4 {\n",
              "  background-color: #f4c5ad;\n",
              "  color: #000000;\n",
              "}\n",
              "#T_51e3b_row12_col6 {\n",
              "  background-color: #ead5c9;\n",
              "  color: #000000;\n",
              "}\n",
              "#T_51e3b_row12_col8 {\n",
              "  background-color: #f39577;\n",
              "  color: #000000;\n",
              "}\n",
              "#T_51e3b_row12_col10 {\n",
              "  background-color: #9ebeff;\n",
              "  color: #000000;\n",
              "}\n",
              "#T_51e3b_row12_col11 {\n",
              "  background-color: #93b5fe;\n",
              "  color: #000000;\n",
              "}\n",
              "#T_51e3b_row13_col3 {\n",
              "  background-color: #485fd1;\n",
              "  color: #f1f1f1;\n",
              "}\n",
              "#T_51e3b_row13_col5 {\n",
              "  background-color: #e8765c;\n",
              "  color: #f1f1f1;\n",
              "}\n",
              "</style>\n",
              "<table id=\"T_51e3b_\" class=\"dataframe\">\n",
              "  <thead>\n",
              "    <tr>\n",
              "      <th class=\"blank level0\" >&nbsp;</th>\n",
              "      <th class=\"col_heading level0 col0\" >SeriousDlqin2yrs</th>\n",
              "      <th class=\"col_heading level0 col1\" >RevolvingUtilizationOfUnsecuredLines</th>\n",
              "      <th class=\"col_heading level0 col2\" >age</th>\n",
              "      <th class=\"col_heading level0 col3\" >NumberOfTime30-59DaysPastDueNotWorse</th>\n",
              "      <th class=\"col_heading level0 col4\" >DebtRatio</th>\n",
              "      <th class=\"col_heading level0 col5\" >MonthlyIncome</th>\n",
              "      <th class=\"col_heading level0 col6\" >NumberOfOpenCreditLinesAndLoans</th>\n",
              "      <th class=\"col_heading level0 col7\" >NumberOfTimes90DaysLate</th>\n",
              "      <th class=\"col_heading level0 col8\" >NumberRealEstateLoansOrLines</th>\n",
              "      <th class=\"col_heading level0 col9\" >NumberOfTime60-89DaysPastDueNotWorse</th>\n",
              "      <th class=\"col_heading level0 col10\" >NumberOfDependents</th>\n",
              "      <th class=\"col_heading level0 col11\" >age_grp</th>\n",
              "      <th class=\"col_heading level0 col12\" >costs</th>\n",
              "      <th class=\"col_heading level0 col13\" >care</th>\n",
              "    </tr>\n",
              "  </thead>\n",
              "  <tbody>\n",
              "    <tr>\n",
              "      <th id=\"T_51e3b_level0_row0\" class=\"row_heading level0 row0\" >SeriousDlqin2yrs</th>\n",
              "      <td id=\"T_51e3b_row0_col0\" class=\"data row0 col0\" >1.000000</td>\n",
              "      <td id=\"T_51e3b_row0_col1\" class=\"data row0 col1\" >0.243618</td>\n",
              "      <td id=\"T_51e3b_row0_col2\" class=\"data row0 col2\" >-0.090778</td>\n",
              "      <td id=\"T_51e3b_row0_col3\" class=\"data row0 col3\" >0.128004</td>\n",
              "      <td id=\"T_51e3b_row0_col4\" class=\"data row0 col4\" >0.044069</td>\n",
              "      <td id=\"T_51e3b_row0_col5\" class=\"data row0 col5\" >-0.018893</td>\n",
              "      <td id=\"T_51e3b_row0_col6\" class=\"data row0 col6\" >-0.038374</td>\n",
              "      <td id=\"T_51e3b_row0_col7\" class=\"data row0 col7\" >0.121308</td>\n",
              "      <td id=\"T_51e3b_row0_col8\" class=\"data row0 col8\" >-0.024133</td>\n",
              "      <td id=\"T_51e3b_row0_col9\" class=\"data row0 col9\" >0.107894</td>\n",
              "      <td id=\"T_51e3b_row0_col10\" class=\"data row0 col10\" >0.035900</td>\n",
              "      <td id=\"T_51e3b_row0_col11\" class=\"data row0 col11\" >-0.089858</td>\n",
              "      <td id=\"T_51e3b_row0_col12\" class=\"data row0 col12\" >0.003530</td>\n",
              "      <td id=\"T_51e3b_row0_col13\" class=\"data row0 col13\" >-0.025496</td>\n",
              "    </tr>\n",
              "    <tr>\n",
              "      <th id=\"T_51e3b_level0_row1\" class=\"row_heading level0 row1\" >RevolvingUtilizationOfUnsecuredLines</th>\n",
              "      <td id=\"T_51e3b_row1_col0\" class=\"data row1 col0\" >0.243618</td>\n",
              "      <td id=\"T_51e3b_row1_col1\" class=\"data row1 col1\" >1.000000</td>\n",
              "      <td id=\"T_51e3b_row1_col2\" class=\"data row1 col2\" >-0.227229</td>\n",
              "      <td id=\"T_51e3b_row1_col3\" class=\"data row1 col3\" >0.118723</td>\n",
              "      <td id=\"T_51e3b_row1_col4\" class=\"data row1 col4\" >0.120274</td>\n",
              "      <td id=\"T_51e3b_row1_col5\" class=\"data row1 col5\" >-0.037040</td>\n",
              "      <td id=\"T_51e3b_row1_col6\" class=\"data row1 col6\" >-0.181126</td>\n",
              "      <td id=\"T_51e3b_row1_col7\" class=\"data row1 col7\" >0.109272</td>\n",
              "      <td id=\"T_51e3b_row1_col8\" class=\"data row1 col8\" >-0.101625</td>\n",
              "      <td id=\"T_51e3b_row1_col9\" class=\"data row1 col9\" >0.098536</td>\n",
              "      <td id=\"T_51e3b_row1_col10\" class=\"data row1 col10\" >0.061422</td>\n",
              "      <td id=\"T_51e3b_row1_col11\" class=\"data row1 col11\" >-0.224961</td>\n",
              "      <td id=\"T_51e3b_row1_col12\" class=\"data row1 col12\" >0.042661</td>\n",
              "      <td id=\"T_51e3b_row1_col13\" class=\"data row1 col13\" >-0.052880</td>\n",
              "    </tr>\n",
              "    <tr>\n",
              "      <th id=\"T_51e3b_level0_row2\" class=\"row_heading level0 row2\" >age</th>\n",
              "      <td id=\"T_51e3b_row2_col0\" class=\"data row2 col0\" >-0.090778</td>\n",
              "      <td id=\"T_51e3b_row2_col1\" class=\"data row2 col1\" >-0.227229</td>\n",
              "      <td id=\"T_51e3b_row2_col2\" class=\"data row2 col2\" >1.000000</td>\n",
              "      <td id=\"T_51e3b_row2_col3\" class=\"data row2 col3\" >-0.052015</td>\n",
              "      <td id=\"T_51e3b_row2_col4\" class=\"data row2 col4\" >0.010927</td>\n",
              "      <td id=\"T_51e3b_row2_col5\" class=\"data row2 col5\" >0.057793</td>\n",
              "      <td id=\"T_51e3b_row2_col6\" class=\"data row2 col6\" >0.235304</td>\n",
              "      <td id=\"T_51e3b_row2_col7\" class=\"data row2 col7\" >-0.053472</td>\n",
              "      <td id=\"T_51e3b_row2_col8\" class=\"data row2 col8\" >0.148353</td>\n",
              "      <td id=\"T_51e3b_row2_col9\" class=\"data row2 col9\" >-0.050194</td>\n",
              "      <td id=\"T_51e3b_row2_col10\" class=\"data row2 col10\" >-0.149130</td>\n",
              "      <td id=\"T_51e3b_row2_col11\" class=\"data row2 col11\" >0.987807</td>\n",
              "      <td id=\"T_51e3b_row2_col12\" class=\"data row2 col12\" >0.104530</td>\n",
              "      <td id=\"T_51e3b_row2_col13\" class=\"data row2 col13\" >0.106965</td>\n",
              "    </tr>\n",
              "    <tr>\n",
              "      <th id=\"T_51e3b_level0_row3\" class=\"row_heading level0 row3\" >NumberOfTime30-59DaysPastDueNotWorse</th>\n",
              "      <td id=\"T_51e3b_row3_col0\" class=\"data row3 col0\" >0.128004</td>\n",
              "      <td id=\"T_51e3b_row3_col1\" class=\"data row3 col1\" >0.118723</td>\n",
              "      <td id=\"T_51e3b_row3_col2\" class=\"data row3 col2\" >-0.052015</td>\n",
              "      <td id=\"T_51e3b_row3_col3\" class=\"data row3 col3\" >1.000000</td>\n",
              "      <td id=\"T_51e3b_row3_col4\" class=\"data row3 col4\" >-0.044827</td>\n",
              "      <td id=\"T_51e3b_row3_col5\" class=\"data row3 col5\" >-0.011277</td>\n",
              "      <td id=\"T_51e3b_row3_col6\" class=\"data row3 col6\" >-0.061028</td>\n",
              "      <td id=\"T_51e3b_row3_col7\" class=\"data row3 col7\" >0.985191</td>\n",
              "      <td id=\"T_51e3b_row3_col8\" class=\"data row3 col8\" >-0.036164</td>\n",
              "      <td id=\"T_51e3b_row3_col9\" class=\"data row3 col9\" >0.987877</td>\n",
              "      <td id=\"T_51e3b_row3_col10\" class=\"data row3 col10\" >-0.008495</td>\n",
              "      <td id=\"T_51e3b_row3_col11\" class=\"data row3 col11\" >-0.050540</td>\n",
              "      <td id=\"T_51e3b_row3_col12\" class=\"data row3 col12\" >-0.035235</td>\n",
              "      <td id=\"T_51e3b_row3_col13\" class=\"data row3 col13\" >-0.011678</td>\n",
              "    </tr>\n",
              "    <tr>\n",
              "      <th id=\"T_51e3b_level0_row4\" class=\"row_heading level0 row4\" >DebtRatio</th>\n",
              "      <td id=\"T_51e3b_row4_col0\" class=\"data row4 col0\" >0.044069</td>\n",
              "      <td id=\"T_51e3b_row4_col1\" class=\"data row4 col1\" >0.120274</td>\n",
              "      <td id=\"T_51e3b_row4_col2\" class=\"data row4 col2\" >0.010927</td>\n",
              "      <td id=\"T_51e3b_row4_col3\" class=\"data row4 col3\" >-0.044827</td>\n",
              "      <td id=\"T_51e3b_row4_col4\" class=\"data row4 col4\" >1.000000</td>\n",
              "      <td id=\"T_51e3b_row4_col5\" class=\"data row4 col5\" >-0.054173</td>\n",
              "      <td id=\"T_51e3b_row4_col6\" class=\"data row4 col6\" >0.350761</td>\n",
              "      <td id=\"T_51e3b_row4_col7\" class=\"data row4 col7\" >-0.062238</td>\n",
              "      <td id=\"T_51e3b_row4_col8\" class=\"data row4 col8\" >0.501347</td>\n",
              "      <td id=\"T_51e3b_row4_col9\" class=\"data row4 col9\" >-0.057975</td>\n",
              "      <td id=\"T_51e3b_row4_col10\" class=\"data row4 col10\" >0.078191</td>\n",
              "      <td id=\"T_51e3b_row4_col11\" class=\"data row4 col11\" >0.009800</td>\n",
              "      <td id=\"T_51e3b_row4_col12\" class=\"data row4 col12\" >0.594437</td>\n",
              "      <td id=\"T_51e3b_row4_col13\" class=\"data row4 col13\" >-0.072649</td>\n",
              "    </tr>\n",
              "    <tr>\n",
              "      <th id=\"T_51e3b_level0_row5\" class=\"row_heading level0 row5\" >MonthlyIncome</th>\n",
              "      <td id=\"T_51e3b_row5_col0\" class=\"data row5 col0\" >-0.018893</td>\n",
              "      <td id=\"T_51e3b_row5_col1\" class=\"data row5 col1\" >-0.037040</td>\n",
              "      <td id=\"T_51e3b_row5_col2\" class=\"data row5 col2\" >0.057793</td>\n",
              "      <td id=\"T_51e3b_row5_col3\" class=\"data row5 col3\" >-0.011277</td>\n",
              "      <td id=\"T_51e3b_row5_col4\" class=\"data row5 col4\" >-0.054173</td>\n",
              "      <td id=\"T_51e3b_row5_col5\" class=\"data row5 col5\" >1.000000</td>\n",
              "      <td id=\"T_51e3b_row5_col6\" class=\"data row5 col6\" >0.095224</td>\n",
              "      <td id=\"T_51e3b_row5_col7\" class=\"data row5 col7\" >-0.013544</td>\n",
              "      <td id=\"T_51e3b_row5_col8\" class=\"data row5 col8\" >0.136025</td>\n",
              "      <td id=\"T_51e3b_row5_col9\" class=\"data row5 col9\" >-0.012161</td>\n",
              "      <td id=\"T_51e3b_row5_col10\" class=\"data row5 col10\" >0.061359</td>\n",
              "      <td id=\"T_51e3b_row5_col11\" class=\"data row5 col11\" >0.057165</td>\n",
              "      <td id=\"T_51e3b_row5_col12\" class=\"data row5 col12\" >0.208396</td>\n",
              "      <td id=\"T_51e3b_row5_col13\" class=\"data row5 col13\" >0.819270</td>\n",
              "    </tr>\n",
              "    <tr>\n",
              "      <th id=\"T_51e3b_level0_row6\" class=\"row_heading level0 row6\" >NumberOfOpenCreditLinesAndLoans</th>\n",
              "      <td id=\"T_51e3b_row6_col0\" class=\"data row6 col0\" >-0.038374</td>\n",
              "      <td id=\"T_51e3b_row6_col1\" class=\"data row6 col1\" >-0.181126</td>\n",
              "      <td id=\"T_51e3b_row6_col2\" class=\"data row6 col2\" >0.235304</td>\n",
              "      <td id=\"T_51e3b_row6_col3\" class=\"data row6 col3\" >-0.061028</td>\n",
              "      <td id=\"T_51e3b_row6_col4\" class=\"data row6 col4\" >0.350761</td>\n",
              "      <td id=\"T_51e3b_row6_col5\" class=\"data row6 col5\" >0.095224</td>\n",
              "      <td id=\"T_51e3b_row6_col6\" class=\"data row6 col6\" >1.000000</td>\n",
              "      <td id=\"T_51e3b_row6_col7\" class=\"data row6 col7\" >-0.083676</td>\n",
              "      <td id=\"T_51e3b_row6_col8\" class=\"data row6 col8\" >0.427624</td>\n",
              "      <td id=\"T_51e3b_row6_col9\" class=\"data row6 col9\" >-0.075195</td>\n",
              "      <td id=\"T_51e3b_row6_col10\" class=\"data row6 col10\" >0.044839</td>\n",
              "      <td id=\"T_51e3b_row6_col11\" class=\"data row6 col11\" >0.232101</td>\n",
              "      <td id=\"T_51e3b_row6_col12\" class=\"data row6 col12\" >0.470298</td>\n",
              "      <td id=\"T_51e3b_row6_col13\" class=\"data row6 col13\" >0.098260</td>\n",
              "    </tr>\n",
              "    <tr>\n",
              "      <th id=\"T_51e3b_level0_row7\" class=\"row_heading level0 row7\" >NumberOfTimes90DaysLate</th>\n",
              "      <td id=\"T_51e3b_row7_col0\" class=\"data row7 col0\" >0.121308</td>\n",
              "      <td id=\"T_51e3b_row7_col1\" class=\"data row7 col1\" >0.109272</td>\n",
              "      <td id=\"T_51e3b_row7_col2\" class=\"data row7 col2\" >-0.053472</td>\n",
              "      <td id=\"T_51e3b_row7_col3\" class=\"data row7 col3\" >0.985191</td>\n",
              "      <td id=\"T_51e3b_row7_col4\" class=\"data row7 col4\" >-0.062238</td>\n",
              "      <td id=\"T_51e3b_row7_col5\" class=\"data row7 col5\" >-0.013544</td>\n",
              "      <td id=\"T_51e3b_row7_col6\" class=\"data row7 col6\" >-0.083676</td>\n",
              "      <td id=\"T_51e3b_row7_col7\" class=\"data row7 col7\" >1.000000</td>\n",
              "      <td id=\"T_51e3b_row7_col8\" class=\"data row7 col8\" >-0.049232</td>\n",
              "      <td id=\"T_51e3b_row7_col9\" class=\"data row7 col9\" >0.993951</td>\n",
              "      <td id=\"T_51e3b_row7_col10\" class=\"data row7 col10\" >-0.014142</td>\n",
              "      <td id=\"T_51e3b_row7_col11\" class=\"data row7 col11\" >-0.051877</td>\n",
              "      <td id=\"T_51e3b_row7_col12\" class=\"data row7 col12\" >-0.052292</td>\n",
              "      <td id=\"T_51e3b_row7_col13\" class=\"data row7 col13\" >-0.013134</td>\n",
              "    </tr>\n",
              "    <tr>\n",
              "      <th id=\"T_51e3b_level0_row8\" class=\"row_heading level0 row8\" >NumberRealEstateLoansOrLines</th>\n",
              "      <td id=\"T_51e3b_row8_col0\" class=\"data row8 col0\" >-0.024133</td>\n",
              "      <td id=\"T_51e3b_row8_col1\" class=\"data row8 col1\" >-0.101625</td>\n",
              "      <td id=\"T_51e3b_row8_col2\" class=\"data row8 col2\" >0.148353</td>\n",
              "      <td id=\"T_51e3b_row8_col3\" class=\"data row8 col3\" >-0.036164</td>\n",
              "      <td id=\"T_51e3b_row8_col4\" class=\"data row8 col4\" >0.501347</td>\n",
              "      <td id=\"T_51e3b_row8_col5\" class=\"data row8 col5\" >0.136025</td>\n",
              "      <td id=\"T_51e3b_row8_col6\" class=\"data row8 col6\" >0.427624</td>\n",
              "      <td id=\"T_51e3b_row8_col7\" class=\"data row8 col7\" >-0.049232</td>\n",
              "      <td id=\"T_51e3b_row8_col8\" class=\"data row8 col8\" >1.000000</td>\n",
              "      <td id=\"T_51e3b_row8_col9\" class=\"data row8 col9\" >-0.043771</td>\n",
              "      <td id=\"T_51e3b_row8_col10\" class=\"data row8 col10\" >0.120439</td>\n",
              "      <td id=\"T_51e3b_row8_col11\" class=\"data row8 col11\" >0.146436</td>\n",
              "      <td id=\"T_51e3b_row8_col12\" class=\"data row8 col12\" >0.733231</td>\n",
              "      <td id=\"T_51e3b_row8_col13\" class=\"data row8 col13\" >0.121814</td>\n",
              "    </tr>\n",
              "    <tr>\n",
              "      <th id=\"T_51e3b_level0_row9\" class=\"row_heading level0 row9\" >NumberOfTime60-89DaysPastDueNotWorse</th>\n",
              "      <td id=\"T_51e3b_row9_col0\" class=\"data row9 col0\" >0.107894</td>\n",
              "      <td id=\"T_51e3b_row9_col1\" class=\"data row9 col1\" >0.098536</td>\n",
              "      <td id=\"T_51e3b_row9_col2\" class=\"data row9 col2\" >-0.050194</td>\n",
              "      <td id=\"T_51e3b_row9_col3\" class=\"data row9 col3\" >0.987877</td>\n",
              "      <td id=\"T_51e3b_row9_col4\" class=\"data row9 col4\" >-0.057975</td>\n",
              "      <td id=\"T_51e3b_row9_col5\" class=\"data row9 col5\" >-0.012161</td>\n",
              "      <td id=\"T_51e3b_row9_col6\" class=\"data row9 col6\" >-0.075195</td>\n",
              "      <td id=\"T_51e3b_row9_col7\" class=\"data row9 col7\" >0.993951</td>\n",
              "      <td id=\"T_51e3b_row9_col8\" class=\"data row9 col8\" >-0.043771</td>\n",
              "      <td id=\"T_51e3b_row9_col9\" class=\"data row9 col9\" >1.000000</td>\n",
              "      <td id=\"T_51e3b_row9_col10\" class=\"data row9 col10\" >-0.014623</td>\n",
              "      <td id=\"T_51e3b_row9_col11\" class=\"data row9 col11\" >-0.048636</td>\n",
              "      <td id=\"T_51e3b_row9_col12\" class=\"data row9 col12\" >-0.047124</td>\n",
              "      <td id=\"T_51e3b_row9_col13\" class=\"data row9 col13\" >-0.011706</td>\n",
              "    </tr>\n",
              "    <tr>\n",
              "      <th id=\"T_51e3b_level0_row10\" class=\"row_heading level0 row10\" >NumberOfDependents</th>\n",
              "      <td id=\"T_51e3b_row10_col0\" class=\"data row10 col0\" >0.035900</td>\n",
              "      <td id=\"T_51e3b_row10_col1\" class=\"data row10 col1\" >0.061422</td>\n",
              "      <td id=\"T_51e3b_row10_col2\" class=\"data row10 col2\" >-0.149130</td>\n",
              "      <td id=\"T_51e3b_row10_col3\" class=\"data row10 col3\" >-0.008495</td>\n",
              "      <td id=\"T_51e3b_row10_col4\" class=\"data row10 col4\" >0.078191</td>\n",
              "      <td id=\"T_51e3b_row10_col5\" class=\"data row10 col5\" >0.061359</td>\n",
              "      <td id=\"T_51e3b_row10_col6\" class=\"data row10 col6\" >0.044839</td>\n",
              "      <td id=\"T_51e3b_row10_col7\" class=\"data row10 col7\" >-0.014142</td>\n",
              "      <td id=\"T_51e3b_row10_col8\" class=\"data row10 col8\" >0.120439</td>\n",
              "      <td id=\"T_51e3b_row10_col9\" class=\"data row10 col9\" >-0.014623</td>\n",
              "      <td id=\"T_51e3b_row10_col10\" class=\"data row10 col10\" >1.000000</td>\n",
              "      <td id=\"T_51e3b_row10_col11\" class=\"data row10 col11\" >-0.148412</td>\n",
              "      <td id=\"T_51e3b_row10_col12\" class=\"data row10 col12\" >0.177408</td>\n",
              "      <td id=\"T_51e3b_row10_col13\" class=\"data row10 col13\" >-0.171463</td>\n",
              "    </tr>\n",
              "    <tr>\n",
              "      <th id=\"T_51e3b_level0_row11\" class=\"row_heading level0 row11\" >age_grp</th>\n",
              "      <td id=\"T_51e3b_row11_col0\" class=\"data row11 col0\" >-0.089858</td>\n",
              "      <td id=\"T_51e3b_row11_col1\" class=\"data row11 col1\" >-0.224961</td>\n",
              "      <td id=\"T_51e3b_row11_col2\" class=\"data row11 col2\" >0.987807</td>\n",
              "      <td id=\"T_51e3b_row11_col3\" class=\"data row11 col3\" >-0.050540</td>\n",
              "      <td id=\"T_51e3b_row11_col4\" class=\"data row11 col4\" >0.009800</td>\n",
              "      <td id=\"T_51e3b_row11_col5\" class=\"data row11 col5\" >0.057165</td>\n",
              "      <td id=\"T_51e3b_row11_col6\" class=\"data row11 col6\" >0.232101</td>\n",
              "      <td id=\"T_51e3b_row11_col7\" class=\"data row11 col7\" >-0.051877</td>\n",
              "      <td id=\"T_51e3b_row11_col8\" class=\"data row11 col8\" >0.146436</td>\n",
              "      <td id=\"T_51e3b_row11_col9\" class=\"data row11 col9\" >-0.048636</td>\n",
              "      <td id=\"T_51e3b_row11_col10\" class=\"data row11 col10\" >-0.148412</td>\n",
              "      <td id=\"T_51e3b_row11_col11\" class=\"data row11 col11\" >1.000000</td>\n",
              "      <td id=\"T_51e3b_row11_col12\" class=\"data row11 col12\" >0.103168</td>\n",
              "      <td id=\"T_51e3b_row11_col13\" class=\"data row11 col13\" >0.105532</td>\n",
              "    </tr>\n",
              "    <tr>\n",
              "      <th id=\"T_51e3b_level0_row12\" class=\"row_heading level0 row12\" >costs</th>\n",
              "      <td id=\"T_51e3b_row12_col0\" class=\"data row12 col0\" >0.003530</td>\n",
              "      <td id=\"T_51e3b_row12_col1\" class=\"data row12 col1\" >0.042661</td>\n",
              "      <td id=\"T_51e3b_row12_col2\" class=\"data row12 col2\" >0.104530</td>\n",
              "      <td id=\"T_51e3b_row12_col3\" class=\"data row12 col3\" >-0.035235</td>\n",
              "      <td id=\"T_51e3b_row12_col4\" class=\"data row12 col4\" >0.594437</td>\n",
              "      <td id=\"T_51e3b_row12_col5\" class=\"data row12 col5\" >0.208396</td>\n",
              "      <td id=\"T_51e3b_row12_col6\" class=\"data row12 col6\" >0.470298</td>\n",
              "      <td id=\"T_51e3b_row12_col7\" class=\"data row12 col7\" >-0.052292</td>\n",
              "      <td id=\"T_51e3b_row12_col8\" class=\"data row12 col8\" >0.733231</td>\n",
              "      <td id=\"T_51e3b_row12_col9\" class=\"data row12 col9\" >-0.047124</td>\n",
              "      <td id=\"T_51e3b_row12_col10\" class=\"data row12 col10\" >0.177408</td>\n",
              "      <td id=\"T_51e3b_row12_col11\" class=\"data row12 col11\" >0.103168</td>\n",
              "      <td id=\"T_51e3b_row12_col12\" class=\"data row12 col12\" >1.000000</td>\n",
              "      <td id=\"T_51e3b_row12_col13\" class=\"data row12 col13\" >0.181272</td>\n",
              "    </tr>\n",
              "    <tr>\n",
              "      <th id=\"T_51e3b_level0_row13\" class=\"row_heading level0 row13\" >care</th>\n",
              "      <td id=\"T_51e3b_row13_col0\" class=\"data row13 col0\" >-0.025496</td>\n",
              "      <td id=\"T_51e3b_row13_col1\" class=\"data row13 col1\" >-0.052880</td>\n",
              "      <td id=\"T_51e3b_row13_col2\" class=\"data row13 col2\" >0.106965</td>\n",
              "      <td id=\"T_51e3b_row13_col3\" class=\"data row13 col3\" >-0.011678</td>\n",
              "      <td id=\"T_51e3b_row13_col4\" class=\"data row13 col4\" >-0.072649</td>\n",
              "      <td id=\"T_51e3b_row13_col5\" class=\"data row13 col5\" >0.819270</td>\n",
              "      <td id=\"T_51e3b_row13_col6\" class=\"data row13 col6\" >0.098260</td>\n",
              "      <td id=\"T_51e3b_row13_col7\" class=\"data row13 col7\" >-0.013134</td>\n",
              "      <td id=\"T_51e3b_row13_col8\" class=\"data row13 col8\" >0.121814</td>\n",
              "      <td id=\"T_51e3b_row13_col9\" class=\"data row13 col9\" >-0.011706</td>\n",
              "      <td id=\"T_51e3b_row13_col10\" class=\"data row13 col10\" >-0.171463</td>\n",
              "      <td id=\"T_51e3b_row13_col11\" class=\"data row13 col11\" >0.105532</td>\n",
              "      <td id=\"T_51e3b_row13_col12\" class=\"data row13 col12\" >0.181272</td>\n",
              "      <td id=\"T_51e3b_row13_col13\" class=\"data row13 col13\" >1.000000</td>\n",
              "    </tr>\n",
              "  </tbody>\n",
              "</table>\n"
            ]
          },
          "metadata": {},
          "execution_count": 57
        }
      ]
    },
    {
      "cell_type": "code",
      "source": [
        "data_2 = data_2.drop(['DebtRatio','NumberOfTime30-59DaysPastDueNotWorse','NumberOfTime60-89DaysPastDueNotWorse','NumberRealEstateLoansOrLines', 'NumberOfDependents', 'MonthlyIncome', 'age_grp'],axis=1)"
      ],
      "metadata": {
        "id": "kqK7vEiazgVJ"
      },
      "execution_count": 58,
      "outputs": []
    },
    {
      "cell_type": "code",
      "source": [
        "corr = data_2.corr()\n",
        "corr.style.background_gradient(cmap='coolwarm')"
      ],
      "metadata": {
        "colab": {
          "base_uri": "https://localhost:8080/",
          "height": 269
        },
        "id": "rK0Nih90zkWF",
        "outputId": "2d0f2a35-84ff-4435-8010-f5957a4beb2e"
      },
      "execution_count": 59,
      "outputs": [
        {
          "output_type": "execute_result",
          "data": {
            "text/plain": [
              "<pandas.io.formats.style.Styler at 0x7ff133df9880>"
            ],
            "text/html": [
              "<style type=\"text/css\">\n",
              "#T_10e05_row0_col0, #T_10e05_row1_col1, #T_10e05_row2_col2, #T_10e05_row3_col3, #T_10e05_row4_col4, #T_10e05_row5_col5, #T_10e05_row6_col6 {\n",
              "  background-color: #b40426;\n",
              "  color: #f1f1f1;\n",
              "}\n",
              "#T_10e05_row0_col1 {\n",
              "  background-color: #bbd1f8;\n",
              "  color: #000000;\n",
              "}\n",
              "#T_10e05_row0_col2 {\n",
              "  background-color: #5d7ce6;\n",
              "  color: #f1f1f1;\n",
              "}\n",
              "#T_10e05_row0_col3 {\n",
              "  background-color: #5f7fe8;\n",
              "  color: #f1f1f1;\n",
              "}\n",
              "#T_10e05_row0_col4 {\n",
              "  background-color: #779af7;\n",
              "  color: #f1f1f1;\n",
              "}\n",
              "#T_10e05_row0_col5 {\n",
              "  background-color: #4a63d3;\n",
              "  color: #f1f1f1;\n",
              "}\n",
              "#T_10e05_row0_col6 {\n",
              "  background-color: #4257c9;\n",
              "  color: #f1f1f1;\n",
              "}\n",
              "#T_10e05_row1_col0 {\n",
              "  background-color: #a1c0ff;\n",
              "  color: #000000;\n",
              "}\n",
              "#T_10e05_row1_col2, #T_10e05_row1_col3, #T_10e05_row1_col6, #T_10e05_row2_col0, #T_10e05_row2_col1, #T_10e05_row3_col4, #T_10e05_row4_col5 {\n",
              "  background-color: #3b4cc0;\n",
              "  color: #f1f1f1;\n",
              "}\n",
              "#T_10e05_row1_col4 {\n",
              "  background-color: #7396f5;\n",
              "  color: #f1f1f1;\n",
              "}\n",
              "#T_10e05_row1_col5 {\n",
              "  background-color: #5673e0;\n",
              "  color: #f1f1f1;\n",
              "}\n",
              "#T_10e05_row2_col3 {\n",
              "  background-color: #b1cbfc;\n",
              "  color: #000000;\n",
              "}\n",
              "#T_10e05_row2_col4, #T_10e05_row5_col4 {\n",
              "  background-color: #4358cb;\n",
              "  color: #f1f1f1;\n",
              "}\n",
              "#T_10e05_row2_col5, #T_10e05_row2_col6 {\n",
              "  background-color: #6a8bef;\n",
              "  color: #f1f1f1;\n",
              "}\n",
              "#T_10e05_row3_col0 {\n",
              "  background-color: #4961d2;\n",
              "  color: #f1f1f1;\n",
              "}\n",
              "#T_10e05_row3_col1, #T_10e05_row4_col6 {\n",
              "  background-color: #455cce;\n",
              "  color: #f1f1f1;\n",
              "}\n",
              "#T_10e05_row3_col2 {\n",
              "  background-color: #b9d0f9;\n",
              "  color: #000000;\n",
              "}\n",
              "#T_10e05_row3_col5 {\n",
              "  background-color: #dcdddd;\n",
              "  color: #000000;\n",
              "}\n",
              "#T_10e05_row3_col6, #T_10e05_row4_col2, #T_10e05_row6_col1 {\n",
              "  background-color: #6788ee;\n",
              "  color: #f1f1f1;\n",
              "}\n",
              "#T_10e05_row4_col0 {\n",
              "  background-color: #799cf8;\n",
              "  color: #f1f1f1;\n",
              "}\n",
              "#T_10e05_row4_col1 {\n",
              "  background-color: #96b7ff;\n",
              "  color: #000000;\n",
              "}\n",
              "#T_10e05_row4_col3 {\n",
              "  background-color: #5470de;\n",
              "  color: #f1f1f1;\n",
              "}\n",
              "#T_10e05_row5_col0 {\n",
              "  background-color: #5572df;\n",
              "  color: #f1f1f1;\n",
              "}\n",
              "#T_10e05_row5_col1, #T_10e05_row5_col6, #T_10e05_row6_col5 {\n",
              "  background-color: #82a6fb;\n",
              "  color: #f1f1f1;\n",
              "}\n",
              "#T_10e05_row5_col2, #T_10e05_row6_col2 {\n",
              "  background-color: #94b6ff;\n",
              "  color: #000000;\n",
              "}\n",
              "#T_10e05_row5_col3 {\n",
              "  background-color: #ead5c9;\n",
              "  color: #000000;\n",
              "}\n",
              "#T_10e05_row6_col0 {\n",
              "  background-color: #4c66d6;\n",
              "  color: #f1f1f1;\n",
              "}\n",
              "#T_10e05_row6_col3 {\n",
              "  background-color: #88abfd;\n",
              "  color: #000000;\n",
              "}\n",
              "#T_10e05_row6_col4 {\n",
              "  background-color: #4e68d8;\n",
              "  color: #f1f1f1;\n",
              "}\n",
              "</style>\n",
              "<table id=\"T_10e05_\" class=\"dataframe\">\n",
              "  <thead>\n",
              "    <tr>\n",
              "      <th class=\"blank level0\" >&nbsp;</th>\n",
              "      <th class=\"col_heading level0 col0\" >SeriousDlqin2yrs</th>\n",
              "      <th class=\"col_heading level0 col1\" >RevolvingUtilizationOfUnsecuredLines</th>\n",
              "      <th class=\"col_heading level0 col2\" >age</th>\n",
              "      <th class=\"col_heading level0 col3\" >NumberOfOpenCreditLinesAndLoans</th>\n",
              "      <th class=\"col_heading level0 col4\" >NumberOfTimes90DaysLate</th>\n",
              "      <th class=\"col_heading level0 col5\" >costs</th>\n",
              "      <th class=\"col_heading level0 col6\" >care</th>\n",
              "    </tr>\n",
              "  </thead>\n",
              "  <tbody>\n",
              "    <tr>\n",
              "      <th id=\"T_10e05_level0_row0\" class=\"row_heading level0 row0\" >SeriousDlqin2yrs</th>\n",
              "      <td id=\"T_10e05_row0_col0\" class=\"data row0 col0\" >1.000000</td>\n",
              "      <td id=\"T_10e05_row0_col1\" class=\"data row0 col1\" >0.243618</td>\n",
              "      <td id=\"T_10e05_row0_col2\" class=\"data row0 col2\" >-0.090778</td>\n",
              "      <td id=\"T_10e05_row0_col3\" class=\"data row0 col3\" >-0.038374</td>\n",
              "      <td id=\"T_10e05_row0_col4\" class=\"data row0 col4\" >0.121308</td>\n",
              "      <td id=\"T_10e05_row0_col5\" class=\"data row0 col5\" >0.003530</td>\n",
              "      <td id=\"T_10e05_row0_col6\" class=\"data row0 col6\" >-0.025496</td>\n",
              "    </tr>\n",
              "    <tr>\n",
              "      <th id=\"T_10e05_level0_row1\" class=\"row_heading level0 row1\" >RevolvingUtilizationOfUnsecuredLines</th>\n",
              "      <td id=\"T_10e05_row1_col0\" class=\"data row1 col0\" >0.243618</td>\n",
              "      <td id=\"T_10e05_row1_col1\" class=\"data row1 col1\" >1.000000</td>\n",
              "      <td id=\"T_10e05_row1_col2\" class=\"data row1 col2\" >-0.227229</td>\n",
              "      <td id=\"T_10e05_row1_col3\" class=\"data row1 col3\" >-0.181126</td>\n",
              "      <td id=\"T_10e05_row1_col4\" class=\"data row1 col4\" >0.109272</td>\n",
              "      <td id=\"T_10e05_row1_col5\" class=\"data row1 col5\" >0.042661</td>\n",
              "      <td id=\"T_10e05_row1_col6\" class=\"data row1 col6\" >-0.052880</td>\n",
              "    </tr>\n",
              "    <tr>\n",
              "      <th id=\"T_10e05_level0_row2\" class=\"row_heading level0 row2\" >age</th>\n",
              "      <td id=\"T_10e05_row2_col0\" class=\"data row2 col0\" >-0.090778</td>\n",
              "      <td id=\"T_10e05_row2_col1\" class=\"data row2 col1\" >-0.227229</td>\n",
              "      <td id=\"T_10e05_row2_col2\" class=\"data row2 col2\" >1.000000</td>\n",
              "      <td id=\"T_10e05_row2_col3\" class=\"data row2 col3\" >0.235304</td>\n",
              "      <td id=\"T_10e05_row2_col4\" class=\"data row2 col4\" >-0.053472</td>\n",
              "      <td id=\"T_10e05_row2_col5\" class=\"data row2 col5\" >0.104530</td>\n",
              "      <td id=\"T_10e05_row2_col6\" class=\"data row2 col6\" >0.106965</td>\n",
              "    </tr>\n",
              "    <tr>\n",
              "      <th id=\"T_10e05_level0_row3\" class=\"row_heading level0 row3\" >NumberOfOpenCreditLinesAndLoans</th>\n",
              "      <td id=\"T_10e05_row3_col0\" class=\"data row3 col0\" >-0.038374</td>\n",
              "      <td id=\"T_10e05_row3_col1\" class=\"data row3 col1\" >-0.181126</td>\n",
              "      <td id=\"T_10e05_row3_col2\" class=\"data row3 col2\" >0.235304</td>\n",
              "      <td id=\"T_10e05_row3_col3\" class=\"data row3 col3\" >1.000000</td>\n",
              "      <td id=\"T_10e05_row3_col4\" class=\"data row3 col4\" >-0.083676</td>\n",
              "      <td id=\"T_10e05_row3_col5\" class=\"data row3 col5\" >0.470298</td>\n",
              "      <td id=\"T_10e05_row3_col6\" class=\"data row3 col6\" >0.098260</td>\n",
              "    </tr>\n",
              "    <tr>\n",
              "      <th id=\"T_10e05_level0_row4\" class=\"row_heading level0 row4\" >NumberOfTimes90DaysLate</th>\n",
              "      <td id=\"T_10e05_row4_col0\" class=\"data row4 col0\" >0.121308</td>\n",
              "      <td id=\"T_10e05_row4_col1\" class=\"data row4 col1\" >0.109272</td>\n",
              "      <td id=\"T_10e05_row4_col2\" class=\"data row4 col2\" >-0.053472</td>\n",
              "      <td id=\"T_10e05_row4_col3\" class=\"data row4 col3\" >-0.083676</td>\n",
              "      <td id=\"T_10e05_row4_col4\" class=\"data row4 col4\" >1.000000</td>\n",
              "      <td id=\"T_10e05_row4_col5\" class=\"data row4 col5\" >-0.052292</td>\n",
              "      <td id=\"T_10e05_row4_col6\" class=\"data row4 col6\" >-0.013134</td>\n",
              "    </tr>\n",
              "    <tr>\n",
              "      <th id=\"T_10e05_level0_row5\" class=\"row_heading level0 row5\" >costs</th>\n",
              "      <td id=\"T_10e05_row5_col0\" class=\"data row5 col0\" >0.003530</td>\n",
              "      <td id=\"T_10e05_row5_col1\" class=\"data row5 col1\" >0.042661</td>\n",
              "      <td id=\"T_10e05_row5_col2\" class=\"data row5 col2\" >0.104530</td>\n",
              "      <td id=\"T_10e05_row5_col3\" class=\"data row5 col3\" >0.470298</td>\n",
              "      <td id=\"T_10e05_row5_col4\" class=\"data row5 col4\" >-0.052292</td>\n",
              "      <td id=\"T_10e05_row5_col5\" class=\"data row5 col5\" >1.000000</td>\n",
              "      <td id=\"T_10e05_row5_col6\" class=\"data row5 col6\" >0.181272</td>\n",
              "    </tr>\n",
              "    <tr>\n",
              "      <th id=\"T_10e05_level0_row6\" class=\"row_heading level0 row6\" >care</th>\n",
              "      <td id=\"T_10e05_row6_col0\" class=\"data row6 col0\" >-0.025496</td>\n",
              "      <td id=\"T_10e05_row6_col1\" class=\"data row6 col1\" >-0.052880</td>\n",
              "      <td id=\"T_10e05_row6_col2\" class=\"data row6 col2\" >0.106965</td>\n",
              "      <td id=\"T_10e05_row6_col3\" class=\"data row6 col3\" >0.098260</td>\n",
              "      <td id=\"T_10e05_row6_col4\" class=\"data row6 col4\" >-0.013134</td>\n",
              "      <td id=\"T_10e05_row6_col5\" class=\"data row6 col5\" >0.181272</td>\n",
              "      <td id=\"T_10e05_row6_col6\" class=\"data row6 col6\" >1.000000</td>\n",
              "    </tr>\n",
              "  </tbody>\n",
              "</table>\n"
            ]
          },
          "metadata": {},
          "execution_count": 59
        }
      ]
    },
    {
      "cell_type": "markdown",
      "source": [
        "### **Обучение модели**"
      ],
      "metadata": {
        "id": "VuGT7WnX0Byo"
      }
    },
    {
      "cell_type": "markdown",
      "source": [
        "Сформируем матрицу X объект-признак и вектор y целевой переменной."
      ],
      "metadata": {
        "id": "8VgpuEDW0Byp"
      }
    },
    {
      "cell_type": "code",
      "source": [
        "y = data_2['SeriousDlqin2yrs']\n",
        "X = data_2.drop('SeriousDlqin2yrs', axis=1)"
      ],
      "metadata": {
        "id": "1IdOxabe0Byp"
      },
      "execution_count": 60,
      "outputs": []
    },
    {
      "cell_type": "markdown",
      "source": [
        "Мы разбиваем данные на train и test, чтобы:\n",
        "\n",
        "на тренировочных данных обучить модель\n",
        "на тестовых применить обученную модель и затем проверить качество модели"
      ],
      "metadata": {
        "id": "83MpjgNe0Byp"
      }
    },
    {
      "cell_type": "code",
      "source": [
        "from sklearn.metrics import accuracy_score\n",
        "from sklearn.model_selection import train_test_split\n",
        "\n",
        "Xtrain, Xtest, ytrain, ytest = train_test_split(X, y, test_size=0.25, random_state=42)"
      ],
      "metadata": {
        "id": "8ZK3VNJQ0Byp"
      },
      "execution_count": 61,
      "outputs": []
    },
    {
      "cell_type": "markdown",
      "source": [
        "Отмасштабируем признаки при помощи StandardScaler, обучив метод на тренировочных данных и применив его и к трейну, и к тесту."
      ],
      "metadata": {
        "id": "c0iEch9k0Byp"
      }
    },
    {
      "cell_type": "code",
      "source": [
        "from sklearn.preprocessing import StandardScaler\n",
        "\n",
        "ss = StandardScaler()\n",
        "ss.fit(Xtrain)\n",
        "\n",
        "Xtrain = pd.DataFrame(ss.transform(Xtrain), columns=X.columns)\n",
        "Xtest = pd.DataFrame(ss.transform(Xtest), columns=X.columns)\n",
        "\n",
        "Xtrain.head()"
      ],
      "metadata": {
        "colab": {
          "base_uri": "https://localhost:8080/",
          "height": 206
        },
        "outputId": "9f8c7d4a-18ae-4f84-bd6c-0af5a3f240d2",
        "id": "3Hmkxw5C0Byp"
      },
      "execution_count": 62,
      "outputs": [
        {
          "output_type": "execute_result",
          "data": {
            "text/plain": [
              "   RevolvingUtilizationOfUnsecuredLines       age  \\\n",
              "0                             -0.853985 -1.228763   \n",
              "1                             -0.833280  0.833230   \n",
              "2                             -0.647880 -1.466685   \n",
              "3                              0.333903  0.436693   \n",
              "4                             -0.356925  0.595308   \n",
              "\n",
              "   NumberOfOpenCreditLinesAndLoans  NumberOfTimes90DaysLate     costs  \\\n",
              "0                        -0.326990                -0.062632 -0.515698   \n",
              "1                         0.255784                -0.062632  0.079415   \n",
              "2                        -0.132732                -0.062632 -0.803690   \n",
              "3                         0.450043                -0.062632  0.289557   \n",
              "4                         1.227076                -0.062632 -0.185276   \n",
              "\n",
              "       care  \n",
              "0 -0.021395  \n",
              "1  0.150324  \n",
              "2 -0.236044  \n",
              "3 -0.057241  \n",
              "4 -0.182382  "
            ],
            "text/html": [
              "\n",
              "  <div id=\"df-7afef7b8-15cc-4b57-8f12-cb7805e821ef\">\n",
              "    <div class=\"colab-df-container\">\n",
              "      <div>\n",
              "<style scoped>\n",
              "    .dataframe tbody tr th:only-of-type {\n",
              "        vertical-align: middle;\n",
              "    }\n",
              "\n",
              "    .dataframe tbody tr th {\n",
              "        vertical-align: top;\n",
              "    }\n",
              "\n",
              "    .dataframe thead th {\n",
              "        text-align: right;\n",
              "    }\n",
              "</style>\n",
              "<table border=\"1\" class=\"dataframe\">\n",
              "  <thead>\n",
              "    <tr style=\"text-align: right;\">\n",
              "      <th></th>\n",
              "      <th>RevolvingUtilizationOfUnsecuredLines</th>\n",
              "      <th>age</th>\n",
              "      <th>NumberOfOpenCreditLinesAndLoans</th>\n",
              "      <th>NumberOfTimes90DaysLate</th>\n",
              "      <th>costs</th>\n",
              "      <th>care</th>\n",
              "    </tr>\n",
              "  </thead>\n",
              "  <tbody>\n",
              "    <tr>\n",
              "      <th>0</th>\n",
              "      <td>-0.853985</td>\n",
              "      <td>-1.228763</td>\n",
              "      <td>-0.326990</td>\n",
              "      <td>-0.062632</td>\n",
              "      <td>-0.515698</td>\n",
              "      <td>-0.021395</td>\n",
              "    </tr>\n",
              "    <tr>\n",
              "      <th>1</th>\n",
              "      <td>-0.833280</td>\n",
              "      <td>0.833230</td>\n",
              "      <td>0.255784</td>\n",
              "      <td>-0.062632</td>\n",
              "      <td>0.079415</td>\n",
              "      <td>0.150324</td>\n",
              "    </tr>\n",
              "    <tr>\n",
              "      <th>2</th>\n",
              "      <td>-0.647880</td>\n",
              "      <td>-1.466685</td>\n",
              "      <td>-0.132732</td>\n",
              "      <td>-0.062632</td>\n",
              "      <td>-0.803690</td>\n",
              "      <td>-0.236044</td>\n",
              "    </tr>\n",
              "    <tr>\n",
              "      <th>3</th>\n",
              "      <td>0.333903</td>\n",
              "      <td>0.436693</td>\n",
              "      <td>0.450043</td>\n",
              "      <td>-0.062632</td>\n",
              "      <td>0.289557</td>\n",
              "      <td>-0.057241</td>\n",
              "    </tr>\n",
              "    <tr>\n",
              "      <th>4</th>\n",
              "      <td>-0.356925</td>\n",
              "      <td>0.595308</td>\n",
              "      <td>1.227076</td>\n",
              "      <td>-0.062632</td>\n",
              "      <td>-0.185276</td>\n",
              "      <td>-0.182382</td>\n",
              "    </tr>\n",
              "  </tbody>\n",
              "</table>\n",
              "</div>\n",
              "      <button class=\"colab-df-convert\" onclick=\"convertToInteractive('df-7afef7b8-15cc-4b57-8f12-cb7805e821ef')\"\n",
              "              title=\"Convert this dataframe to an interactive table.\"\n",
              "              style=\"display:none;\">\n",
              "        \n",
              "  <svg xmlns=\"http://www.w3.org/2000/svg\" height=\"24px\"viewBox=\"0 0 24 24\"\n",
              "       width=\"24px\">\n",
              "    <path d=\"M0 0h24v24H0V0z\" fill=\"none\"/>\n",
              "    <path d=\"M18.56 5.44l.94 2.06.94-2.06 2.06-.94-2.06-.94-.94-2.06-.94 2.06-2.06.94zm-11 1L8.5 8.5l.94-2.06 2.06-.94-2.06-.94L8.5 2.5l-.94 2.06-2.06.94zm10 10l.94 2.06.94-2.06 2.06-.94-2.06-.94-.94-2.06-.94 2.06-2.06.94z\"/><path d=\"M17.41 7.96l-1.37-1.37c-.4-.4-.92-.59-1.43-.59-.52 0-1.04.2-1.43.59L10.3 9.45l-7.72 7.72c-.78.78-.78 2.05 0 2.83L4 21.41c.39.39.9.59 1.41.59.51 0 1.02-.2 1.41-.59l7.78-7.78 2.81-2.81c.8-.78.8-2.07 0-2.86zM5.41 20L4 18.59l7.72-7.72 1.47 1.35L5.41 20z\"/>\n",
              "  </svg>\n",
              "      </button>\n",
              "      \n",
              "  <style>\n",
              "    .colab-df-container {\n",
              "      display:flex;\n",
              "      flex-wrap:wrap;\n",
              "      gap: 12px;\n",
              "    }\n",
              "\n",
              "    .colab-df-convert {\n",
              "      background-color: #E8F0FE;\n",
              "      border: none;\n",
              "      border-radius: 50%;\n",
              "      cursor: pointer;\n",
              "      display: none;\n",
              "      fill: #1967D2;\n",
              "      height: 32px;\n",
              "      padding: 0 0 0 0;\n",
              "      width: 32px;\n",
              "    }\n",
              "\n",
              "    .colab-df-convert:hover {\n",
              "      background-color: #E2EBFA;\n",
              "      box-shadow: 0px 1px 2px rgba(60, 64, 67, 0.3), 0px 1px 3px 1px rgba(60, 64, 67, 0.15);\n",
              "      fill: #174EA6;\n",
              "    }\n",
              "\n",
              "    [theme=dark] .colab-df-convert {\n",
              "      background-color: #3B4455;\n",
              "      fill: #D2E3FC;\n",
              "    }\n",
              "\n",
              "    [theme=dark] .colab-df-convert:hover {\n",
              "      background-color: #434B5C;\n",
              "      box-shadow: 0px 1px 3px 1px rgba(0, 0, 0, 0.15);\n",
              "      filter: drop-shadow(0px 1px 2px rgba(0, 0, 0, 0.3));\n",
              "      fill: #FFFFFF;\n",
              "    }\n",
              "  </style>\n",
              "\n",
              "      <script>\n",
              "        const buttonEl =\n",
              "          document.querySelector('#df-7afef7b8-15cc-4b57-8f12-cb7805e821ef button.colab-df-convert');\n",
              "        buttonEl.style.display =\n",
              "          google.colab.kernel.accessAllowed ? 'block' : 'none';\n",
              "\n",
              "        async function convertToInteractive(key) {\n",
              "          const element = document.querySelector('#df-7afef7b8-15cc-4b57-8f12-cb7805e821ef');\n",
              "          const dataTable =\n",
              "            await google.colab.kernel.invokeFunction('convertToInteractive',\n",
              "                                                     [key], {});\n",
              "          if (!dataTable) return;\n",
              "\n",
              "          const docLinkHtml = 'Like what you see? Visit the ' +\n",
              "            '<a target=\"_blank\" href=https://colab.research.google.com/notebooks/data_table.ipynb>data table notebook</a>'\n",
              "            + ' to learn more about interactive tables.';\n",
              "          element.innerHTML = '';\n",
              "          dataTable['output_type'] = 'display_data';\n",
              "          await google.colab.output.renderOutput(dataTable, element);\n",
              "          const docLink = document.createElement('div');\n",
              "          docLink.innerHTML = docLinkHtml;\n",
              "          element.appendChild(docLink);\n",
              "        }\n",
              "      </script>\n",
              "    </div>\n",
              "  </div>\n",
              "  "
            ]
          },
          "metadata": {},
          "execution_count": 62
        }
      ]
    },
    {
      "cell_type": "markdown",
      "source": [
        "Обучим логистическую регрессию на train и сделаем предсказание на новых для нее данных (test)."
      ],
      "metadata": {
        "id": "XeQbpFbv0Byp"
      }
    },
    {
      "cell_type": "code",
      "source": [
        "from sklearn.linear_model import LogisticRegression\n",
        "\n",
        "model = LogisticRegression() # объявление модели\n",
        "model.fit(Xtrain, ytrain) # обучение модели"
      ],
      "metadata": {
        "colab": {
          "base_uri": "https://localhost:8080/"
        },
        "outputId": "74ab0576-49a6-4862-dc9a-99940b5e3ca7",
        "id": "cRsD5v8i0Byp"
      },
      "execution_count": 63,
      "outputs": [
        {
          "output_type": "execute_result",
          "data": {
            "text/plain": [
              "LogisticRegression()"
            ]
          },
          "metadata": {},
          "execution_count": 63
        }
      ]
    },
    {
      "cell_type": "code",
      "source": [
        "pred_test = model.predict(Xtest) # предсказание классов"
      ],
      "metadata": {
        "id": "3faI-fgG0Byp"
      },
      "execution_count": 64,
      "outputs": []
    },
    {
      "cell_type": "code",
      "source": [
        "pred_test"
      ],
      "metadata": {
        "colab": {
          "base_uri": "https://localhost:8080/"
        },
        "outputId": "4105f1b7-8735-4184-cb9a-054f20529e6a",
        "id": "GL_NFQZ20Byp"
      },
      "execution_count": 65,
      "outputs": [
        {
          "output_type": "execute_result",
          "data": {
            "text/plain": [
              "array([0, 0, 0, ..., 0, 0, 0])"
            ]
          },
          "metadata": {},
          "execution_count": 65
        }
      ]
    },
    {
      "cell_type": "code",
      "source": [
        "accuracy_score(ytest, pred_test)  "
      ],
      "metadata": {
        "colab": {
          "base_uri": "https://localhost:8080/"
        },
        "outputId": "42275ae7-1ce9-4744-d23b-59a267131eb2",
        "id": "3FyP4h0Y0Byp"
      },
      "execution_count": 66,
      "outputs": [
        {
          "output_type": "execute_result",
          "data": {
            "text/plain": [
              "0.9384378607156598"
            ]
          },
          "metadata": {},
          "execution_count": 66
        }
      ]
    },
    {
      "cell_type": "markdown",
      "source": [
        "Прогноз у модели со второй гипотизой стала чуть выше, предыдущее значение было 0.9342199002612206"
      ],
      "metadata": {
        "id": "WPLGXHNQHcs2"
      }
    },
    {
      "cell_type": "markdown",
      "source": [
        "Проверим, сбалансирована ли выборка."
      ],
      "metadata": {
        "id": "VmhCLnSd0Byq"
      }
    },
    {
      "cell_type": "code",
      "source": [
        "y.value_counts()"
      ],
      "metadata": {
        "colab": {
          "base_uri": "https://localhost:8080/"
        },
        "outputId": "0d3234ac-5470-4a91-b46e-502fe409b959",
        "id": "fatdaTfW0Byq"
      },
      "execution_count": 67,
      "outputs": [
        {
          "output_type": "execute_result",
          "data": {
            "text/plain": [
              "0    97349\n",
              "1     6608\n",
              "Name: SeriousDlqin2yrs, dtype: int64"
            ]
          },
          "metadata": {},
          "execution_count": 67
        }
      ]
    },
    {
      "cell_type": "code",
      "source": [
        "from sklearn.metrics import confusion_matrix\n",
        "\n",
        "confusion_matrix(ytest, pred_test)"
      ],
      "metadata": {
        "colab": {
          "base_uri": "https://localhost:8080/"
        },
        "outputId": "4c865099-1abf-48d2-e78d-583253a9764a",
        "id": "VchT1Oux0Byq"
      },
      "execution_count": 68,
      "outputs": [
        {
          "output_type": "execute_result",
          "data": {
            "text/plain": [
              "array([[24360,    20],\n",
              "       [ 1580,    30]])"
            ]
          },
          "metadata": {},
          "execution_count": 68
        }
      ]
    },
    {
      "cell_type": "code",
      "source": [
        "ytest.value_counts()"
      ],
      "metadata": {
        "colab": {
          "base_uri": "https://localhost:8080/"
        },
        "outputId": "33016879-b6d7-407b-b7c9-2f8f6ae20845",
        "id": "DEX-nQ3a0Byq"
      },
      "execution_count": 69,
      "outputs": [
        {
          "output_type": "execute_result",
          "data": {
            "text/plain": [
              "0    24380\n",
              "1     1610\n",
              "Name: SeriousDlqin2yrs, dtype: int64"
            ]
          },
          "metadata": {},
          "execution_count": 69
        }
      ]
    },
    {
      "cell_type": "code",
      "source": [
        "from sklearn.metrics import recall_score\n",
        "\n",
        "recall_score(ytest, pred_test)"
      ],
      "metadata": {
        "colab": {
          "base_uri": "https://localhost:8080/"
        },
        "outputId": "20132319-6a5d-411e-b7ed-ae6e29da7755",
        "id": "ZpNZmVOv0Byq"
      },
      "execution_count": 70,
      "outputs": [
        {
          "output_type": "execute_result",
          "data": {
            "text/plain": [
              "0.018633540372670808"
            ]
          },
          "metadata": {},
          "execution_count": 70
        }
      ]
    },
    {
      "cell_type": "markdown",
      "source": [
        "Полнота у модели со второй гипотизой стала чуть выше, предыдущее значение было 0.011983223487118035 "
      ],
      "metadata": {
        "id": "AG7ojVUIGDzA"
      }
    },
    {
      "cell_type": "code",
      "source": [
        "from sklearn.metrics import precision_score\n",
        "\n",
        "precision_score(ytest, pred_test)"
      ],
      "metadata": {
        "colab": {
          "base_uri": "https://localhost:8080/"
        },
        "outputId": "04475235-ee19-4b8f-c5d7-90a44d3ad6e9",
        "id": "m-uJiY5s0Byq"
      },
      "execution_count": 71,
      "outputs": [
        {
          "output_type": "execute_result",
          "data": {
            "text/plain": [
              "0.6"
            ]
          },
          "metadata": {},
          "execution_count": 71
        }
      ]
    },
    {
      "cell_type": "markdown",
      "source": [
        "Точность у модели со второй гипотизой стала чуть ниже, предыдущее значение было 0.6060606060606061"
      ],
      "metadata": {
        "id": "9zUTkbjGGFub"
      }
    },
    {
      "cell_type": "markdown",
      "source": [
        "Наша цель не количество а качество, по этому в данном случае параметр точности для нас будет более важен, но предлагаю немного повысить коэффициент полноты, для того чтоб наша модель охватывала чуть больше данных из выборки."
      ],
      "metadata": {
        "id": "RD1fF1d0oe0G"
      }
    },
    {
      "cell_type": "code",
      "source": [
        "probs = model.predict_proba(Xtest)\n",
        "\n",
        "probs[:10]"
      ],
      "metadata": {
        "colab": {
          "base_uri": "https://localhost:8080/"
        },
        "outputId": "6c5a5388-8703-4ef5-a361-1c6453933d21",
        "id": "8qyVKXPO0Byq"
      },
      "execution_count": 78,
      "outputs": [
        {
          "output_type": "execute_result",
          "data": {
            "text/plain": [
              "array([[0.84847341, 0.15152659],\n",
              "       [0.96317529, 0.03682471],\n",
              "       [0.9298296 , 0.0701704 ],\n",
              "       [0.94823922, 0.05176078],\n",
              "       [0.86530236, 0.13469764],\n",
              "       [0.98492308, 0.01507692],\n",
              "       [0.98766197, 0.01233803],\n",
              "       [0.9738687 , 0.0261313 ],\n",
              "       [0.8460787 , 0.1539213 ],\n",
              "       [0.95864059, 0.04135941]])"
            ]
          },
          "metadata": {},
          "execution_count": 78
        }
      ]
    },
    {
      "cell_type": "code",
      "source": [
        "probs_churn = probs[:,1]\n",
        "\n",
        "classes = probs_churn > 0.3"
      ],
      "metadata": {
        "id": "BbcMsNaCpXmN"
      },
      "execution_count": 115,
      "outputs": []
    },
    {
      "cell_type": "code",
      "source": [
        "confusion_matrix(ytest, classes)"
      ],
      "metadata": {
        "colab": {
          "base_uri": "https://localhost:8080/"
        },
        "id": "yNNamMC3psVm",
        "outputId": "9f33cf65-3ea1-4763-ba50-96c53f3c5715"
      },
      "execution_count": 116,
      "outputs": [
        {
          "output_type": "execute_result",
          "data": {
            "text/plain": [
              "array([[24358,    22],\n",
              "       [ 1577,    33]])"
            ]
          },
          "metadata": {},
          "execution_count": 116
        }
      ]
    },
    {
      "cell_type": "code",
      "source": [
        "ytest.value_counts()"
      ],
      "metadata": {
        "colab": {
          "base_uri": "https://localhost:8080/"
        },
        "id": "pYA_6MhHpw-Z",
        "outputId": "fdc2bff2-ac7a-4078-dd26-a52b1a86b6b5"
      },
      "execution_count": 117,
      "outputs": [
        {
          "output_type": "execute_result",
          "data": {
            "text/plain": [
              "0    24380\n",
              "1     1610\n",
              "Name: SeriousDlqin2yrs, dtype: int64"
            ]
          },
          "metadata": {},
          "execution_count": 117
        }
      ]
    },
    {
      "cell_type": "code",
      "source": [
        "recall_score(ytest, classes)"
      ],
      "metadata": {
        "colab": {
          "base_uri": "https://localhost:8080/"
        },
        "id": "olklmsANpyoP",
        "outputId": "01d3b49d-ca41-4682-ab70-14f5bc888a94"
      },
      "execution_count": 118,
      "outputs": [
        {
          "output_type": "execute_result",
          "data": {
            "text/plain": [
              "0.020496894409937887"
            ]
          },
          "metadata": {},
          "execution_count": 118
        }
      ]
    },
    {
      "cell_type": "code",
      "source": [
        "from sklearn.metrics import precision_score\n",
        "\n",
        "precision_score(ytest, classes)"
      ],
      "metadata": {
        "colab": {
          "base_uri": "https://localhost:8080/"
        },
        "id": "R7WeqFoEp-N_",
        "outputId": "8709496f-ab8f-472f-d080-3616b3311573"
      },
      "execution_count": 119,
      "outputs": [
        {
          "output_type": "execute_result",
          "data": {
            "text/plain": [
              "0.6"
            ]
          },
          "metadata": {},
          "execution_count": 119
        }
      ]
    },
    {
      "cell_type": "markdown",
      "source": [
        "Получилось улучшить показатель recall до 0.02 и при этом сохранить precision на 0.6\n"
      ],
      "metadata": {
        "id": "FjOw3hSRtq8I"
      }
    },
    {
      "cell_type": "code",
      "source": [
        "from sklearn import metrics\n",
        "\n",
        "print(\"LR quality:\")\n",
        "print(\"precision: \", metrics.precision_score(ytest, classes))\n",
        "print(\"recall: \", metrics.recall_score(ytest, classes))\n",
        "print(\"auc-roc: \", metrics.roc_auc_score(ytest, probs[:, 1]))"
      ],
      "metadata": {
        "colab": {
          "base_uri": "https://localhost:8080/"
        },
        "outputId": "f2694129-926f-4f6a-87d3-bf0ab9df5863",
        "id": "-Ofd9lk_0Byq"
      },
      "execution_count": 120,
      "outputs": [
        {
          "output_type": "stream",
          "name": "stdout",
          "text": [
            "LR quality:\n",
            "precision:  0.6\n",
            "recall:  0.020496894409937887\n",
            "auc-roc:  0.770726068613414\n"
          ]
        }
      ]
    },
    {
      "cell_type": "markdown",
      "source": [
        "В целом можно сделать вывод что вторая гипотеза показала результаты чуть лучше чем первая."
      ],
      "metadata": {
        "id": "65GnwLj_IML6"
      }
    },
    {
      "cell_type": "code",
      "source": [
        "conn.close()"
      ],
      "metadata": {
        "id": "vlsFCJ4uWeHg"
      },
      "execution_count": 121,
      "outputs": []
    },
    {
      "cell_type": "markdown",
      "source": [
        "# **Градиентный бустинг**"
      ],
      "metadata": {
        "id": "HbuiKexqswNz"
      }
    },
    {
      "cell_type": "code",
      "source": [
        "!pip install catboost"
      ],
      "metadata": {
        "colab": {
          "base_uri": "https://localhost:8080/"
        },
        "id": "QtthLHWouFw4",
        "outputId": "b7b1e5f6-3964-47c7-eab0-0c1365d65bb8"
      },
      "execution_count": 122,
      "outputs": [
        {
          "output_type": "stream",
          "name": "stdout",
          "text": [
            "Looking in indexes: https://pypi.org/simple, https://us-python.pkg.dev/colab-wheels/public/simple/\n",
            "Collecting catboost\n",
            "  Downloading catboost-1.1.1-cp38-none-manylinux1_x86_64.whl (76.6 MB)\n",
            "\u001b[2K     \u001b[90m━━━━━━━━━━━━━━━━━━━━━━━━━━━━━━━━━━━━━━━━\u001b[0m \u001b[32m76.6/76.6 MB\u001b[0m \u001b[31m12.7 MB/s\u001b[0m eta \u001b[36m0:00:00\u001b[0m\n",
            "\u001b[?25hRequirement already satisfied: scipy in /usr/local/lib/python3.8/dist-packages (from catboost) (1.7.3)\n",
            "Requirement already satisfied: graphviz in /usr/local/lib/python3.8/dist-packages (from catboost) (0.10.1)\n",
            "Requirement already satisfied: pandas>=0.24.0 in /usr/local/lib/python3.8/dist-packages (from catboost) (1.3.5)\n",
            "Requirement already satisfied: numpy>=1.16.0 in /usr/local/lib/python3.8/dist-packages (from catboost) (1.22.4)\n",
            "Requirement already satisfied: plotly in /usr/local/lib/python3.8/dist-packages (from catboost) (5.5.0)\n",
            "Requirement already satisfied: matplotlib in /usr/local/lib/python3.8/dist-packages (from catboost) (3.5.3)\n",
            "Requirement already satisfied: six in /usr/local/lib/python3.8/dist-packages (from catboost) (1.15.0)\n",
            "Requirement already satisfied: python-dateutil>=2.7.3 in /usr/local/lib/python3.8/dist-packages (from pandas>=0.24.0->catboost) (2.8.2)\n",
            "Requirement already satisfied: pytz>=2017.3 in /usr/local/lib/python3.8/dist-packages (from pandas>=0.24.0->catboost) (2022.7.1)\n",
            "Requirement already satisfied: fonttools>=4.22.0 in /usr/local/lib/python3.8/dist-packages (from matplotlib->catboost) (4.38.0)\n",
            "Requirement already satisfied: pillow>=6.2.0 in /usr/local/lib/python3.8/dist-packages (from matplotlib->catboost) (7.1.2)\n",
            "Requirement already satisfied: packaging>=20.0 in /usr/local/lib/python3.8/dist-packages (from matplotlib->catboost) (23.0)\n",
            "Requirement already satisfied: cycler>=0.10 in /usr/local/lib/python3.8/dist-packages (from matplotlib->catboost) (0.11.0)\n",
            "Requirement already satisfied: kiwisolver>=1.0.1 in /usr/local/lib/python3.8/dist-packages (from matplotlib->catboost) (1.4.4)\n",
            "Requirement already satisfied: pyparsing>=2.2.1 in /usr/local/lib/python3.8/dist-packages (from matplotlib->catboost) (3.0.9)\n",
            "Requirement already satisfied: tenacity>=6.2.0 in /usr/local/lib/python3.8/dist-packages (from plotly->catboost) (8.2.1)\n",
            "Installing collected packages: catboost\n",
            "Successfully installed catboost-1.1.1\n"
          ]
        }
      ]
    },
    {
      "cell_type": "code",
      "source": [
        "from catboost import CatBoostClassifier, Pool"
      ],
      "metadata": {
        "id": "uRRHSA5gucsf"
      },
      "execution_count": 123,
      "outputs": []
    },
    {
      "cell_type": "code",
      "source": [
        "train_set = Pool(Xtrain, ytrain)\n",
        "test_set = Pool(Xtest, ytest)"
      ],
      "metadata": {
        "id": "RCvbWSzmwoUU"
      },
      "execution_count": 124,
      "outputs": []
    },
    {
      "cell_type": "markdown",
      "source": [
        "Попробуем перебрать несколько вариантов и с помощью этого получить лучшее сочетание параметров для нашей модели, а потом попробуем это сделать аналитически."
      ],
      "metadata": {
        "id": "lblVG-95vA5O"
      }
    },
    {
      "cell_type": "code",
      "source": [
        "max_iterations = range(1, 200)\n",
        "max_depth = range(1, 5)\n",
        "scores_data = pd.DataFrame()"
      ],
      "metadata": {
        "id": "2Hi4vYAH5zXU"
      },
      "execution_count": null,
      "outputs": []
    },
    {
      "cell_type": "code",
      "source": [
        "for iter in max_iterations:\n",
        "  for dep in max_depth:\n",
        "    gbm = CatBoostClassifier(iterations=iter,\n",
        "                              depth=dep,\n",
        "                              learning_rate=0.1,\n",
        "                              loss_function='Logloss',\n",
        "                              eval_metric='AUC',\n",
        "                              verbose=False)\n",
        "    gbm.fit(train_set, eval_set=test_set)\n",
        "    train_score = gbm.score(train_set)\n",
        "    test_score = gbm.score(test_set)\n",
        "    # gbm_preds = gbm.predict_proba(Xtest)\n",
        "\n",
        "    temp_scores_data = pd.DataFrame({\n",
        "        \"iter_depth\":[f\"{iter}-{dep}\"],\n",
        "        \"train_score\":[train_score],\n",
        "        \"test_score\":[test_score],\n",
        "        \"total_score\":[train_score + test_score],\n",
        "\n",
        "    })\n",
        "\n",
        "    scores_data = pd.concat([scores_data, temp_scores_data])"
      ],
      "metadata": {
        "id": "mTd4oPXSwsgG"
      },
      "execution_count": null,
      "outputs": []
    },
    {
      "cell_type": "code",
      "source": [
        "scores_data.plot(x=\"iter_depth\", y=[\"train_score\", \"test_score\"], legend=True)"
      ],
      "metadata": {
        "colab": {
          "base_uri": "https://localhost:8080/",
          "height": 297
        },
        "id": "5639_Y9fBWAu",
        "outputId": "194ea576-0735-4337-e8cf-d7b7cc468d55"
      },
      "execution_count": null,
      "outputs": [
        {
          "output_type": "execute_result",
          "data": {
            "text/plain": [
              "<AxesSubplot:xlabel='iter_depth'>"
            ]
          },
          "metadata": {},
          "execution_count": 115
        },
        {
          "output_type": "display_data",
          "data": {
            "text/plain": [
              "<Figure size 432x288 with 1 Axes>"
            ],
            "image/png": "[encoded data removed]"
          },
          "metadata": {
            "needs_background": "light"
          }
        }
      ]
    },
    {
      "cell_type": "code",
      "source": [
        "scores_data[scores_data.total_score == scores_data.total_score.max()]"
      ],
      "metadata": {
        "colab": {
          "base_uri": "https://localhost:8080/",
          "height": 81
        },
        "id": "ddJ9jbd_EZo4",
        "outputId": "602a11ea-04b7-4bbb-ca42-1f1eeaee0c31"
      },
      "execution_count": null,
      "outputs": [
        {
          "output_type": "execute_result",
          "data": {
            "text/plain": [
              "  iter_depth  train_score  test_score  total_score\n",
              "0       89-4     0.939878    0.937307     1.877185"
            ],
            "text/html": [
              "\n",
              "  <div id=\"df-878c04c6-d5f5-4c09-a8f7-91d4c85fbef4\">\n",
              "    <div class=\"colab-df-container\">\n",
              "      <div>\n",
              "<style scoped>\n",
              "    .dataframe tbody tr th:only-of-type {\n",
              "        vertical-align: middle;\n",
              "    }\n",
              "\n",
              "    .dataframe tbody tr th {\n",
              "        vertical-align: top;\n",
              "    }\n",
              "\n",
              "    .dataframe thead th {\n",
              "        text-align: right;\n",
              "    }\n",
              "</style>\n",
              "<table border=\"1\" class=\"dataframe\">\n",
              "  <thead>\n",
              "    <tr style=\"text-align: right;\">\n",
              "      <th></th>\n",
              "      <th>iter_depth</th>\n",
              "      <th>train_score</th>\n",
              "      <th>test_score</th>\n",
              "      <th>total_score</th>\n",
              "    </tr>\n",
              "  </thead>\n",
              "  <tbody>\n",
              "    <tr>\n",
              "      <th>0</th>\n",
              "      <td>89-4</td>\n",
              "      <td>0.939878</td>\n",
              "      <td>0.937307</td>\n",
              "      <td>1.877185</td>\n",
              "    </tr>\n",
              "  </tbody>\n",
              "</table>\n",
              "</div>\n",
              "      <button class=\"colab-df-convert\" onclick=\"convertToInteractive('df-878c04c6-d5f5-4c09-a8f7-91d4c85fbef4')\"\n",
              "              title=\"Convert this dataframe to an interactive table.\"\n",
              "              style=\"display:none;\">\n",
              "        \n",
              "  <svg xmlns=\"http://www.w3.org/2000/svg\" height=\"24px\"viewBox=\"0 0 24 24\"\n",
              "       width=\"24px\">\n",
              "    <path d=\"M0 0h24v24H0V0z\" fill=\"none\"/>\n",
              "    <path d=\"M18.56 5.44l.94 2.06.94-2.06 2.06-.94-2.06-.94-.94-2.06-.94 2.06-2.06.94zm-11 1L8.5 8.5l.94-2.06 2.06-.94-2.06-.94L8.5 2.5l-.94 2.06-2.06.94zm10 10l.94 2.06.94-2.06 2.06-.94-2.06-.94-.94-2.06-.94 2.06-2.06.94z\"/><path d=\"M17.41 7.96l-1.37-1.37c-.4-.4-.92-.59-1.43-.59-.52 0-1.04.2-1.43.59L10.3 9.45l-7.72 7.72c-.78.78-.78 2.05 0 2.83L4 21.41c.39.39.9.59 1.41.59.51 0 1.02-.2 1.41-.59l7.78-7.78 2.81-2.81c.8-.78.8-2.07 0-2.86zM5.41 20L4 18.59l7.72-7.72 1.47 1.35L5.41 20z\"/>\n",
              "  </svg>\n",
              "      </button>\n",
              "      \n",
              "  <style>\n",
              "    .colab-df-container {\n",
              "      display:flex;\n",
              "      flex-wrap:wrap;\n",
              "      gap: 12px;\n",
              "    }\n",
              "\n",
              "    .colab-df-convert {\n",
              "      background-color: #E8F0FE;\n",
              "      border: none;\n",
              "      border-radius: 50%;\n",
              "      cursor: pointer;\n",
              "      display: none;\n",
              "      fill: #1967D2;\n",
              "      height: 32px;\n",
              "      padding: 0 0 0 0;\n",
              "      width: 32px;\n",
              "    }\n",
              "\n",
              "    .colab-df-convert:hover {\n",
              "      background-color: #E2EBFA;\n",
              "      box-shadow: 0px 1px 2px rgba(60, 64, 67, 0.3), 0px 1px 3px 1px rgba(60, 64, 67, 0.15);\n",
              "      fill: #174EA6;\n",
              "    }\n",
              "\n",
              "    [theme=dark] .colab-df-convert {\n",
              "      background-color: #3B4455;\n",
              "      fill: #D2E3FC;\n",
              "    }\n",
              "\n",
              "    [theme=dark] .colab-df-convert:hover {\n",
              "      background-color: #434B5C;\n",
              "      box-shadow: 0px 1px 3px 1px rgba(0, 0, 0, 0.15);\n",
              "      filter: drop-shadow(0px 1px 2px rgba(0, 0, 0, 0.3));\n",
              "      fill: #FFFFFF;\n",
              "    }\n",
              "  </style>\n",
              "\n",
              "      <script>\n",
              "        const buttonEl =\n",
              "          document.querySelector('#df-878c04c6-d5f5-4c09-a8f7-91d4c85fbef4 button.colab-df-convert');\n",
              "        buttonEl.style.display =\n",
              "          google.colab.kernel.accessAllowed ? 'block' : 'none';\n",
              "\n",
              "        async function convertToInteractive(key) {\n",
              "          const element = document.querySelector('#df-878c04c6-d5f5-4c09-a8f7-91d4c85fbef4');\n",
              "          const dataTable =\n",
              "            await google.colab.kernel.invokeFunction('convertToInteractive',\n",
              "                                                     [key], {});\n",
              "          if (!dataTable) return;\n",
              "\n",
              "          const docLinkHtml = 'Like what you see? Visit the ' +\n",
              "            '<a target=\"_blank\" href=https://colab.research.google.com/notebooks/data_table.ipynb>data table notebook</a>'\n",
              "            + ' to learn more about interactive tables.';\n",
              "          element.innerHTML = '';\n",
              "          dataTable['output_type'] = 'display_data';\n",
              "          await google.colab.output.renderOutput(dataTable, element);\n",
              "          const docLink = document.createElement('div');\n",
              "          docLink.innerHTML = docLinkHtml;\n",
              "          element.appendChild(docLink);\n",
              "        }\n",
              "      </script>\n",
              "    </div>\n",
              "  </div>\n",
              "  "
            ]
          },
          "metadata": {},
          "execution_count": 116
        }
      ]
    },
    {
      "cell_type": "markdown",
      "source": [
        "Самые высокие показатели получились при iterations = 89 и при depth = 4"
      ],
      "metadata": {
        "id": "dCAteH70wq3k"
      }
    },
    {
      "cell_type": "code",
      "source": [
        "gbm = CatBoostClassifier(iterations=89,\n",
        "                          depth=4,\n",
        "                          learning_rate=0.1,\n",
        "                          loss_function='Logloss',\n",
        "                          eval_metric='AUC',\n",
        "                          verbose=False)\n",
        "gbm.fit(train_set, eval_set=test_set)\n",
        "gbm_preds = gbm.predict_proba(Xtest)"
      ],
      "metadata": {
        "id": "4nbmFprD7qWm"
      },
      "execution_count": 165,
      "outputs": []
    },
    {
      "cell_type": "code",
      "source": [
        "eval_metrics = gbm.get_evals_result()\n",
        "plt.plot(eval_metrics['validation']['AUC'])\n",
        "plt.xlabel('n_trees')\n",
        "plt.ylabel('AUC')\n",
        "plt.grid()"
      ],
      "metadata": {
        "colab": {
          "base_uri": "https://localhost:8080/",
          "height": 280
        },
        "id": "akS5eePXk_en",
        "outputId": "e565d873-9fb8-4890-b245-7300cb126a5d"
      },
      "execution_count": 166,
      "outputs": [
        {
          "output_type": "display_data",
          "data": {
            "text/plain": [
              "<Figure size 432x288 with 1 Axes>"
            ],
            "image/png": "[encoded data removed]"
          },
          "metadata": {
            "needs_background": "light"
          }
        }
      ]
    },
    {
      "cell_type": "code",
      "source": [
        "from sklearn import metrics\n",
        "\n",
        "gbm_classes = (gbm_preds[:, 1] > 0.4)\n",
        "print(\"precision: \", metrics.precision_score(ytest, gbm_classes))\n",
        "print(\"recall: \", metrics.recall_score(ytest, gbm_classes))\n",
        "print(\"auc-roc: \", metrics.roc_auc_score(ytest, gbm_preds[:, 1]))"
      ],
      "metadata": {
        "id": "PCRJA0gSfZBk",
        "outputId": "08b22017-aec0-4e6b-f5ed-a000bea93d14",
        "colab": {
          "base_uri": "https://localhost:8080/"
        }
      },
      "execution_count": 167,
      "outputs": [
        {
          "output_type": "stream",
          "name": "stdout",
          "text": [
            "precision:  0.5050167224080268\n",
            "recall:  0.18757763975155278\n",
            "auc-roc:  0.8143006944904437\n"
          ]
        }
      ]
    },
    {
      "cell_type": "markdown",
      "source": [
        "Получили не плохой результат, в целом auc-roc выше чем был раньше у линейной регрессии."
      ],
      "metadata": {
        "id": "V9TVlQDaxCIS"
      }
    },
    {
      "cell_type": "markdown",
      "source": [
        "Теперь попробуем подобрать параметры глядя на график."
      ],
      "metadata": {
        "id": "B6OvwzoWx3Hv"
      }
    },
    {
      "cell_type": "code",
      "source": [
        "gbm = CatBoostClassifier(iterations=500,\n",
        "                          depth=2,\n",
        "                          learning_rate=0.1,\n",
        "                          loss_function='Logloss',\n",
        "                          eval_metric='AUC',\n",
        "                          verbose=False)\n",
        "gbm.fit(train_set, eval_set=test_set)\n",
        "gbm_preds = gbm.predict_proba(Xtest)"
      ],
      "metadata": {
        "id": "bfS8vF6vx-Cy"
      },
      "execution_count": 147,
      "outputs": []
    },
    {
      "cell_type": "code",
      "source": [
        "eval_metrics = gbm.get_evals_result()\n",
        "plt.plot(eval_metrics['validation']['AUC'])\n",
        "plt.xlabel('n_trees')\n",
        "plt.ylabel('AUC')\n",
        "plt.grid()"
      ],
      "metadata": {
        "colab": {
          "base_uri": "https://localhost:8080/",
          "height": 280
        },
        "id": "h88tduXwyFs_",
        "outputId": "9e89c91c-79b8-4b07-acbe-04325f4611b3"
      },
      "execution_count": 148,
      "outputs": [
        {
          "output_type": "display_data",
          "data": {
            "text/plain": [
              "<Figure size 432x288 with 1 Axes>"
            ],
            "image/png": "[encoded data removed]"
          },
          "metadata": {
            "needs_background": "light"
          }
        }
      ]
    },
    {
      "cell_type": "markdown",
      "source": [
        "Кривая перестает расти примерно при iterations=320"
      ],
      "metadata": {
        "id": "hwE_GsMFzHKw"
      }
    },
    {
      "cell_type": "code",
      "source": [
        "gbm = CatBoostClassifier(iterations=320,\n",
        "                          depth=2,\n",
        "                          learning_rate=0.1,\n",
        "                          loss_function='Logloss',\n",
        "                          eval_metric='AUC',\n",
        "                          verbose=False)\n",
        "gbm.fit(train_set, eval_set=test_set)\n",
        "gbm_preds = gbm.predict_proba(Xtest)"
      ],
      "metadata": {
        "id": "6yyxJq1OzRNF"
      },
      "execution_count": 159,
      "outputs": []
    },
    {
      "cell_type": "code",
      "source": [
        "eval_metrics = gbm.get_evals_result()\n",
        "plt.plot(eval_metrics['validation']['AUC'])\n",
        "plt.xlabel('n_trees')\n",
        "plt.ylabel('AUC')\n",
        "plt.grid()"
      ],
      "metadata": {
        "colab": {
          "base_uri": "https://localhost:8080/",
          "height": 280
        },
        "id": "ku51h2dVzXKG",
        "outputId": "56148ede-ac3e-413a-98bf-d3413443343a"
      },
      "execution_count": 160,
      "outputs": [
        {
          "output_type": "display_data",
          "data": {
            "text/plain": [
              "<Figure size 432x288 with 1 Axes>"
            ],
            "image/png": "[encoded data removed]"
          },
          "metadata": {
            "needs_background": "light"
          }
        }
      ]
    },
    {
      "cell_type": "code",
      "source": [
        "gbm_classes = (gbm_preds[:, 1] > 0.4)\n",
        "print(\"precision: \", metrics.precision_score(ytest, gbm_classes))\n",
        "print(\"recall: \", metrics.recall_score(ytest, gbm_classes))\n",
        "print(\"auc-roc: \", metrics.roc_auc_score(ytest, gbm_preds[:, 1]))"
      ],
      "metadata": {
        "colab": {
          "base_uri": "https://localhost:8080/"
        },
        "id": "sJeBAaZVl0XQ",
        "outputId": "b34942f2-e403-4c42-f1e6-8b7457673238"
      },
      "execution_count": 164,
      "outputs": [
        {
          "output_type": "stream",
          "name": "stdout",
          "text": [
            "precision:  0.4960254372019078\n",
            "recall:  0.1937888198757764\n",
            "auc-roc:  0.8161809904259169\n"
          ]
        }
      ]
    },
    {
      "cell_type": "markdown",
      "source": [
        "Показатель auc-roc стал чуть выше но precision и recall получились выше в модели логистической регрессии"
      ],
      "metadata": {
        "id": "Wbgq3-Snz9tU"
      }
    },
    {
      "cell_type": "markdown",
      "source": [
        "В нашем dataset нет категориальных признаков, поэтому заниматься их обработкой мы не будем."
      ],
      "metadata": {
        "id": "n6Z5n6S50bwP"
      }
    }
  ],
  "metadata": {
    "kernelspec": {
      "display_name": "Python 3",
      "language": "python",
      "name": "python3"
    },
    "language_info": {
      "codemirror_mode": {
        "name": "ipython",
        "version": 3
      },
      "file_extension": ".py",
      "mimetype": "text/x-python",
      "name": "python",
      "nbconvert_exporter": "python",
      "pygments_lexer": "ipython3",
      "version": "3.7.6"
    },
    "colab": {
      "provenance": []
    }
  },
  "nbformat": 4,
  "nbformat_minor": 0
}